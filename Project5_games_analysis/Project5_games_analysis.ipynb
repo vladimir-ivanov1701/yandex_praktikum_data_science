{
 "cells": [
  {
   "cell_type": "markdown",
   "metadata": {},
   "source": [
    "## Шаг 1. Изучение исходных данных"
   ]
  },
  {
   "cell_type": "code",
   "execution_count": 1,
   "metadata": {},
   "outputs": [],
   "source": [
    "import pandas as pd\n",
    "from matplotlib import pyplot as plt\n",
    "from scipy import stats as st"
   ]
  },
  {
   "cell_type": "code",
   "execution_count": 2,
   "metadata": {},
   "outputs": [
    {
     "name": "stdout",
     "output_type": "stream",
     "text": [
      "<class 'pandas.core.frame.DataFrame'>\n",
      "RangeIndex: 16715 entries, 0 to 16714\n",
      "Data columns (total 11 columns):\n",
      "Name               16713 non-null object\n",
      "Platform           16715 non-null object\n",
      "Year_of_Release    16446 non-null float64\n",
      "Genre              16713 non-null object\n",
      "NA_sales           16715 non-null float64\n",
      "EU_sales           16715 non-null float64\n",
      "JP_sales           16715 non-null float64\n",
      "Other_sales        16715 non-null float64\n",
      "Critic_Score       8137 non-null float64\n",
      "User_Score         10014 non-null object\n",
      "Rating             9949 non-null object\n",
      "dtypes: float64(6), object(5)\n",
      "memory usage: 1.4+ MB\n",
      "None\n"
     ]
    },
    {
     "data": {
      "text/html": [
       "<div>\n",
       "<style scoped>\n",
       "    .dataframe tbody tr th:only-of-type {\n",
       "        vertical-align: middle;\n",
       "    }\n",
       "\n",
       "    .dataframe tbody tr th {\n",
       "        vertical-align: top;\n",
       "    }\n",
       "\n",
       "    .dataframe thead th {\n",
       "        text-align: right;\n",
       "    }\n",
       "</style>\n",
       "<table border=\"1\" class=\"dataframe\">\n",
       "  <thead>\n",
       "    <tr style=\"text-align: right;\">\n",
       "      <th></th>\n",
       "      <th>Name</th>\n",
       "      <th>Platform</th>\n",
       "      <th>Year_of_Release</th>\n",
       "      <th>Genre</th>\n",
       "      <th>NA_sales</th>\n",
       "      <th>EU_sales</th>\n",
       "      <th>JP_sales</th>\n",
       "      <th>Other_sales</th>\n",
       "      <th>Critic_Score</th>\n",
       "      <th>User_Score</th>\n",
       "      <th>Rating</th>\n",
       "    </tr>\n",
       "  </thead>\n",
       "  <tbody>\n",
       "    <tr>\n",
       "      <td>0</td>\n",
       "      <td>Wii Sports</td>\n",
       "      <td>Wii</td>\n",
       "      <td>2006.0</td>\n",
       "      <td>Sports</td>\n",
       "      <td>41.36</td>\n",
       "      <td>28.96</td>\n",
       "      <td>3.77</td>\n",
       "      <td>8.45</td>\n",
       "      <td>76.0</td>\n",
       "      <td>8</td>\n",
       "      <td>E</td>\n",
       "    </tr>\n",
       "    <tr>\n",
       "      <td>1</td>\n",
       "      <td>Super Mario Bros.</td>\n",
       "      <td>NES</td>\n",
       "      <td>1985.0</td>\n",
       "      <td>Platform</td>\n",
       "      <td>29.08</td>\n",
       "      <td>3.58</td>\n",
       "      <td>6.81</td>\n",
       "      <td>0.77</td>\n",
       "      <td>NaN</td>\n",
       "      <td>NaN</td>\n",
       "      <td>NaN</td>\n",
       "    </tr>\n",
       "    <tr>\n",
       "      <td>2</td>\n",
       "      <td>Mario Kart Wii</td>\n",
       "      <td>Wii</td>\n",
       "      <td>2008.0</td>\n",
       "      <td>Racing</td>\n",
       "      <td>15.68</td>\n",
       "      <td>12.76</td>\n",
       "      <td>3.79</td>\n",
       "      <td>3.29</td>\n",
       "      <td>82.0</td>\n",
       "      <td>8.3</td>\n",
       "      <td>E</td>\n",
       "    </tr>\n",
       "    <tr>\n",
       "      <td>3</td>\n",
       "      <td>Wii Sports Resort</td>\n",
       "      <td>Wii</td>\n",
       "      <td>2009.0</td>\n",
       "      <td>Sports</td>\n",
       "      <td>15.61</td>\n",
       "      <td>10.93</td>\n",
       "      <td>3.28</td>\n",
       "      <td>2.95</td>\n",
       "      <td>80.0</td>\n",
       "      <td>8</td>\n",
       "      <td>E</td>\n",
       "    </tr>\n",
       "    <tr>\n",
       "      <td>4</td>\n",
       "      <td>Pokemon Red/Pokemon Blue</td>\n",
       "      <td>GB</td>\n",
       "      <td>1996.0</td>\n",
       "      <td>Role-Playing</td>\n",
       "      <td>11.27</td>\n",
       "      <td>8.89</td>\n",
       "      <td>10.22</td>\n",
       "      <td>1.00</td>\n",
       "      <td>NaN</td>\n",
       "      <td>NaN</td>\n",
       "      <td>NaN</td>\n",
       "    </tr>\n",
       "  </tbody>\n",
       "</table>\n",
       "</div>"
      ],
      "text/plain": [
       "                       Name Platform  Year_of_Release         Genre  NA_sales  \\\n",
       "0                Wii Sports      Wii           2006.0        Sports     41.36   \n",
       "1         Super Mario Bros.      NES           1985.0      Platform     29.08   \n",
       "2            Mario Kart Wii      Wii           2008.0        Racing     15.68   \n",
       "3         Wii Sports Resort      Wii           2009.0        Sports     15.61   \n",
       "4  Pokemon Red/Pokemon Blue       GB           1996.0  Role-Playing     11.27   \n",
       "\n",
       "   EU_sales  JP_sales  Other_sales  Critic_Score User_Score Rating  \n",
       "0     28.96      3.77         8.45          76.0          8      E  \n",
       "1      3.58      6.81         0.77           NaN        NaN    NaN  \n",
       "2     12.76      3.79         3.29          82.0        8.3      E  \n",
       "3     10.93      3.28         2.95          80.0          8      E  \n",
       "4      8.89     10.22         1.00           NaN        NaN    NaN  "
      ]
     },
     "execution_count": 2,
     "metadata": {},
     "output_type": "execute_result"
    }
   ],
   "source": [
    "games_data = pd.read_csv('/datasets/games.csv')\n",
    "print(games_data.info())\n",
    "games_data.head()"
   ]
  },
  {
   "cell_type": "markdown",
   "metadata": {},
   "source": [
    "<u>Пустые данные:</u>\n",
    "- У двух игр нет названия. Можно дропнуть эти строки;\n",
    "- Около 250 строк не имеют года выпуска\n",
    "- Для двух игр не указан жанр;\n",
    "- Для половины строк не заполнено значение critic_score;\n",
    "- Около 6700 игр не имеют user_score и rating.\n",
    "\n",
    "В пустые года выхода подставляем значения годов для других платформ (как правило, игры выходят одновременно). Отсутствие значения рейтингов позволяет предположить, что у игры нет оценок. В таком случае можно заменить значения на 0, это будет отдельная категория рейтинга.\n",
    "\n"
   ]
  },
  {
   "cell_type": "markdown",
   "metadata": {},
   "source": [
    "## Шаг 2. Преобразование данных.\n",
    "- Все названия столбцов преобразуются к нижнему регистру;\n",
    "- year_of_release - заполнить пропуски по играм, в ненайденных подставить 0 и преобразовать в тип datetime. Год может отсутствовать, т.к. нет данных в источнике либо игра не выходила на определённой платформе. В данном случае можно подставить значения выхода на других платформах, т.к. как правило, игры выходят одновременно везде.\n",
    "- na_sales, eu_sales, jp_sales и other_sales - подставить 0 в пропуски и округлить до 2 знаков. Здесь либо нет данных по продажам (игра не выходила на определённый рынок), либо продажи малы.\n",
    "- critic_score - заполнить пропуски нулями и округлить до 1 знака после запятой. Мы не можем рассчитать оценки, поэтому подставим 0. Это позволит в будущем работать с отдельной категорией игр, у которых нет оценки.\n",
    "- user_score - аналогично critic_score, подставить 0 и округлить до 1 знака. В столбце есть значения tbd. Их меняем на NaN и тоже подставляем 0, т.к. мы не можем рассчитать отсутствующие значения.\n",
    "- rating - мы не можем рассчитать рейтинг по жанрам, т.к. внутри каждого жанра очень большой разброс (в каждом жанре есть игры разных рейтингов). Поэтому подставим 0 и в дальнейшем будем рассматривать эту категорию отдельно. Произойти так могло потому, что возрастные рейтинги стали присваиваться с определённого года, и старые игры остались без рейтинга."
   ]
  },
  {
   "cell_type": "code",
   "execution_count": 3,
   "metadata": {},
   "outputs": [
    {
     "name": "stdout",
     "output_type": "stream",
     "text": [
      "<class 'pandas.core.frame.DataFrame'>\n",
      "Int64Index: 16713 entries, 0 to 16714\n",
      "Data columns (total 11 columns):\n",
      "name               16713 non-null object\n",
      "platform           16713 non-null object\n",
      "year_of_release    16567 non-null float64\n",
      "genre              16713 non-null object\n",
      "na_sales           16713 non-null float64\n",
      "eu_sales           16713 non-null float64\n",
      "jp_sales           16713 non-null float64\n",
      "other_sales        16713 non-null float64\n",
      "critic_score       8137 non-null float64\n",
      "user_score         10014 non-null object\n",
      "rating             9949 non-null object\n",
      "dtypes: float64(6), object(5)\n",
      "memory usage: 1.5+ MB\n"
     ]
    }
   ],
   "source": [
    "<div style=\"border:solid green 2px; padding: 20px\"> <h1 style=\"color:green; margin-bottom:20px\">Комментарий наставника</h1>\n",
    "    \n",
    "Отличное начало, радует,что проводишь первичный анализ полученных данных и пишешь выводы#переводим названия столбоцв в нижний регистр\n",
    "games_data.columns = games_data.columns.str.lower()\n",
    "#убираем 2 игры без названия\n",
    "games_data = games_data.dropna(subset=['name'])\n",
    "\n",
    "#заполняем пропуски по году: составляем список игр, где год указан, выделяем год и проставляем его в исходной таблице.\n",
    "not_null_year = games_data.loc[games_data['year_of_release'].notnull()]\n",
    "game_list = not_null_year['name'].unique()\n",
    "\n",
    "for game in game_list:\n",
    "    release_year = not_null_year.loc[not_null_year['name'] == game].iloc[0]['year_of_release']\n",
    "    games_data.loc[games_data['name'] == game, 'year_of_release'] = release_year\n",
    "\n",
    "games_data.info()"
   ]
  },
  {
   "cell_type": "code",
   "execution_count": 4,
   "metadata": {},
   "outputs": [],
   "source": [
    "#где не указан год, подставляем 0 и приводим к типу int\n",
    "games_data['year_of_release'] = games_data['year_of_release'].fillna(1900) #1900 - это 0 в годах\n",
    "games_data['year_of_release'] = pd.to_datetime(games_data['year_of_release'], format='%Y')"
   ]
  },
  {
   "cell_type": "code",
   "execution_count": 5,
   "metadata": {},
   "outputs": [],
   "source": [
    "#заполняем остальные пропуски и преобразуем типы данных\n",
    "games_data[['na_sales', 'eu_sales', 'jp_sales', 'other_sales']] = (\n",
    "    games_data[['na_sales', 'eu_sales', 'jp_sales', 'other_sales']].round(2))\n",
    "games_data.loc[games_data['user_score']== 'tbd', 'user_score'] = 0\n",
    "games_data[['critic_score', 'user_score']] = games_data[['critic_score', 'user_score']].fillna(0).astype('float').round(1)\n",
    "games_data['rating'] = games_data['rating'].fillna(0)"
   ]
  },
  {
   "cell_type": "code",
   "execution_count": 6,
   "metadata": {},
   "outputs": [
    {
     "name": "stdout",
     "output_type": "stream",
     "text": [
      "<class 'pandas.core.frame.DataFrame'>\n",
      "Int64Index: 16713 entries, 0 to 16714\n",
      "Data columns (total 11 columns):\n",
      "name               16713 non-null object\n",
      "platform           16713 non-null object\n",
      "year_of_release    16713 non-null datetime64[ns]\n",
      "genre              16713 non-null object\n",
      "na_sales           16713 non-null float64\n",
      "eu_sales           16713 non-null float64\n",
      "jp_sales           16713 non-null float64\n",
      "other_sales        16713 non-null float64\n",
      "critic_score       16713 non-null float64\n",
      "user_score         16713 non-null float64\n",
      "rating             16713 non-null object\n",
      "dtypes: datetime64[ns](1), float64(6), object(4)\n",
      "memory usage: 1.5+ MB\n",
      "None\n"
     ]
    },
    {
     "data": {
      "text/html": [
       "<div>\n",
       "<style scoped>\n",
       "    .dataframe tbody tr th:only-of-type {\n",
       "        vertical-align: middle;\n",
       "    }\n",
       "\n",
       "    .dataframe tbody tr th {\n",
       "        vertical-align: top;\n",
       "    }\n",
       "\n",
       "    .dataframe thead th {\n",
       "        text-align: right;\n",
       "    }\n",
       "</style>\n",
       "<table border=\"1\" class=\"dataframe\">\n",
       "  <thead>\n",
       "    <tr style=\"text-align: right;\">\n",
       "      <th></th>\n",
       "      <th>name</th>\n",
       "      <th>platform</th>\n",
       "      <th>year_of_release</th>\n",
       "      <th>genre</th>\n",
       "      <th>na_sales</th>\n",
       "      <th>eu_sales</th>\n",
       "      <th>jp_sales</th>\n",
       "      <th>other_sales</th>\n",
       "      <th>critic_score</th>\n",
       "      <th>user_score</th>\n",
       "      <th>rating</th>\n",
       "    </tr>\n",
       "  </thead>\n",
       "  <tbody>\n",
       "    <tr>\n",
       "      <td>0</td>\n",
       "      <td>Wii Sports</td>\n",
       "      <td>Wii</td>\n",
       "      <td>2006-01-01</td>\n",
       "      <td>Sports</td>\n",
       "      <td>41.36</td>\n",
       "      <td>28.96</td>\n",
       "      <td>3.77</td>\n",
       "      <td>8.45</td>\n",
       "      <td>76.0</td>\n",
       "      <td>8.0</td>\n",
       "      <td>E</td>\n",
       "    </tr>\n",
       "    <tr>\n",
       "      <td>1</td>\n",
       "      <td>Super Mario Bros.</td>\n",
       "      <td>NES</td>\n",
       "      <td>1985-01-01</td>\n",
       "      <td>Platform</td>\n",
       "      <td>29.08</td>\n",
       "      <td>3.58</td>\n",
       "      <td>6.81</td>\n",
       "      <td>0.77</td>\n",
       "      <td>0.0</td>\n",
       "      <td>0.0</td>\n",
       "      <td>0</td>\n",
       "    </tr>\n",
       "    <tr>\n",
       "      <td>2</td>\n",
       "      <td>Mario Kart Wii</td>\n",
       "      <td>Wii</td>\n",
       "      <td>2008-01-01</td>\n",
       "      <td>Racing</td>\n",
       "      <td>15.68</td>\n",
       "      <td>12.76</td>\n",
       "      <td>3.79</td>\n",
       "      <td>3.29</td>\n",
       "      <td>82.0</td>\n",
       "      <td>8.3</td>\n",
       "      <td>E</td>\n",
       "    </tr>\n",
       "    <tr>\n",
       "      <td>3</td>\n",
       "      <td>Wii Sports Resort</td>\n",
       "      <td>Wii</td>\n",
       "      <td>2009-01-01</td>\n",
       "      <td>Sports</td>\n",
       "      <td>15.61</td>\n",
       "      <td>10.93</td>\n",
       "      <td>3.28</td>\n",
       "      <td>2.95</td>\n",
       "      <td>80.0</td>\n",
       "      <td>8.0</td>\n",
       "      <td>E</td>\n",
       "    </tr>\n",
       "    <tr>\n",
       "      <td>4</td>\n",
       "      <td>Pokemon Red/Pokemon Blue</td>\n",
       "      <td>GB</td>\n",
       "      <td>1996-01-01</td>\n",
       "      <td>Role-Playing</td>\n",
       "      <td>11.27</td>\n",
       "      <td>8.89</td>\n",
       "      <td>10.22</td>\n",
       "      <td>1.00</td>\n",
       "      <td>0.0</td>\n",
       "      <td>0.0</td>\n",
       "      <td>0</td>\n",
       "    </tr>\n",
       "    <tr>\n",
       "      <td>5</td>\n",
       "      <td>Tetris</td>\n",
       "      <td>GB</td>\n",
       "      <td>1989-01-01</td>\n",
       "      <td>Puzzle</td>\n",
       "      <td>23.20</td>\n",
       "      <td>2.26</td>\n",
       "      <td>4.22</td>\n",
       "      <td>0.58</td>\n",
       "      <td>0.0</td>\n",
       "      <td>0.0</td>\n",
       "      <td>0</td>\n",
       "    </tr>\n",
       "    <tr>\n",
       "      <td>6</td>\n",
       "      <td>New Super Mario Bros.</td>\n",
       "      <td>DS</td>\n",
       "      <td>2006-01-01</td>\n",
       "      <td>Platform</td>\n",
       "      <td>11.28</td>\n",
       "      <td>9.14</td>\n",
       "      <td>6.50</td>\n",
       "      <td>2.88</td>\n",
       "      <td>89.0</td>\n",
       "      <td>8.5</td>\n",
       "      <td>E</td>\n",
       "    </tr>\n",
       "    <tr>\n",
       "      <td>7</td>\n",
       "      <td>Wii Play</td>\n",
       "      <td>Wii</td>\n",
       "      <td>2006-01-01</td>\n",
       "      <td>Misc</td>\n",
       "      <td>13.96</td>\n",
       "      <td>9.18</td>\n",
       "      <td>2.93</td>\n",
       "      <td>2.84</td>\n",
       "      <td>58.0</td>\n",
       "      <td>6.6</td>\n",
       "      <td>E</td>\n",
       "    </tr>\n",
       "    <tr>\n",
       "      <td>8</td>\n",
       "      <td>New Super Mario Bros. Wii</td>\n",
       "      <td>Wii</td>\n",
       "      <td>2009-01-01</td>\n",
       "      <td>Platform</td>\n",
       "      <td>14.44</td>\n",
       "      <td>6.94</td>\n",
       "      <td>4.70</td>\n",
       "      <td>2.24</td>\n",
       "      <td>87.0</td>\n",
       "      <td>8.4</td>\n",
       "      <td>E</td>\n",
       "    </tr>\n",
       "    <tr>\n",
       "      <td>9</td>\n",
       "      <td>Duck Hunt</td>\n",
       "      <td>NES</td>\n",
       "      <td>1984-01-01</td>\n",
       "      <td>Shooter</td>\n",
       "      <td>26.93</td>\n",
       "      <td>0.63</td>\n",
       "      <td>0.28</td>\n",
       "      <td>0.47</td>\n",
       "      <td>0.0</td>\n",
       "      <td>0.0</td>\n",
       "      <td>0</td>\n",
       "    </tr>\n",
       "  </tbody>\n",
       "</table>\n",
       "</div>"
      ],
      "text/plain": [
       "                        name platform year_of_release         genre  na_sales  \\\n",
       "0                 Wii Sports      Wii      2006-01-01        Sports     41.36   \n",
       "1          Super Mario Bros.      NES      1985-01-01      Platform     29.08   \n",
       "2             Mario Kart Wii      Wii      2008-01-01        Racing     15.68   \n",
       "3          Wii Sports Resort      Wii      2009-01-01        Sports     15.61   \n",
       "4   Pokemon Red/Pokemon Blue       GB      1996-01-01  Role-Playing     11.27   \n",
       "5                     Tetris       GB      1989-01-01        Puzzle     23.20   \n",
       "6      New Super Mario Bros.       DS      2006-01-01      Platform     11.28   \n",
       "7                   Wii Play      Wii      2006-01-01          Misc     13.96   \n",
       "8  New Super Mario Bros. Wii      Wii      2009-01-01      Platform     14.44   \n",
       "9                  Duck Hunt      NES      1984-01-01       Shooter     26.93   \n",
       "\n",
       "   eu_sales  jp_sales  other_sales  critic_score  user_score rating  \n",
       "0     28.96      3.77         8.45          76.0         8.0      E  \n",
       "1      3.58      6.81         0.77           0.0         0.0      0  \n",
       "2     12.76      3.79         3.29          82.0         8.3      E  \n",
       "3     10.93      3.28         2.95          80.0         8.0      E  \n",
       "4      8.89     10.22         1.00           0.0         0.0      0  \n",
       "5      2.26      4.22         0.58           0.0         0.0      0  \n",
       "6      9.14      6.50         2.88          89.0         8.5      E  \n",
       "7      9.18      2.93         2.84          58.0         6.6      E  \n",
       "8      6.94      4.70         2.24          87.0         8.4      E  \n",
       "9      0.63      0.28         0.47           0.0         0.0      0  "
      ]
     },
     "execution_count": 6,
     "metadata": {},
     "output_type": "execute_result"
    }
   ],
   "source": [
    "#смотрим информацию об обновленном датафрейме\n",
    "print(games_data.info())\n",
    "games_data.head(10)"
   ]
  },
  {
   "cell_type": "code",
   "execution_count": 7,
   "metadata": {},
   "outputs": [],
   "source": [
    "#суммарные продажи в регионах\n",
    "games_data['total_sales'] = games_data['na_sales'] + games_data['eu_sales'] + (\n",
    "    games_data['jp_sales'] + games_data['other_sales'])"
   ]
  },
  {
   "cell_type": "markdown",
   "metadata": {},
   "source": [
    "## Шаг 3. Исследовательский анализ данных."
   ]
  },
  {
   "cell_type": "code",
   "execution_count": 8,
   "metadata": {},
   "outputs": [
    {
     "data": {
      "image/png": "[encoded data removed]",
      "text/plain": [
       "<Figure size 576x360 with 1 Axes>"
      ]
     },
     "metadata": {
      "needs_background": "light"
     },
     "output_type": "display_data"
    }
   ],
   "source": [
    "#выводим статистику по годам\n",
    "games_per_year = (games_data[['name', 'year_of_release']]\n",
    "                  .drop_duplicates()\n",
    "                  .pivot_table(index='year_of_release', values='name', aggfunc='count')\n",
    "                  .sort_values(by='year_of_release', ascending=True)\n",
    "                 )\n",
    "(games_per_year.plot(figsize=(8, 5), title='Количество игр по годам', legend=False)\n",
    " .set(xlabel = 'Год выхода', ylabel = 'Кол-во игр'))\n",
    "plt.show()"
   ]
  },
  {
   "cell_type": "markdown",
   "metadata": {},
   "source": [
    "На графике виден быстрый рост с 1995 года по 2010 и затем падение. Имеет смысл смотреть данные начиная с 2010 года."
   ]
  },
  {
   "cell_type": "code",
   "execution_count": 9,
   "metadata": {},
   "outputs": [
    {
     "data": {
      "text/html": [
       "<div>\n",
       "<style scoped>\n",
       "    .dataframe tbody tr th:only-of-type {\n",
       "        vertical-align: middle;\n",
       "    }\n",
       "\n",
       "    .dataframe tbody tr th {\n",
       "        vertical-align: top;\n",
       "    }\n",
       "\n",
       "    .dataframe thead th {\n",
       "        text-align: right;\n",
       "    }\n",
       "</style>\n",
       "<table border=\"1\" class=\"dataframe\">\n",
       "  <thead>\n",
       "    <tr style=\"text-align: right;\">\n",
       "      <th></th>\n",
       "      <th>total_sales</th>\n",
       "    </tr>\n",
       "    <tr>\n",
       "      <th>platform</th>\n",
       "      <th></th>\n",
       "    </tr>\n",
       "  </thead>\n",
       "  <tbody>\n",
       "    <tr>\n",
       "      <td>PS2</td>\n",
       "      <td>1029.07</td>\n",
       "    </tr>\n",
       "    <tr>\n",
       "      <td>X360</td>\n",
       "      <td>892.50</td>\n",
       "    </tr>\n",
       "    <tr>\n",
       "      <td>PS3</td>\n",
       "      <td>846.36</td>\n",
       "    </tr>\n",
       "    <tr>\n",
       "      <td>Wii</td>\n",
       "      <td>795.90</td>\n",
       "    </tr>\n",
       "    <tr>\n",
       "      <td>DS</td>\n",
       "      <td>646.88</td>\n",
       "    </tr>\n",
       "    <tr>\n",
       "      <td>PS</td>\n",
       "      <td>615.39</td>\n",
       "    </tr>\n",
       "    <tr>\n",
       "      <td>PS4</td>\n",
       "      <td>300.57</td>\n",
       "    </tr>\n",
       "    <tr>\n",
       "      <td>GB</td>\n",
       "      <td>254.97</td>\n",
       "    </tr>\n",
       "    <tr>\n",
       "      <td>GBA</td>\n",
       "      <td>254.19</td>\n",
       "    </tr>\n",
       "    <tr>\n",
       "      <td>NES</td>\n",
       "      <td>247.18</td>\n",
       "    </tr>\n",
       "    <tr>\n",
       "      <td>3DS</td>\n",
       "      <td>238.76</td>\n",
       "    </tr>\n",
       "    <tr>\n",
       "      <td>PSP</td>\n",
       "      <td>237.24</td>\n",
       "    </tr>\n",
       "    <tr>\n",
       "      <td>PC</td>\n",
       "      <td>234.27</td>\n",
       "    </tr>\n",
       "    <tr>\n",
       "      <td>N64</td>\n",
       "      <td>200.68</td>\n",
       "    </tr>\n",
       "    <tr>\n",
       "      <td>XB</td>\n",
       "      <td>196.30</td>\n",
       "    </tr>\n",
       "    <tr>\n",
       "      <td>SNES</td>\n",
       "      <td>189.78</td>\n",
       "    </tr>\n",
       "    <tr>\n",
       "      <td>GC</td>\n",
       "      <td>161.01</td>\n",
       "    </tr>\n",
       "    <tr>\n",
       "      <td>XOne</td>\n",
       "      <td>152.82</td>\n",
       "    </tr>\n",
       "    <tr>\n",
       "      <td>2600</td>\n",
       "      <td>91.92</td>\n",
       "    </tr>\n",
       "    <tr>\n",
       "      <td>WiiU</td>\n",
       "      <td>79.67</td>\n",
       "    </tr>\n",
       "    <tr>\n",
       "      <td>PSV</td>\n",
       "      <td>42.13</td>\n",
       "    </tr>\n",
       "    <tr>\n",
       "      <td>GEN</td>\n",
       "      <td>28.04</td>\n",
       "    </tr>\n",
       "    <tr>\n",
       "      <td>SAT</td>\n",
       "      <td>26.01</td>\n",
       "    </tr>\n",
       "    <tr>\n",
       "      <td>DC</td>\n",
       "      <td>15.43</td>\n",
       "    </tr>\n",
       "    <tr>\n",
       "      <td>SCD</td>\n",
       "      <td>1.86</td>\n",
       "    </tr>\n",
       "    <tr>\n",
       "      <td>NG</td>\n",
       "      <td>1.44</td>\n",
       "    </tr>\n",
       "    <tr>\n",
       "      <td>WS</td>\n",
       "      <td>1.42</td>\n",
       "    </tr>\n",
       "    <tr>\n",
       "      <td>TG16</td>\n",
       "      <td>0.16</td>\n",
       "    </tr>\n",
       "    <tr>\n",
       "      <td>3DO</td>\n",
       "      <td>0.10</td>\n",
       "    </tr>\n",
       "    <tr>\n",
       "      <td>GG</td>\n",
       "      <td>0.04</td>\n",
       "    </tr>\n",
       "    <tr>\n",
       "      <td>PCFX</td>\n",
       "      <td>0.03</td>\n",
       "    </tr>\n",
       "  </tbody>\n",
       "</table>\n",
       "</div>"
      ],
      "text/plain": [
       "          total_sales\n",
       "platform             \n",
       "PS2           1029.07\n",
       "X360           892.50\n",
       "PS3            846.36\n",
       "Wii            795.90\n",
       "DS             646.88\n",
       "PS             615.39\n",
       "PS4            300.57\n",
       "GB             254.97\n",
       "GBA            254.19\n",
       "NES            247.18\n",
       "3DS            238.76\n",
       "PSP            237.24\n",
       "PC             234.27\n",
       "N64            200.68\n",
       "XB             196.30\n",
       "SNES           189.78\n",
       "GC             161.01\n",
       "XOne           152.82\n",
       "2600            91.92\n",
       "WiiU            79.67\n",
       "PSV             42.13\n",
       "GEN             28.04\n",
       "SAT             26.01\n",
       "DC              15.43\n",
       "SCD              1.86\n",
       "NG               1.44\n",
       "WS               1.42\n",
       "TG16             0.16\n",
       "3DO              0.10\n",
       "GG               0.04\n",
       "PCFX             0.03"
      ]
     },
     "execution_count": 9,
     "metadata": {},
     "output_type": "execute_result"
    }
   ],
   "source": [
    "#динамика продаж по платформам\n",
    "sales_per_platform = (games_data[['platform','year_of_release', 'total_sales']]\n",
    "                      .drop_duplicates()\n",
    "                      .pivot_table(index='platform', values='total_sales', aggfunc='sum')\n",
    "                      .sort_values(by='total_sales', ascending=False))\n",
    "sales_per_platform"
   ]
  },
  {
   "cell_type": "code",
   "execution_count": 10,
   "metadata": {},
   "outputs": [
    {
     "data": {
      "text/plain": [
       "<function matplotlib.pyplot.show(*args, **kw)>"
      ]
     },
     "execution_count": 10,
     "metadata": {},
     "output_type": "execute_result"
    },
    {
     "data": {
      "image/png": "[encoded data removed]",
      "text/plain": [
       "<Figure size 576x360 with 1 Axes>"
      ]
     },
     "metadata": {
      "needs_background": "light"
     },
     "output_type": "display_data"
    },
    {
     "data": {
      "image/png": "[encoded data removed]",
      "text/plain": [
       "<Figure size 576x360 with 1 Axes>"
      ]
     },
     "metadata": {
      "needs_background": "light"
     },
     "output_type": "display_data"
    },
    {
     "data": {
      "image/png": "[encoded data removed]",
      "text/plain": [
       "<Figure size 576x360 with 1 Axes>"
      ]
     },
     "metadata": {
      "needs_background": "light"
     },
     "output_type": "display_data"
    },
    {
     "data": {
      "image/png": "[encoded data removed]",
      "text/plain": [
       "<Figure size 576x360 with 1 Axes>"
      ]
     },
     "metadata": {
      "needs_background": "light"
     },
     "output_type": "display_data"
    },
    {
     "data": {
      "image/png": "[encoded data removed]",
      "text/plain": [
       "<Figure size 576x360 with 1 Axes>"
      ]
     },
     "metadata": {
      "needs_background": "light"
     },
     "output_type": "display_data"
    }
   ],
   "source": [
    "sales_top_platforms = sales_per_platform.head(5) #посмотрим на топ-5 кассовых платформ\n",
    "for platform in sales_top_platforms.index:\n",
    "    (games_data.loc[games_data['platform'] == platform]\n",
    "     .pivot_table(index='year_of_release', values='total_sales', aggfunc='sum')\n",
    "        .plot(figsize=(8, 5), title = platform, legend=False)\n",
    "    .set(xlabel = 'Годы', ylabel = 'Объём продаж'))\n",
    "plt.show"
   ]
  },
  {
   "cell_type": "markdown",
   "metadata": {},
   "source": [
    "Можно сделать вывод, что платформа в среднем живёт около 10 лет, причём пик объёма продаж приходится на середину этого срока. Если взять данные с 2010 года, то в 2016 году как раз должен быть пик актуальных платформ. С этими данными и будем работать."
   ]
  },
  {
   "cell_type": "code",
   "execution_count": 11,
   "metadata": {},
   "outputs": [
    {
     "name": "stdout",
     "output_type": "stream",
     "text": [
      "<class 'pandas.core.frame.DataFrame'>\n",
      "Int64Index: 5245 entries, 14 to 16714\n",
      "Data columns (total 12 columns):\n",
      "name               5245 non-null object\n",
      "platform           5245 non-null object\n",
      "year_of_release    5245 non-null datetime64[ns]\n",
      "genre              5245 non-null object\n",
      "na_sales           5245 non-null float64\n",
      "eu_sales           5245 non-null float64\n",
      "jp_sales           5245 non-null float64\n",
      "other_sales        5245 non-null float64\n",
      "critic_score       5245 non-null float64\n",
      "user_score         5245 non-null float64\n",
      "rating             5245 non-null object\n",
      "total_sales        5245 non-null float64\n",
      "dtypes: datetime64[ns](1), float64(7), object(4)\n",
      "memory usage: 532.7+ KB\n",
      "None\n"
     ]
    },
    {
     "data": {
      "text/html": [
       "<div>\n",
       "<style scoped>\n",
       "    .dataframe tbody tr th:only-of-type {\n",
       "        vertical-align: middle;\n",
       "    }\n",
       "\n",
       "    .dataframe tbody tr th {\n",
       "        vertical-align: top;\n",
       "    }\n",
       "\n",
       "    .dataframe thead th {\n",
       "        text-align: right;\n",
       "    }\n",
       "</style>\n",
       "<table border=\"1\" class=\"dataframe\">\n",
       "  <thead>\n",
       "    <tr style=\"text-align: right;\">\n",
       "      <th></th>\n",
       "      <th>name</th>\n",
       "      <th>platform</th>\n",
       "      <th>year_of_release</th>\n",
       "      <th>genre</th>\n",
       "      <th>na_sales</th>\n",
       "      <th>eu_sales</th>\n",
       "      <th>jp_sales</th>\n",
       "      <th>other_sales</th>\n",
       "      <th>critic_score</th>\n",
       "      <th>user_score</th>\n",
       "      <th>rating</th>\n",
       "      <th>total_sales</th>\n",
       "    </tr>\n",
       "  </thead>\n",
       "  <tbody>\n",
       "    <tr>\n",
       "      <td>14</td>\n",
       "      <td>Kinect Adventures!</td>\n",
       "      <td>X360</td>\n",
       "      <td>2010-01-01</td>\n",
       "      <td>Misc</td>\n",
       "      <td>15.00</td>\n",
       "      <td>4.89</td>\n",
       "      <td>0.24</td>\n",
       "      <td>1.69</td>\n",
       "      <td>61.0</td>\n",
       "      <td>6.3</td>\n",
       "      <td>E</td>\n",
       "      <td>21.82</td>\n",
       "    </tr>\n",
       "    <tr>\n",
       "      <td>16</td>\n",
       "      <td>Grand Theft Auto V</td>\n",
       "      <td>PS3</td>\n",
       "      <td>2013-01-01</td>\n",
       "      <td>Action</td>\n",
       "      <td>7.02</td>\n",
       "      <td>9.09</td>\n",
       "      <td>0.98</td>\n",
       "      <td>3.96</td>\n",
       "      <td>97.0</td>\n",
       "      <td>8.2</td>\n",
       "      <td>M</td>\n",
       "      <td>21.05</td>\n",
       "    </tr>\n",
       "    <tr>\n",
       "      <td>23</td>\n",
       "      <td>Grand Theft Auto V</td>\n",
       "      <td>X360</td>\n",
       "      <td>2013-01-01</td>\n",
       "      <td>Action</td>\n",
       "      <td>9.66</td>\n",
       "      <td>5.14</td>\n",
       "      <td>0.06</td>\n",
       "      <td>1.41</td>\n",
       "      <td>97.0</td>\n",
       "      <td>8.1</td>\n",
       "      <td>M</td>\n",
       "      <td>16.27</td>\n",
       "    </tr>\n",
       "    <tr>\n",
       "      <td>27</td>\n",
       "      <td>Pokemon Black/Pokemon White</td>\n",
       "      <td>DS</td>\n",
       "      <td>2010-01-01</td>\n",
       "      <td>Role-Playing</td>\n",
       "      <td>5.51</td>\n",
       "      <td>3.17</td>\n",
       "      <td>5.65</td>\n",
       "      <td>0.80</td>\n",
       "      <td>0.0</td>\n",
       "      <td>0.0</td>\n",
       "      <td>0</td>\n",
       "      <td>15.13</td>\n",
       "    </tr>\n",
       "    <tr>\n",
       "      <td>29</td>\n",
       "      <td>Call of Duty: Modern Warfare 3</td>\n",
       "      <td>X360</td>\n",
       "      <td>2011-01-01</td>\n",
       "      <td>Shooter</td>\n",
       "      <td>9.04</td>\n",
       "      <td>4.24</td>\n",
       "      <td>0.13</td>\n",
       "      <td>1.32</td>\n",
       "      <td>88.0</td>\n",
       "      <td>3.4</td>\n",
       "      <td>M</td>\n",
       "      <td>14.73</td>\n",
       "    </tr>\n",
       "    <tr>\n",
       "      <td>31</td>\n",
       "      <td>Call of Duty: Black Ops 3</td>\n",
       "      <td>PS4</td>\n",
       "      <td>2015-01-01</td>\n",
       "      <td>Shooter</td>\n",
       "      <td>6.03</td>\n",
       "      <td>5.86</td>\n",
       "      <td>0.36</td>\n",
       "      <td>2.38</td>\n",
       "      <td>0.0</td>\n",
       "      <td>0.0</td>\n",
       "      <td>0</td>\n",
       "      <td>14.63</td>\n",
       "    </tr>\n",
       "    <tr>\n",
       "      <td>32</td>\n",
       "      <td>Call of Duty: Black Ops</td>\n",
       "      <td>X360</td>\n",
       "      <td>2010-01-01</td>\n",
       "      <td>Shooter</td>\n",
       "      <td>9.70</td>\n",
       "      <td>3.68</td>\n",
       "      <td>0.11</td>\n",
       "      <td>1.13</td>\n",
       "      <td>87.0</td>\n",
       "      <td>6.3</td>\n",
       "      <td>M</td>\n",
       "      <td>14.62</td>\n",
       "    </tr>\n",
       "    <tr>\n",
       "      <td>33</td>\n",
       "      <td>Pokemon X/Pokemon Y</td>\n",
       "      <td>3DS</td>\n",
       "      <td>2013-01-01</td>\n",
       "      <td>Role-Playing</td>\n",
       "      <td>5.28</td>\n",
       "      <td>4.19</td>\n",
       "      <td>4.35</td>\n",
       "      <td>0.78</td>\n",
       "      <td>0.0</td>\n",
       "      <td>0.0</td>\n",
       "      <td>0</td>\n",
       "      <td>14.60</td>\n",
       "    </tr>\n",
       "    <tr>\n",
       "      <td>34</td>\n",
       "      <td>Call of Duty: Black Ops II</td>\n",
       "      <td>PS3</td>\n",
       "      <td>2012-01-01</td>\n",
       "      <td>Shooter</td>\n",
       "      <td>4.99</td>\n",
       "      <td>5.73</td>\n",
       "      <td>0.65</td>\n",
       "      <td>2.42</td>\n",
       "      <td>83.0</td>\n",
       "      <td>5.3</td>\n",
       "      <td>M</td>\n",
       "      <td>13.79</td>\n",
       "    </tr>\n",
       "    <tr>\n",
       "      <td>35</td>\n",
       "      <td>Call of Duty: Black Ops II</td>\n",
       "      <td>X360</td>\n",
       "      <td>2012-01-01</td>\n",
       "      <td>Shooter</td>\n",
       "      <td>8.25</td>\n",
       "      <td>4.24</td>\n",
       "      <td>0.07</td>\n",
       "      <td>1.12</td>\n",
       "      <td>83.0</td>\n",
       "      <td>4.8</td>\n",
       "      <td>M</td>\n",
       "      <td>13.68</td>\n",
       "    </tr>\n",
       "  </tbody>\n",
       "</table>\n",
       "</div>"
      ],
      "text/plain": [
       "                              name platform year_of_release         genre  \\\n",
       "14              Kinect Adventures!     X360      2010-01-01          Misc   \n",
       "16              Grand Theft Auto V      PS3      2013-01-01        Action   \n",
       "23              Grand Theft Auto V     X360      2013-01-01        Action   \n",
       "27     Pokemon Black/Pokemon White       DS      2010-01-01  Role-Playing   \n",
       "29  Call of Duty: Modern Warfare 3     X360      2011-01-01       Shooter   \n",
       "31       Call of Duty: Black Ops 3      PS4      2015-01-01       Shooter   \n",
       "32         Call of Duty: Black Ops     X360      2010-01-01       Shooter   \n",
       "33             Pokemon X/Pokemon Y      3DS      2013-01-01  Role-Playing   \n",
       "34      Call of Duty: Black Ops II      PS3      2012-01-01       Shooter   \n",
       "35      Call of Duty: Black Ops II     X360      2012-01-01       Shooter   \n",
       "\n",
       "    na_sales  eu_sales  jp_sales  other_sales  critic_score  user_score  \\\n",
       "14     15.00      4.89      0.24         1.69          61.0         6.3   \n",
       "16      7.02      9.09      0.98         3.96          97.0         8.2   \n",
       "23      9.66      5.14      0.06         1.41          97.0         8.1   \n",
       "27      5.51      3.17      5.65         0.80           0.0         0.0   \n",
       "29      9.04      4.24      0.13         1.32          88.0         3.4   \n",
       "31      6.03      5.86      0.36         2.38           0.0         0.0   \n",
       "32      9.70      3.68      0.11         1.13          87.0         6.3   \n",
       "33      5.28      4.19      4.35         0.78           0.0         0.0   \n",
       "34      4.99      5.73      0.65         2.42          83.0         5.3   \n",
       "35      8.25      4.24      0.07         1.12          83.0         4.8   \n",
       "\n",
       "   rating  total_sales  \n",
       "14      E        21.82  \n",
       "16      M        21.05  \n",
       "23      M        16.27  \n",
       "27      0        15.13  \n",
       "29      M        14.73  \n",
       "31      0        14.63  \n",
       "32      M        14.62  \n",
       "33      0        14.60  \n",
       "34      M        13.79  \n",
       "35      M        13.68  "
      ]
     },
     "execution_count": 11,
     "metadata": {},
     "output_type": "execute_result"
    }
   ],
   "source": [
    "#отбираем данные с 2010 года\n",
    "actual_data = games_data.loc[games_data['year_of_release'] >= '2010-01-01']\n",
    "print(actual_data.info())\n",
    "actual_data.head(10)"
   ]
  },
  {
   "cell_type": "code",
   "execution_count": 12,
   "metadata": {},
   "outputs": [],
   "source": [
    "#смотрим динамику по годам для актуальных платформ\n",
    "actual_data_pt = (actual_data.pivot_table(index='platform', columns='year_of_release', \n",
    "                                         values='total_sales', aggfunc='sum', margins=True)\n",
    "                  .sort_values(by='All', ascending=False))\n",
    "actual_data_pt.columns=[2010, 2011, 2012, 2013, 2014, 2015, 2016, 'All']"
   ]
  },
  {
   "cell_type": "code",
   "execution_count": 13,
   "metadata": {},
   "outputs": [
    {
     "data": {
      "text/html": [
       "<div>\n",
       "<style scoped>\n",
       "    .dataframe tbody tr th:only-of-type {\n",
       "        vertical-align: middle;\n",
       "    }\n",
       "\n",
       "    .dataframe tbody tr th {\n",
       "        vertical-align: top;\n",
       "    }\n",
       "\n",
       "    .dataframe thead th {\n",
       "        text-align: right;\n",
       "    }\n",
       "</style>\n",
       "<table border=\"1\" class=\"dataframe\">\n",
       "  <thead>\n",
       "    <tr style=\"text-align: right;\">\n",
       "      <th></th>\n",
       "      <th>2010</th>\n",
       "      <th>2011</th>\n",
       "      <th>2012</th>\n",
       "      <th>2013</th>\n",
       "      <th>2014</th>\n",
       "      <th>2015</th>\n",
       "      <th>2016</th>\n",
       "    </tr>\n",
       "    <tr>\n",
       "      <th>platform</th>\n",
       "      <th></th>\n",
       "      <th></th>\n",
       "      <th></th>\n",
       "      <th></th>\n",
       "      <th></th>\n",
       "      <th></th>\n",
       "      <th></th>\n",
       "    </tr>\n",
       "  </thead>\n",
       "  <tbody>\n",
       "    <tr>\n",
       "      <td>PS3</td>\n",
       "      <td>142.30</td>\n",
       "      <td>154.59</td>\n",
       "      <td>106.88</td>\n",
       "      <td>111.38</td>\n",
       "      <td>42.45</td>\n",
       "      <td>16.55</td>\n",
       "      <td>3.60</td>\n",
       "    </tr>\n",
       "    <tr>\n",
       "      <td>X360</td>\n",
       "      <td>166.36</td>\n",
       "      <td>145.28</td>\n",
       "      <td>99.62</td>\n",
       "      <td>85.66</td>\n",
       "      <td>35.41</td>\n",
       "      <td>11.65</td>\n",
       "      <td>1.52</td>\n",
       "    </tr>\n",
       "    <tr>\n",
       "      <td>PS4</td>\n",
       "      <td>1.46</td>\n",
       "      <td>1.47</td>\n",
       "      <td>3.82</td>\n",
       "      <td>51.30</td>\n",
       "      <td>74.02</td>\n",
       "      <td>115.26</td>\n",
       "      <td>66.06</td>\n",
       "    </tr>\n",
       "    <tr>\n",
       "      <td>3DS</td>\n",
       "      <td>3.15</td>\n",
       "      <td>58.86</td>\n",
       "      <td>50.51</td>\n",
       "      <td>53.07</td>\n",
       "      <td>43.04</td>\n",
       "      <td>26.16</td>\n",
       "      <td>14.61</td>\n",
       "    </tr>\n",
       "    <tr>\n",
       "      <td>Wii</td>\n",
       "      <td>125.29</td>\n",
       "      <td>62.11</td>\n",
       "      <td>22.94</td>\n",
       "      <td>8.59</td>\n",
       "      <td>3.75</td>\n",
       "      <td>1.19</td>\n",
       "      <td>0.18</td>\n",
       "    </tr>\n",
       "    <tr>\n",
       "      <td>XOne</td>\n",
       "      <td>0.01</td>\n",
       "      <td>0.79</td>\n",
       "      <td>1.39</td>\n",
       "      <td>28.90</td>\n",
       "      <td>44.15</td>\n",
       "      <td>58.75</td>\n",
       "      <td>25.24</td>\n",
       "    </tr>\n",
       "    <tr>\n",
       "      <td>PC</td>\n",
       "      <td>26.61</td>\n",
       "      <td>34.34</td>\n",
       "      <td>23.27</td>\n",
       "      <td>14.08</td>\n",
       "      <td>12.51</td>\n",
       "      <td>8.46</td>\n",
       "      <td>5.06</td>\n",
       "    </tr>\n",
       "    <tr>\n",
       "      <td>DS</td>\n",
       "      <td>82.41</td>\n",
       "      <td>26.36</td>\n",
       "      <td>11.65</td>\n",
       "      <td>1.78</td>\n",
       "      <td>NaN</td>\n",
       "      <td>0.06</td>\n",
       "      <td>NaN</td>\n",
       "    </tr>\n",
       "  </tbody>\n",
       "</table>\n",
       "</div>"
      ],
      "text/plain": [
       "            2010    2011    2012    2013   2014    2015   2016\n",
       "platform                                                      \n",
       "PS3       142.30  154.59  106.88  111.38  42.45   16.55   3.60\n",
       "X360      166.36  145.28   99.62   85.66  35.41   11.65   1.52\n",
       "PS4         1.46    1.47    3.82   51.30  74.02  115.26  66.06\n",
       "3DS         3.15   58.86   50.51   53.07  43.04   26.16  14.61\n",
       "Wii       125.29   62.11   22.94    8.59   3.75    1.19   0.18\n",
       "XOne        0.01    0.79    1.39   28.90  44.15   58.75  25.24\n",
       "PC         26.61   34.34   23.27   14.08  12.51    8.46   5.06\n",
       "DS         82.41   26.36   11.65    1.78    NaN    0.06    NaN"
      ]
     },
     "execution_count": 13,
     "metadata": {},
     "output_type": "execute_result"
    }
   ],
   "source": [
    "#отсеиваем платформы с продажами менее 100 млн\n",
    "actual_data_pt = actual_data_pt.loc[actual_data_pt['All'] > 100]\n",
    "actual_data_pt = actual_data_pt.drop(columns='All') #убираем итог, чтобы он не мешал на графике\n",
    "actual_data_pt = actual_data_pt.drop(index='All')\n",
    "actual_data_pt"
   ]
  },
  {
   "cell_type": "code",
   "execution_count": 14,
   "metadata": {},
   "outputs": [
    {
     "data": {
      "text/plain": [
       "[Text(0, 0.5, 'Объём продаж, млн.$'), Text(0.5, 0, 'Годы')]"
      ]
     },
     "execution_count": 14,
     "metadata": {},
     "output_type": "execute_result"
    },
    {
     "data": {
      "image/png": "[encoded data removed]",
      "text/plain": [
       "<Figure size 576x360 with 1 Axes>"
      ]
     },
     "metadata": {
      "needs_background": "light"
     },
     "output_type": "display_data"
    }
   ],
   "source": [
    "#строим графики\n",
    "actual_data_pt = actual_data_pt.transpose() #транспонируем, чтобы нормально построился график\n",
    "actual_data_pt.plot(figsize=(8, 5), \n",
    "                    title = (\"Статистика продаж по платформам\")).set(xlabel='Годы', ylabel='Объём продаж, млн.$')"
   ]
  },
  {
   "cell_type": "markdown",
   "metadata": {},
   "source": [
    "На графике видно, что в 2016 году рынок игр просел по всем платформам. При этом наиболее прибыльными остаются PS4 и XOne, за ними идет 3DS. Рост PS4 и XOne начался в 2012 году, помня о 10-летнем цикле жизни модели, можно сказать, что эти платформы будут актуальны в ближайшее время. Что касается 3DS, её рост начался в 2011 году и в 2017 она всё ещё будет актуальна, но продажи у неё значительно ниже.\n",
    "\n",
    "Исходя из вышеописанного, для дальнейшего анализа берём платформы PS4, XOne и 3DS."
   ]
  },
  {
   "cell_type": "code",
   "execution_count": 15,
   "metadata": {},
   "outputs": [],
   "source": [
    "#строим сводную таблицу по играм и платформам\n",
    "games_sales_per_platform = games_data.pivot_table(index='name', columns='platform', values='total_sales', aggfunc='sum')\n",
    "#отбираем актуальные платформы и сразу заполняем пропуски\n",
    "games_actual_platforms = games_sales_per_platform[['PS4', 'XOne', '3DS']].fillna(0)\n",
    "#games_actual_platforms = games_actual_platforms.fillna(0)"
   ]
  },
  {
   "cell_type": "markdown",
   "metadata": {},
   "source": [
    "Теперь нам нужно посмотреть, на каких платформах игры продаются лучше. Для этого отбираем те игры, которые выходили на нескольких платформах одновременно."
   ]
  },
  {
   "cell_type": "code",
   "execution_count": 16,
   "metadata": {},
   "outputs": [
    {
     "data": {
      "text/html": [
       "<div>\n",
       "<style scoped>\n",
       "    .dataframe tbody tr th:only-of-type {\n",
       "        vertical-align: middle;\n",
       "    }\n",
       "\n",
       "    .dataframe tbody tr th {\n",
       "        vertical-align: top;\n",
       "    }\n",
       "\n",
       "    .dataframe thead th {\n",
       "        text-align: right;\n",
       "    }\n",
       "</style>\n",
       "<table border=\"1\" class=\"dataframe\">\n",
       "  <thead>\n",
       "    <tr style=\"text-align: right;\">\n",
       "      <th>platform</th>\n",
       "      <th>PS4</th>\n",
       "      <th>XOne</th>\n",
       "      <th>3DS</th>\n",
       "    </tr>\n",
       "    <tr>\n",
       "      <th>name</th>\n",
       "      <th></th>\n",
       "      <th></th>\n",
       "      <th></th>\n",
       "    </tr>\n",
       "  </thead>\n",
       "  <tbody>\n",
       "    <tr>\n",
       "      <td>7 Days to Die</td>\n",
       "      <td>0.14</td>\n",
       "      <td>0.05</td>\n",
       "      <td>0.00</td>\n",
       "    </tr>\n",
       "    <tr>\n",
       "      <td>Adventure Time: Finn &amp; Jake Investigations</td>\n",
       "      <td>0.10</td>\n",
       "      <td>0.05</td>\n",
       "      <td>0.09</td>\n",
       "    </tr>\n",
       "    <tr>\n",
       "      <td>Agatha Christie's The ABC Murders</td>\n",
       "      <td>0.02</td>\n",
       "      <td>0.01</td>\n",
       "      <td>0.00</td>\n",
       "    </tr>\n",
       "    <tr>\n",
       "      <td>Alien: Isolation</td>\n",
       "      <td>1.12</td>\n",
       "      <td>0.50</td>\n",
       "      <td>0.00</td>\n",
       "    </tr>\n",
       "    <tr>\n",
       "      <td>Angry Birds Star Wars</td>\n",
       "      <td>0.22</td>\n",
       "      <td>0.17</td>\n",
       "      <td>0.33</td>\n",
       "    </tr>\n",
       "    <tr>\n",
       "      <td>...</td>\n",
       "      <td>...</td>\n",
       "      <td>...</td>\n",
       "      <td>...</td>\n",
       "    </tr>\n",
       "    <tr>\n",
       "      <td>Wolfenstein: The Old Blood</td>\n",
       "      <td>0.43</td>\n",
       "      <td>0.15</td>\n",
       "      <td>0.00</td>\n",
       "    </tr>\n",
       "    <tr>\n",
       "      <td>Worms: WMD</td>\n",
       "      <td>0.03</td>\n",
       "      <td>0.01</td>\n",
       "      <td>0.00</td>\n",
       "    </tr>\n",
       "    <tr>\n",
       "      <td>XCOM 2</td>\n",
       "      <td>0.14</td>\n",
       "      <td>0.04</td>\n",
       "      <td>0.00</td>\n",
       "    </tr>\n",
       "    <tr>\n",
       "      <td>ZombiU</td>\n",
       "      <td>0.06</td>\n",
       "      <td>0.01</td>\n",
       "      <td>0.00</td>\n",
       "    </tr>\n",
       "    <tr>\n",
       "      <td>Zombie Army Trilogy</td>\n",
       "      <td>0.20</td>\n",
       "      <td>0.11</td>\n",
       "      <td>0.00</td>\n",
       "    </tr>\n",
       "  </tbody>\n",
       "</table>\n",
       "<p>217 rows × 3 columns</p>\n",
       "</div>"
      ],
      "text/plain": [
       "platform                                     PS4  XOne   3DS\n",
       "name                                                        \n",
       "7 Days to Die                               0.14  0.05  0.00\n",
       "Adventure Time: Finn & Jake Investigations  0.10  0.05  0.09\n",
       "Agatha Christie's The ABC Murders           0.02  0.01  0.00\n",
       "Alien: Isolation                            1.12  0.50  0.00\n",
       "Angry Birds Star Wars                       0.22  0.17  0.33\n",
       "...                                          ...   ...   ...\n",
       "Wolfenstein: The Old Blood                  0.43  0.15  0.00\n",
       "Worms: WMD                                  0.03  0.01  0.00\n",
       "XCOM 2                                      0.14  0.04  0.00\n",
       "ZombiU                                      0.06  0.01  0.00\n",
       "Zombie Army Trilogy                         0.20  0.11  0.00\n",
       "\n",
       "[217 rows x 3 columns]"
      ]
     },
     "execution_count": 16,
     "metadata": {},
     "output_type": "execute_result"
    }
   ],
   "source": [
    "games_actual_platforms = games_actual_platforms.query('PS4 > 0 & XOne > 0')\n",
    "games_actual_platforms"
   ]
  },
  {
   "cell_type": "code",
   "execution_count": 17,
   "metadata": {},
   "outputs": [
    {
     "data": {
      "image/png": "[encoded data removed]",
      "text/plain": [
       "<Figure size 1296x360 with 1 Axes>"
      ]
     },
     "metadata": {
      "needs_background": "light"
     },
     "output_type": "display_data"
    }
   ],
   "source": [
    "(games_actual_platforms.boxplot(figsize=(18, 5), vert=False)\n",
    "    .set(title='Распределение доходов от игр', xlabel='Продажи, млн.$', ylabel='Платформа'))\n",
    "plt.show()"
   ]
  },
  {
   "cell_type": "markdown",
   "metadata": {},
   "source": [
    "В случае с 3DS кросс-платформенных проектов мало и доходность по ним ниже. Очевидно, что покупатели предпочитают XOne и PS4. У обеих этих платформ медиана доходности смещена влево. Это свидетельствует о том, что и там, и там достаточно много мелких игр. Однако \"ящик\" более растянут вправо в случае с PS4, это говорит о том, что там больше игр с высокой доходностью.\n",
    "\n",
    "Таким образом, при планировании продаж имеет смысл сфокусироваться на играх, выпущенных в первую очередь для PS4 и XOne. Далее необходимо проверить, коррелируют ли продажи с отзывами критиков и пользователей. Проверять будем на PS4 как на самой прибыльной перспективной платформе."
   ]
  },
  {
   "cell_type": "code",
   "execution_count": 18,
   "metadata": {},
   "outputs": [
    {
     "data": {
      "text/html": [
       "<div>\n",
       "<style scoped>\n",
       "    .dataframe tbody tr th:only-of-type {\n",
       "        vertical-align: middle;\n",
       "    }\n",
       "\n",
       "    .dataframe tbody tr th {\n",
       "        vertical-align: top;\n",
       "    }\n",
       "\n",
       "    .dataframe thead th {\n",
       "        text-align: right;\n",
       "    }\n",
       "</style>\n",
       "<table border=\"1\" class=\"dataframe\">\n",
       "  <thead>\n",
       "    <tr style=\"text-align: right;\">\n",
       "      <th></th>\n",
       "      <th>name</th>\n",
       "      <th>platform</th>\n",
       "      <th>year_of_release</th>\n",
       "      <th>critic_score</th>\n",
       "      <th>user_score</th>\n",
       "      <th>total_sales</th>\n",
       "    </tr>\n",
       "  </thead>\n",
       "  <tbody>\n",
       "    <tr>\n",
       "      <td>31</td>\n",
       "      <td>Call of Duty: Black Ops 3</td>\n",
       "      <td>PS4</td>\n",
       "      <td>2015-01-01</td>\n",
       "      <td>0.0</td>\n",
       "      <td>0.0</td>\n",
       "      <td>14.63</td>\n",
       "    </tr>\n",
       "    <tr>\n",
       "      <td>42</td>\n",
       "      <td>Grand Theft Auto V</td>\n",
       "      <td>PS4</td>\n",
       "      <td>2013-01-01</td>\n",
       "      <td>97.0</td>\n",
       "      <td>8.3</td>\n",
       "      <td>12.62</td>\n",
       "    </tr>\n",
       "    <tr>\n",
       "      <td>77</td>\n",
       "      <td>FIFA 16</td>\n",
       "      <td>PS4</td>\n",
       "      <td>2015-01-01</td>\n",
       "      <td>82.0</td>\n",
       "      <td>4.3</td>\n",
       "      <td>8.58</td>\n",
       "    </tr>\n",
       "    <tr>\n",
       "      <td>87</td>\n",
       "      <td>Star Wars Battlefront (2015)</td>\n",
       "      <td>PS4</td>\n",
       "      <td>2015-01-01</td>\n",
       "      <td>0.0</td>\n",
       "      <td>0.0</td>\n",
       "      <td>7.98</td>\n",
       "    </tr>\n",
       "    <tr>\n",
       "      <td>92</td>\n",
       "      <td>Call of Duty: Advanced Warfare</td>\n",
       "      <td>PS4</td>\n",
       "      <td>2014-01-01</td>\n",
       "      <td>83.0</td>\n",
       "      <td>5.7</td>\n",
       "      <td>7.66</td>\n",
       "    </tr>\n",
       "    <tr>\n",
       "      <td>...</td>\n",
       "      <td>...</td>\n",
       "      <td>...</td>\n",
       "      <td>...</td>\n",
       "      <td>...</td>\n",
       "      <td>...</td>\n",
       "      <td>...</td>\n",
       "    </tr>\n",
       "    <tr>\n",
       "      <td>16500</td>\n",
       "      <td>Root Letter</td>\n",
       "      <td>PS4</td>\n",
       "      <td>2016-01-01</td>\n",
       "      <td>69.0</td>\n",
       "      <td>7.5</td>\n",
       "      <td>0.01</td>\n",
       "    </tr>\n",
       "    <tr>\n",
       "      <td>16503</td>\n",
       "      <td>Shin Hayarigami 2</td>\n",
       "      <td>PS4</td>\n",
       "      <td>2016-01-01</td>\n",
       "      <td>0.0</td>\n",
       "      <td>0.0</td>\n",
       "      <td>0.01</td>\n",
       "    </tr>\n",
       "    <tr>\n",
       "      <td>16526</td>\n",
       "      <td>Dungeons 2</td>\n",
       "      <td>PS4</td>\n",
       "      <td>2016-01-01</td>\n",
       "      <td>61.0</td>\n",
       "      <td>7.9</td>\n",
       "      <td>0.01</td>\n",
       "    </tr>\n",
       "    <tr>\n",
       "      <td>16530</td>\n",
       "      <td>Carmageddon: Max Damage</td>\n",
       "      <td>PS4</td>\n",
       "      <td>2016-01-01</td>\n",
       "      <td>51.0</td>\n",
       "      <td>5.5</td>\n",
       "      <td>0.01</td>\n",
       "    </tr>\n",
       "    <tr>\n",
       "      <td>16585</td>\n",
       "      <td>Farming 2017 - The Simulation</td>\n",
       "      <td>PS4</td>\n",
       "      <td>2016-01-01</td>\n",
       "      <td>0.0</td>\n",
       "      <td>0.0</td>\n",
       "      <td>0.01</td>\n",
       "    </tr>\n",
       "  </tbody>\n",
       "</table>\n",
       "<p>387 rows × 6 columns</p>\n",
       "</div>"
      ],
      "text/plain": [
       "                                 name platform year_of_release  critic_score  \\\n",
       "31          Call of Duty: Black Ops 3      PS4      2015-01-01           0.0   \n",
       "42                 Grand Theft Auto V      PS4      2013-01-01          97.0   \n",
       "77                            FIFA 16      PS4      2015-01-01          82.0   \n",
       "87       Star Wars Battlefront (2015)      PS4      2015-01-01           0.0   \n",
       "92     Call of Duty: Advanced Warfare      PS4      2014-01-01          83.0   \n",
       "...                               ...      ...             ...           ...   \n",
       "16500                     Root Letter      PS4      2016-01-01          69.0   \n",
       "16503               Shin Hayarigami 2      PS4      2016-01-01           0.0   \n",
       "16526                      Dungeons 2      PS4      2016-01-01          61.0   \n",
       "16530         Carmageddon: Max Damage      PS4      2016-01-01          51.0   \n",
       "16585   Farming 2017 - The Simulation      PS4      2016-01-01           0.0   \n",
       "\n",
       "       user_score  total_sales  \n",
       "31            0.0        14.63  \n",
       "42            8.3        12.62  \n",
       "77            4.3         8.58  \n",
       "87            0.0         7.98  \n",
       "92            5.7         7.66  \n",
       "...           ...          ...  \n",
       "16500         7.5         0.01  \n",
       "16503         0.0         0.01  \n",
       "16526         7.9         0.01  \n",
       "16530         5.5         0.01  \n",
       "16585         0.0         0.01  \n",
       "\n",
       "[387 rows x 6 columns]"
      ]
     },
     "execution_count": 18,
     "metadata": {},
     "output_type": "execute_result"
    }
   ],
   "source": [
    "#отбираем данные для построения диаграммы\n",
    "scatter_data = games_data.query('platform == \"PS4\" & year_of_release >= \"2010-01-01\"')\n",
    "scatter_data = scatter_data[['name', 'platform', 'year_of_release', 'critic_score', 'user_score', 'total_sales']]\n",
    "scatter_data"
   ]
  },
  {
   "cell_type": "markdown",
   "metadata": {},
   "source": [
    "Из таблицы видно, что критики оценивают игру по 100-балльной шкале, а пользователи - по 10-балльной. Чтобы корректно отразить оценки на графике, приводим их к единому значению."
   ]
  },
  {
   "cell_type": "code",
   "execution_count": 19,
   "metadata": {},
   "outputs": [
    {
     "data": {
      "image/png": "[encoded data removed]",
      "text/plain": [
       "<Figure size 432x288 with 1 Axes>"
      ]
     },
     "metadata": {
      "needs_background": "light"
     },
     "output_type": "display_data"
    }
   ],
   "source": [
    "scatter_data['user_score_100'] = scatter_data['user_score'] * 10\n",
    "scatter_critic = plt.scatter(scatter_data['critic_score'], scatter_data['total_sales'], alpha=0.5)\n",
    "scatter_user = plt.scatter(scatter_data['user_score_100'], scatter_data['total_sales'], alpha=0.3, color='green')\n",
    "plt.title('Корреляция оценок критиков и продаж платформы PS4')\n",
    "plt.xlabel('Оценки')\n",
    "plt.ylabel('Продажи, млн.$')\n",
    "plt.legend((scatter_critic, scatter_user), ('Критики', 'Пользователи'), scatterpoints=1, loc='upper right')\n",
    "plt.show()"
   ]
  },
  {
   "cell_type": "markdown",
   "metadata": {},
   "source": [
    "В случае с оценками критиков всё закономерно - чем выше оценка, тем выше продажи. Что касается пользовательских оценок, не всё так однозначно. Достаточно много игр с хорошими оценками и низкими продажами, что объясняется большим количеством не очень популярных малобюджетных проектов. При этом для некоторых игр с высокими продажами и высокими оценками критиков пользовательские оценки находятся в районе 50. Это допустимо, т.к. не всегда пользователи сходятся во мнениях с критиками. В целом по графику можно говорить о наличии прямой корреляции между оценкой критиков и уровнем продаж.\n",
    "\n",
    "Теперь проверим, работает ли такая корреляция для 2 других платформ."
   ]
  },
  {
   "cell_type": "code",
   "execution_count": 20,
   "metadata": {},
   "outputs": [
    {
     "data": {
      "image/png": "[encoded data removed]",
      "text/plain": [
       "<Figure size 1080x360 with 1 Axes>"
      ]
     },
     "metadata": {
      "needs_background": "light"
     },
     "output_type": "display_data"
    },
    {
     "data": {
      "image/png": "[encoded data removed]",
      "text/plain": [
       "<Figure size 1080x360 with 1 Axes>"
      ]
     },
     "metadata": {
      "needs_background": "light"
     },
     "output_type": "display_data"
    }
   ],
   "source": [
    "<div style=\"border:solid green 2px; padding: 20px\"> <h1 style=\"color:green; margin-bottom:20px\">Комментарий наставника</h1>\n",
    "\n",
    "очень детально подходишь к работе, верные выводы, здорово!)#для XOne\n",
    "scatter_data = games_data.query('platform == \"XOne\" & year_of_release >= \"2010-01-01\"')\n",
    "scatter_data = scatter_data[['name', 'platform', 'year_of_release', 'critic_score', 'user_score', 'total_sales']]\n",
    "scatter_data['user_score_100'] = scatter_data['user_score'] * 10\n",
    "plt.figure(figsize=(15, 5))\n",
    "scatter_critic = plt.scatter(scatter_data['critic_score'], scatter_data['total_sales'], alpha=0.5)\n",
    "scatter_user = plt.scatter(scatter_data['user_score_100'], scatter_data['total_sales'], alpha=0.3, color='green')\n",
    "plt.title('Корреляция оценок критиков и продаж платформы XOne')\n",
    "plt.xlabel('Оценки')\n",
    "plt.ylabel('Продажи, млн.$')\n",
    "plt.legend((scatter_critic, scatter_user), ('Критики', 'Пользователи'), scatterpoints=1, loc='upper right')\n",
    "plt.show()\n",
    "\n",
    "#для 3DS\n",
    "scatter_data = games_data.query('platform == \"3DS\" & year_of_release >= \"2010-01-01\"')\n",
    "scatter_data = scatter_data[['name', 'platform', 'year_of_release', 'critic_score', 'user_score', 'total_sales']]\n",
    "scatter_data['user_score_100'] = scatter_data['user_score'] * 10\n",
    "plt.figure(figsize=(15, 5))\n",
    "scatter_critic = plt.scatter(scatter_data['critic_score'], scatter_data['total_sales'], alpha=0.5)\n",
    "scatter_user = plt.scatter(scatter_data['user_score_100'], scatter_data['total_sales'], alpha=0.3, color='green')\n",
    "plt.title('Корреляция оценок критиков и продаж платформы 3DS')\n",
    "plt.xlabel('Оценки')\n",
    "plt.ylabel('Продажи, млн.$')\n",
    "plt.legend((scatter_critic, scatter_user), ('Критики', 'Пользователи'), scatterpoints=1, loc='upper right')\n",
    "plt.show()"
   ]
  },
  {
   "cell_type": "markdown",
   "metadata": {},
   "source": [
    "Для XOne видно, что зависимость есть, причём пользователи чаще соглашаются в своих оценках с критиками. А вот на 3DS, несмотря на высокие оценки и критиков, и пользователей, продажи почти не растут. Исключение составляют буквально около 10 самых популярных игр. Можно сделать вывод, что 3DS является некой платформой для фанатов игр под неё.\n",
    "\n",
    "Теперь посмотрим на распределение по жанрам."
   ]
  },
  {
   "cell_type": "code",
   "execution_count": 21,
   "metadata": {},
   "outputs": [
    {
     "data": {
      "image/png": "[encoded data removed]",
      "text/plain": [
       "<Figure size 1080x360 with 1 Axes>"
      ]
     },
     "metadata": {
      "needs_background": "light"
     },
     "output_type": "display_data"
    }
   ],
   "source": [
    "#распределение игр по жанрам\n",
    "games_per_genre = games_data.pivot_table(index='genre', values='name', aggfunc='count')\n",
    "plt.figure(figsize=(15, 5))\n",
    "plt.bar(games_per_genre.index, games_per_genre['name'])\n",
    "plt.title('Распределение игр по жанрам')\n",
    "plt.xlabel('Жанры')\n",
    "plt.ylabel('Количество игр, шт.')\n",
    "plt.show()"
   ]
  },
  {
   "cell_type": "code",
   "execution_count": 22,
   "metadata": {},
   "outputs": [
    {
     "data": {
      "image/png": "[encoded data removed]",
      "text/plain": [
       "<Figure size 1080x360 with 1 Axes>"
      ]
     },
     "metadata": {
      "needs_background": "light"
     },
     "output_type": "display_data"
    }
   ],
   "source": [
    "#продажи по жанрам\n",
    "sales_per_genre = games_data.pivot_table(index='genre', values='total_sales', aggfunc='sum')\n",
    "plt.figure(figsize=(15, 5))\n",
    "plt.bar(sales_per_genre.index, sales_per_genre['total_sales'])\n",
    "plt.title('Продажи по жанрам')\n",
    "plt.xlabel('Жанры')\n",
    "plt.ylabel('Продажи, млн.$')\n",
    "plt.show()"
   ]
  },
  {
   "cell_type": "markdown",
   "metadata": {},
   "source": [
    "<b>Вывод:</b> больше всего игр выходит в жанрах Action и Sports. При этом эти же жанры являются самыми продаваемыми, с небольшим отставанием идёт Shooter, и за ним все остальные. Наименее популярны Adventure, Fighting, Puzzle, Simulation и Strategy, при том что меньше всего игр в Puzzle и Strategy. Можно сделать вывод, что подобные жанры не особо интересны игрокам."
   ]
  },
  {
   "cell_type": "markdown",
   "metadata": {},
   "source": [
    "## Шаг 4. Портреты пользователей\n",
    "\n",
    "Задача: определить для пользователя каждого региона (NA, EU, JP):\n",
    "- Самые популярные платформы (топ-5). Описать различия в долях продаж.\n",
    "- Самые популярные жанры (топ-5).\n",
    "- Проверить, влияет ли рейтинг ESRB на продажи в отдельном регионе."
   ]
  },
  {
   "cell_type": "code",
   "execution_count": 23,
   "metadata": {},
   "outputs": [
    {
     "data": {
      "text/html": [
       "<div>\n",
       "<style scoped>\n",
       "    .dataframe tbody tr th:only-of-type {\n",
       "        vertical-align: middle;\n",
       "    }\n",
       "\n",
       "    .dataframe tbody tr th {\n",
       "        vertical-align: top;\n",
       "    }\n",
       "\n",
       "    .dataframe thead th {\n",
       "        text-align: right;\n",
       "    }\n",
       "</style>\n",
       "<table border=\"1\" class=\"dataframe\">\n",
       "  <thead>\n",
       "    <tr style=\"text-align: right;\">\n",
       "      <th></th>\n",
       "      <th>na_sales</th>\n",
       "    </tr>\n",
       "    <tr>\n",
       "      <th>platform</th>\n",
       "      <th></th>\n",
       "    </tr>\n",
       "  </thead>\n",
       "  <tbody>\n",
       "    <tr>\n",
       "      <td>X360</td>\n",
       "      <td>331.58</td>\n",
       "    </tr>\n",
       "    <tr>\n",
       "      <td>PS3</td>\n",
       "      <td>226.07</td>\n",
       "    </tr>\n",
       "    <tr>\n",
       "      <td>Wii</td>\n",
       "      <td>121.05</td>\n",
       "    </tr>\n",
       "    <tr>\n",
       "      <td>PS4</td>\n",
       "      <td>108.52</td>\n",
       "    </tr>\n",
       "    <tr>\n",
       "      <td>XOne</td>\n",
       "      <td>93.06</td>\n",
       "    </tr>\n",
       "  </tbody>\n",
       "</table>\n",
       "</div>"
      ],
      "text/plain": [
       "          na_sales\n",
       "platform          \n",
       "X360        331.58\n",
       "PS3         226.07\n",
       "Wii         121.05\n",
       "PS4         108.52\n",
       "XOne         93.06"
      ]
     },
     "metadata": {},
     "output_type": "display_data"
    },
    {
     "data": {
      "text/html": [
       "<div>\n",
       "<style scoped>\n",
       "    .dataframe tbody tr th:only-of-type {\n",
       "        vertical-align: middle;\n",
       "    }\n",
       "\n",
       "    .dataframe tbody tr th {\n",
       "        vertical-align: top;\n",
       "    }\n",
       "\n",
       "    .dataframe thead th {\n",
       "        text-align: right;\n",
       "    }\n",
       "</style>\n",
       "<table border=\"1\" class=\"dataframe\">\n",
       "  <thead>\n",
       "    <tr style=\"text-align: right;\">\n",
       "      <th></th>\n",
       "      <th>eu_sales</th>\n",
       "    </tr>\n",
       "    <tr>\n",
       "      <th>platform</th>\n",
       "      <th></th>\n",
       "    </tr>\n",
       "  </thead>\n",
       "  <tbody>\n",
       "    <tr>\n",
       "      <td>PS3</td>\n",
       "      <td>210.00</td>\n",
       "    </tr>\n",
       "    <tr>\n",
       "      <td>X360</td>\n",
       "      <td>161.52</td>\n",
       "    </tr>\n",
       "    <tr>\n",
       "      <td>PS4</td>\n",
       "      <td>140.85</td>\n",
       "    </tr>\n",
       "    <tr>\n",
       "      <td>PC</td>\n",
       "      <td>70.07</td>\n",
       "    </tr>\n",
       "    <tr>\n",
       "      <td>Wii</td>\n",
       "      <td>66.06</td>\n",
       "    </tr>\n",
       "  </tbody>\n",
       "</table>\n",
       "</div>"
      ],
      "text/plain": [
       "          eu_sales\n",
       "platform          \n",
       "PS3         210.00\n",
       "X360        161.52\n",
       "PS4         140.85\n",
       "PC           70.07\n",
       "Wii          66.06"
      ]
     },
     "metadata": {},
     "output_type": "display_data"
    },
    {
     "data": {
      "text/html": [
       "<div>\n",
       "<style scoped>\n",
       "    .dataframe tbody tr th:only-of-type {\n",
       "        vertical-align: middle;\n",
       "    }\n",
       "\n",
       "    .dataframe tbody tr th {\n",
       "        vertical-align: top;\n",
       "    }\n",
       "\n",
       "    .dataframe thead th {\n",
       "        text-align: right;\n",
       "    }\n",
       "</style>\n",
       "<table border=\"1\" class=\"dataframe\">\n",
       "  <thead>\n",
       "    <tr style=\"text-align: right;\">\n",
       "      <th></th>\n",
       "      <th>jp_sales</th>\n",
       "    </tr>\n",
       "    <tr>\n",
       "      <th>platform</th>\n",
       "      <th></th>\n",
       "    </tr>\n",
       "  </thead>\n",
       "  <tbody>\n",
       "    <tr>\n",
       "      <td>3DS</td>\n",
       "      <td>96.75</td>\n",
       "    </tr>\n",
       "    <tr>\n",
       "      <td>PS3</td>\n",
       "      <td>57.57</td>\n",
       "    </tr>\n",
       "    <tr>\n",
       "      <td>PSP</td>\n",
       "      <td>41.73</td>\n",
       "    </tr>\n",
       "    <tr>\n",
       "      <td>DS</td>\n",
       "      <td>28.16</td>\n",
       "    </tr>\n",
       "    <tr>\n",
       "      <td>PSV</td>\n",
       "      <td>21.38</td>\n",
       "    </tr>\n",
       "  </tbody>\n",
       "</table>\n",
       "</div>"
      ],
      "text/plain": [
       "          jp_sales\n",
       "platform          \n",
       "3DS          96.75\n",
       "PS3          57.57\n",
       "PSP          41.73\n",
       "DS           28.16\n",
       "PSV          21.38"
      ]
     },
     "metadata": {},
     "output_type": "display_data"
    }
   ],
   "source": [
    "# рассчитываем рейтинг для каждой платформы\n",
    "\n",
    "top_5_na_platforms = (games_data\n",
    "                      .query('na_sales > 0 & year_of_release >= \"2010-01-01\"') #берём только актуальные продажи в NA регионе\n",
    "                      .pivot_table(index='platform', values='na_sales', aggfunc='sum')\n",
    "                      .sort_values(by='na_sales', ascending=False)\n",
    "                      .head(5)\n",
    "                     )\n",
    "top_5_eu_platforms = (games_data\n",
    "                      .query('eu_sales > 0 & year_of_release >= \"2010-01-01\"')\n",
    "                      .pivot_table(index='platform', values='eu_sales', aggfunc='sum')\n",
    "                      .sort_values(by='eu_sales', ascending=False)\n",
    "                      .head(5)\n",
    "                     )\n",
    "top_5_jp_platforms = (games_data\n",
    "                      .query('jp_sales > 0 & year_of_release >= \"2010-01-01\"')\n",
    "                      .pivot_table(index='platform', values='jp_sales', aggfunc='sum')\n",
    "                      .sort_values(by='jp_sales', ascending=False)\n",
    "                      .head(5)\n",
    "                     )\n",
    "\n",
    "display(top_5_na_platforms, top_5_eu_platforms, top_5_jp_platforms)"
   ]
  },
  {
   "cell_type": "markdown",
   "metadata": {},
   "source": [
    "<b>Выводы:</b>\n",
    "\n",
    "1) в Северной Америке с большим отрывом лидирует X360. За ним идут PS3 и Wii, у современных PS4 и XOne доля относительно небольшая. Можно предположить, что пользователи не торопятся переходить на новое поколение консолей.\n",
    "\n",
    "2) В Европе ситуация похожая: наибольшей популярностью пользуются PS3 и X360. Однако здесь набирает популярность PS4, также в топ-5 игровых платформ вошёл PC, предположительно из-за игроков из стран СНГ.\n",
    "\n",
    "3) В Японии ожидаемо с большим отрывом лидирует 3DS, за ней идут продукты Sony. Японский рынок кардинально отличается от американского и европейского."
   ]
  },
  {
   "cell_type": "code",
   "execution_count": 24,
   "metadata": {},
   "outputs": [
    {
     "data": {
      "image/png": "[encoded data removed]",
      "text/plain": [
       "<Figure size 1080x360 with 1 Axes>"
      ]
     },
     "metadata": {
      "needs_background": "light"
     },
     "output_type": "display_data"
    }
   ],
   "source": [
    "#делаем анализ по жанрам\n",
    "genres_sales_na = (games_data\n",
    "                   .query('year_of_release >= \"2010-01-01\"')\n",
    "                   .pivot_table(index='genre', values='na_sales', aggfunc='sum')\n",
    "                  )\n",
    "genres_sales_eu = (games_data\n",
    "                   .query('year_of_release >= \"2010-01-01\"')\n",
    "                   .pivot_table(index='genre', values='eu_sales', aggfunc='sum')\n",
    "                  )\n",
    "genres_sales_jp = (games_data\n",
    "                   .query('year_of_release >= \"2010-01-01\"')\n",
    "                   .pivot_table(index='genre', values='jp_sales', aggfunc='sum')\n",
    "                  )\n",
    "genres_sales_total = genres_sales_na.merge(genres_sales_eu, left_index=True, right_index=True)\n",
    "genres_sales_total = genres_sales_total.merge(genres_sales_jp, left_index=True, right_index=True)\n",
    "\n",
    "genres_sales_total.plot(kind='bar', figsize=(15, 5))\n",
    "plt.title('Продажи по жанрам в регионах')\n",
    "plt.xlabel('Жанры')\n",
    "plt.ylabel('Продажи, млн.$')\n",
    "plt.show()"
   ]
  },
  {
   "cell_type": "markdown",
   "metadata": {},
   "source": [
    "<b>Вывод:</b> В Америке и Европе наиболее популярны жанры Action и Shooter. В Японии ситуация иная: первое место там занимает жанр Role-Playing, и только за ним идёт Action."
   ]
  },
  {
   "cell_type": "code",
   "execution_count": 32,
   "metadata": {},
   "outputs": [
    {
     "data": {
      "image/png": "[encoded data removed]",
      "text/plain": [
       "<Figure size 1080x360 with 1 Axes>"
      ]
     },
     "metadata": {
      "needs_background": "light"
     },
     "output_type": "display_data"
    }
   ],
   "source": [
    "#делаем анализ по оценкам\n",
    "rating_sales_na = (games_data\n",
    "                   .query('year_of_release >= \"2010-01-01\"')\n",
    "                   .pivot_table(index='rating', values='na_sales', aggfunc='sum')\n",
    "                  )\n",
    "rating_sales_eu = (games_data\n",
    "                   .query('year_of_release >= \"2010-01-01\"')\n",
    "                   .pivot_table(index='rating', values='eu_sales', aggfunc='sum')\n",
    "                  )\n",
    "rating_sales_jp = (games_data\n",
    "                   .query('year_of_release >= \"2010-01-01\"')\n",
    "                   .pivot_table(index='rating', values='jp_sales', aggfunc='sum')\n",
    "                  )\n",
    "rating_sales_total = rating_sales_na.merge(rating_sales_eu, left_index=True, right_index=True)\n",
    "rating_sales_total = rating_sales_total.merge(rating_sales_jp, left_index=True, right_index=True)\n",
    "\n",
    "rating_sales_total.plot(kind='bar', figsize=(15, 5))\n",
    "plt.title('Продажи по рейтингам в регионах')\n",
    "plt.xlabel('Рейтинг')\n",
    "plt.ylabel('Продажи, млн.$')\n",
    "plt.show()"
   ]
  },
  {
   "cell_type": "markdown",
   "metadata": {},
   "source": [
    "<b>Вывод:</b> В Европе и Америке больше всего продаются игры с рейтингом М и Е. При этом в Японии у большинства игр нет рейтинга ESRB, можно сделать предположение, что в этой стране этот рейтинг не действует либо имеет информативный характер. Из рейтинговых игр в Японии больше всего продаются с рейтингом Е и Т, что подтверждает большое отличие японского рынка от европейского и американского. Однако возможно, что игр с этим рейтингом просто больше, чем остальных, здесь требуется дополнительное исследование."
   ]
  },
  {
   "cell_type": "code",
   "execution_count": 33,
   "metadata": {},
   "outputs": [
    {
     "data": {
      "text/plain": [
       "<matplotlib.axes._subplots.AxesSubplot at 0x7fa0b5bb9b50>"
      ]
     },
     "execution_count": 33,
     "metadata": {},
     "output_type": "execute_result"
    },
    {
     "data": {
      "image/png": "[encoded data removed]",
      "text/plain": [
       "<Figure size 432x288 with 1 Axes>"
      ]
     },
     "metadata": {
      "needs_background": "light"
     },
     "output_type": "display_data"
    }
   ],
   "source": [
    "#количество игр по рейтингу\n",
    "games_amount_rating = (games_data\n",
    "                       .query('year_of_release >= \"2010-01-01\"')\n",
    "                       .pivot_table(index='rating', values='name', aggfunc='count')\n",
    "                      )\n",
    "games_amount_rating.plot(kind='bar')"
   ]
  },
  {
   "cell_type": "markdown",
   "metadata": {},
   "source": [
    "Как видно из диаграммы, больше всего игр без рейтинга. Вторые по массовости игры с рейтингом E и T, что полностью соответствует рейтингу продаж в Японии. За ними идут игры с рейтингом М и Т. Можно сказать, что продажи слабо зависят от рейтинга, т.к. если отбросить игры без оценки, наблюдается корреляция продаж с количеством игр по рейтингам."
   ]
  },
  {
   "cell_type": "markdown",
   "metadata": {},
   "source": [
    "## Шаг 5. Проверка гипотез\n",
    "\n",
    "- Нулевая гипотеза: средние пользовательские рейтинги платформ Xbox One и РС одинаковые.\n",
    "- Альтернативная гипотеза: средние пользовательские рейтинги платформ Xbox One и РС различаются."
   ]
  },
  {
   "cell_type": "code",
   "execution_count": 34,
   "metadata": {},
   "outputs": [
    {
     "name": "stdout",
     "output_type": "stream",
     "text": [
      "p-значение: 0.2151639019043931\n",
      "Не получилось отвергнуть нулевую гипотезу\n"
     ]
    }
   ],
   "source": [
    "xbox_user_ratings = games_data.query('platform == \"XOne\" & year_of_release >= \"2010-01-01\"') #берем актуальные данные\n",
    "pc_user_ratings = games_data.query('platform == \"PC\" & year_of_release >= \"2010-01-01\"')\n",
    "\n",
    "alpha = .05\n",
    "results = st.ttest_ind(xbox_user_ratings['user_score'], pc_user_ratings['user_score'])\n",
    "print('p-значение:', results.pvalue)\n",
    "if results.pvalue < alpha:\n",
    "    print('Отвергаем нулевую гипотезу')\n",
    "else:\n",
    "    print('Не получилось отвергнуть нулевую гипотезу')"
   ]
  },
  {
   "cell_type": "markdown",
   "metadata": {},
   "source": [
    "Средние рейтинги игроков на XOne и РС действительно равны. Теперь проверим вторую гипотезу.\n",
    "\n",
    "- Нулевая гипотеза: средние пользовательские рейтинги жанров Action и Sports равны.\n",
    "- Альтернативная гипотеза: Средние пользовательские рейтинги жанров Action и Sports разные."
   ]
  },
  {
   "cell_type": "code",
   "execution_count": 35,
   "metadata": {},
   "outputs": [
    {
     "name": "stdout",
     "output_type": "stream",
     "text": [
      "p-значение: 0.0475989846078626\n",
      "Отвергаем нулевую гипотезу\n"
     ]
    }
   ],
   "source": [
    "action_user_ratings = games_data.query('genre == \"Action\" & year_of_release >= \"2010-01-01\"') #берем актуальные данные\n",
    "sports_user_ratings = games_data.query('genre == \"Sports\" & year_of_release >= \"2010-01-01\"')\n",
    "\n",
    "alpha = .05\n",
    "results = st.ttest_ind(action_user_ratings['user_score'], sports_user_ratings['user_score'])\n",
    "print('p-значение:', results.pvalue)\n",
    "if results.pvalue < alpha:\n",
    "    print('Отвергаем нулевую гипотезу')\n",
    "else:\n",
    "    print('Не получилось отвергнуть нулевую гипотезу')"
   ]
  },
  {
   "cell_type": "markdown",
   "metadata": {},
   "source": [
    "Получается, что для жанров Action и Sports оценки пользователей разные."
   ]
  },
  {
   "cell_type": "markdown",
   "metadata": {},
   "source": [
    "## Общий вывод\n",
    "\n",
    "1. Средний жизненный цикл наиболее популярных игровых платформ составляет 10 лет. Пик объёма продаж приходится на середину этого срока. Для анализа имеет смысл взять данные после 2010 года, в таком случае получится увидеть не только актуальные платформы, но также преспективные и уходящие.\n",
    "---\n",
    "2. В 2016 году наблюдается падение продаж игр на всех платформах. При этом наиболее прибыльными остаются PS4 и XOne, за ними идет 3DS. Рост PS4 и XOne начался в 2012 году, помня о 10-летнем цикле жизни модели, можно сказать, что эти платформы будут актуальны в ближайшее время. Что касается 3DS, её рост начался в 2011 году и в 2017 она всё ещё будет актуальна, но продажи у неё значительно ниже. Таким образом, для анализа целесообразно взять платформы PS4, XOne и 3DS.\n",
    "---\n",
    "3. В случае с 3DS кросс-платформенных проектов мало и доходность по ним ниже. Очевидно, что покупатели предпочитают XOne и PS4. У обеих этих платформ медиана доходности смещена влево. Это свидетельствует о том, что и там, и там достаточно много мелких игр. Однако на графике \"ящик с усами\" \"ящик\" более растянут вправо в случае с PS4, это говорит о том, что там больше игр с высокой доходностью. Таким образом, при планировании продаж имеет смысл сфокусироваться на играх, выпущенных в первую очередь для PS4 и XOne.\n",
    "---\n",
    "4. Для PS4 наблюдается прямая корреляция между оценками критиков и уровнем продаж. Что касается пользовательских оценок, не всё так однозначно. Достаточно много игр с хорошими оценками и низкими продажами, что объясняется большим количеством не очень популярных малобюджетных проектов. При этом для некоторых игр с высокими продажами и высокими оценками критиков пользовательские оценки находятся в районе 50. Это допустимо, т.к. не всегда пользователи сходятся во мнениях с критиками.\n",
    "---\n",
    "5. Для XOne видно, что зависимость продаж от оценок есть, причём пользователи чаще соглашаются в своих оценках с критиками. А вот на 3DS, несмотря на высокие оценки и критиков, и пользователей, продажи почти не растут. Исключение составляют около 10 самых популярных игр. Можно сделать вывод, что 3DS является некой платформой для фанатов игр под неё.\n",
    "---\n",
    "6. Больше всего игр выходит в жанрах Action и Sports. При этом эти же жанры являются самыми продаваемыми, с небольшим отставанием идёт Shooter, и за ним все остальные. Наименее популярны Adventure, Fighting, Puzzle, Simulation и Strategy, при том что меньше всего игр в Puzzle и Strategy. Можно сделать вывод, что подобные жанры не особо интересны игрокам.\n",
    "---\n",
    "7. Популярность разных игровых платформ зависит от рынка. В Северной Америке с большим отрывом лидирует X360. За ним идут PS3 и Wii, у современных PS4 и XOne доля относительно небольшая. Можно предположить, что пользователи не торопятся переходить на новое поколение консолей. В Европе ситуация похожая: наибольшей популярностью пользуются PS3 и X360. Однако здесь набирает популярность PS4, также в топ-5 игровых платформ вошёл PC, предположительно из-за игроков из стран СНГ. В Японии ожидаемо с большим отрывом лидирует 3DS, за ней идут продукты Sony. Японский рынок кардинально отличается от американского и европейского.\n",
    "---\n",
    "8. В Америке и Европе наиболее популярны жанры Action и Shooter. В Японии ситуация иная: первое место там занимает жанр Role-Playing, и только за ним идёт Action.\n",
    "---\n",
    "9. В Европе и Америке больше всего продаются игры с рейтингом М и Е. При этом в Японии у большинства игр нет рейтинга ESRB, можно сделать предположение, что в этой стране этот рейтинг не действует либо имеет информативный характер. Из рейтинговых игр в Японии больше всего продаются с рейтингом Е и Т, что подтверждает большое отличие японского рынка от европейского и американского. Однако возможно, что игр с этим рейтингом просто больше, чем остальных, здесь требуется дополнительное исследование.\n",
    "---\n",
    "10. В исходных данных больше всего игр без рейтинга. Вторые по массовости игры с рейтингом E и T, что полностью соответствует рейтингу продаж в Японии. За ними идут игры с рейтингом М и Т. Можно сказать, что продажи слабо зависят от рейтинга, т.к. если отбросить игры без оценки, наблюдается корреляция продаж с количеством игр по рейтингам.\n",
    "---\n",
    "11. В ходе анализа были проверены следующие гипотезы:\n",
    "    - средние пользовательские рейтинги платформ Xbox One и РС одинаковые;\n",
    "    - средние пользовательские рейтинги жанров Action и Sports равны.\n",
    "    \n",
    "    Анализ показал, что средние пользовательские рейтинги на РС и Xbox One действительно одинаковые, однако рейтинги жанров Action и Sports различаются. Возможно, средний рейтинг зависит от жанра. Для проверки этого предположения требуется дополнительный анализ."
   ]
  }
 ],
 "metadata": {
  "kernelspec": {
   "display_name": "Python 3",
   "language": "python",
   "name": "python3"
  },
  "language_info": {
   "codemirror_mode": {
    "name": "ipython",
    "version": 3
   },
   "file_extension": ".py",
   "mimetype": "text/x-python",
   "name": "python",
   "nbconvert_exporter": "python",
   "pygments_lexer": "ipython3",
   "version": "3.7.6"
  }
 },
 "nbformat": 4,
 "nbformat_minor": 2
}
