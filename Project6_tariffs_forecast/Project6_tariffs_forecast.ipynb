{
 "cells": [
  {
   "cell_type": "markdown",
   "metadata": {},
   "source": [
    "## 1. Откройте и изучите файл"
   ]
  },
  {
   "cell_type": "code",
   "execution_count": 1,
   "metadata": {},
   "outputs": [],
   "source": [
    "import pandas as pd\n",
    "from sklearn.model_selection import train_test_split\n",
    "from sklearn.tree import DecisionTreeClassifier\n",
    "from sklearn.ensemble import RandomForestClassifier\n",
    "from sklearn.linear_model import LogisticRegression\n",
    "from sklearn.metrics import accuracy_score"
   ]
  },
  {
   "cell_type": "code",
   "execution_count": 2,
   "metadata": {},
   "outputs": [
    {
     "name": "stdout",
     "output_type": "stream",
     "text": [
      "<class 'pandas.core.frame.DataFrame'>\n",
      "RangeIndex: 3214 entries, 0 to 3213\n",
      "Data columns (total 5 columns):\n",
      "calls       3214 non-null float64\n",
      "minutes     3214 non-null float64\n",
      "messages    3214 non-null float64\n",
      "mb_used     3214 non-null float64\n",
      "is_ultra    3214 non-null int64\n",
      "dtypes: float64(4), int64(1)\n",
      "memory usage: 125.7 KB\n",
      "None\n"
     ]
    },
    {
     "data": {
      "text/html": [
       "<div>\n",
       "<style scoped>\n",
       "    .dataframe tbody tr th:only-of-type {\n",
       "        vertical-align: middle;\n",
       "    }\n",
       "\n",
       "    .dataframe tbody tr th {\n",
       "        vertical-align: top;\n",
       "    }\n",
       "\n",
       "    .dataframe thead th {\n",
       "        text-align: right;\n",
       "    }\n",
       "</style>\n",
       "<table border=\"1\" class=\"dataframe\">\n",
       "  <thead>\n",
       "    <tr style=\"text-align: right;\">\n",
       "      <th></th>\n",
       "      <th>calls</th>\n",
       "      <th>minutes</th>\n",
       "      <th>messages</th>\n",
       "      <th>mb_used</th>\n",
       "      <th>is_ultra</th>\n",
       "    </tr>\n",
       "  </thead>\n",
       "  <tbody>\n",
       "    <tr>\n",
       "      <td>0</td>\n",
       "      <td>40.0</td>\n",
       "      <td>311.90</td>\n",
       "      <td>83.0</td>\n",
       "      <td>19915.42</td>\n",
       "      <td>0</td>\n",
       "    </tr>\n",
       "    <tr>\n",
       "      <td>1</td>\n",
       "      <td>85.0</td>\n",
       "      <td>516.75</td>\n",
       "      <td>56.0</td>\n",
       "      <td>22696.96</td>\n",
       "      <td>0</td>\n",
       "    </tr>\n",
       "    <tr>\n",
       "      <td>2</td>\n",
       "      <td>77.0</td>\n",
       "      <td>467.66</td>\n",
       "      <td>86.0</td>\n",
       "      <td>21060.45</td>\n",
       "      <td>0</td>\n",
       "    </tr>\n",
       "    <tr>\n",
       "      <td>3</td>\n",
       "      <td>106.0</td>\n",
       "      <td>745.53</td>\n",
       "      <td>81.0</td>\n",
       "      <td>8437.39</td>\n",
       "      <td>1</td>\n",
       "    </tr>\n",
       "    <tr>\n",
       "      <td>4</td>\n",
       "      <td>66.0</td>\n",
       "      <td>418.74</td>\n",
       "      <td>1.0</td>\n",
       "      <td>14502.75</td>\n",
       "      <td>0</td>\n",
       "    </tr>\n",
       "  </tbody>\n",
       "</table>\n",
       "</div>"
      ],
      "text/plain": [
       "   calls  minutes  messages   mb_used  is_ultra\n",
       "0   40.0   311.90      83.0  19915.42         0\n",
       "1   85.0   516.75      56.0  22696.96         0\n",
       "2   77.0   467.66      86.0  21060.45         0\n",
       "3  106.0   745.53      81.0   8437.39         1\n",
       "4   66.0   418.74       1.0  14502.75         0"
      ]
     },
     "execution_count": 2,
     "metadata": {},
     "output_type": "execute_result"
    }
   ],
   "source": [
    "users_data = pd.read_csv('/datasets/users_behavior.csv')\n",
    "print(users_data.info())\n",
    "users_data.head()"
   ]
  },
  {
   "cell_type": "markdown",
   "metadata": {},
   "source": [
    "Предобработка данных не требуется. Посмотрим, сколько пользователей на каждом тарифе."
   ]
  },
  {
   "cell_type": "code",
   "execution_count": 3,
   "metadata": {},
   "outputs": [
    {
     "data": {
      "text/html": [
       "<div>\n",
       "<style scoped>\n",
       "    .dataframe tbody tr th:only-of-type {\n",
       "        vertical-align: middle;\n",
       "    }\n",
       "\n",
       "    .dataframe tbody tr th {\n",
       "        vertical-align: top;\n",
       "    }\n",
       "\n",
       "    .dataframe thead th {\n",
       "        text-align: right;\n",
       "    }\n",
       "</style>\n",
       "<table border=\"1\" class=\"dataframe\">\n",
       "  <thead>\n",
       "    <tr style=\"text-align: right;\">\n",
       "      <th></th>\n",
       "      <th>calls</th>\n",
       "    </tr>\n",
       "    <tr>\n",
       "      <th>is_ultra</th>\n",
       "      <th></th>\n",
       "    </tr>\n",
       "  </thead>\n",
       "  <tbody>\n",
       "    <tr>\n",
       "      <td>0</td>\n",
       "      <td>2229</td>\n",
       "    </tr>\n",
       "    <tr>\n",
       "      <td>1</td>\n",
       "      <td>985</td>\n",
       "    </tr>\n",
       "  </tbody>\n",
       "</table>\n",
       "</div>"
      ],
      "text/plain": [
       "          calls\n",
       "is_ultra       \n",
       "0          2229\n",
       "1           985"
      ]
     },
     "execution_count": 3,
     "metadata": {},
     "output_type": "execute_result"
    }
   ],
   "source": [
    "users_data_pt = users_data.pivot_table(index='is_ultra', values='calls', aggfunc='count')\n",
    "users_data_pt"
   ]
  },
  {
   "cell_type": "markdown",
   "metadata": {},
   "source": [
    "На тарифе \"Смарт\" пользователей более чем в 2 раза больше, чем на тарифе \"Ультра\". Это означает, что при построении моделей необходимо использовать гиперпараметр class_weight со значением balanced."
   ]
  },
  {
   "cell_type": "markdown",
   "metadata": {},
   "source": [
    "## 2. Разбейте данные на выборки"
   ]
  },
  {
   "cell_type": "code",
   "execution_count": 4,
   "metadata": {},
   "outputs": [],
   "source": [
    "#делим данные на обучающую выборку и остаток\n",
    "df_train, df_rest = train_test_split(users_data, test_size=0.25, random_state=12345)\n",
    "df_train_features = df_train.drop('is_ultra', axis=1)\n",
    "df_train_target = df_train['is_ultra']\n",
    "\n",
    "#теперь остаток делим на валидационную и тестовую выборки\n",
    "df_valid, df_test = train_test_split(df_rest, test_size=0.25, random_state=12345)\n",
    "df_valid_features = df_valid.drop('is_ultra', axis=1)\n",
    "df_valid_target = df_valid['is_ultra']\n",
    "df_test_features = df_test.drop('is_ultra', axis=1)\n",
    "df_test_target = df_test['is_ultra']"
   ]
  },
  {
   "cell_type": "markdown",
   "metadata": {},
   "source": [
    "## 3. Исследуйте модели"
   ]
  },
  {
   "cell_type": "markdown",
   "metadata": {},
   "source": [
    "Задача - построить модель, которая будет предсказывать тариф. Это задача классификации. Лучшую модель будем выбирать из решающего дерева (DecisionTreeClassifier), случайного леса (RandomForestClassifier) и логистической регрессии (LogisticRegression). Для каждой модели будем перебирать гиперпараметры и рассчитывать качество модели. Использовать будем следующие гиперпараметры:\n",
    "\n",
    "<u>Решающее дерево.</u>\n",
    "- max_depth - перебираем от 1 (пень) до 4 (т.к. максимум 4 признака)\n",
    "- min_samples_split = 2\n",
    "- min_samples_leaf = 1\n",
    "\n",
    "<u> Случайный лес.</u>\n",
    "- n_estimators - перебираем от 10 до 50 с шагом 10"
   ]
  },
  {
   "cell_type": "code",
   "execution_count": 5,
   "metadata": {
    "scrolled": true
   },
   "outputs": [
    {
     "name": "stdout",
     "output_type": "stream",
     "text": [
      "Решающее дерево, глубина=1, точность= 0.7545605306799337\n",
      "Решающее дерево, глубина=2, точность= 0.7877280265339967\n",
      "Решающее дерево, глубина=3, точность= 0.7943615257048093\n",
      "Решающее дерево, глубина=4, точность= 0.746268656716418\n"
     ]
    }
   ],
   "source": [
    "#решающее дерево\n",
    "for i in range(1, 5):\n",
    "    tree_model = DecisionTreeClassifier(max_depth=i,\n",
    "                                        random_state=12345,\n",
    "                                        min_samples_split=2,\n",
    "                                        min_samples_leaf=1,\n",
    "                                       class_weight='balanced')\n",
    "    tree_model.fit(df_train_features, df_train_target) #обучаем модель на обучающей выборке\n",
    "    tree_model_predictions = tree_model.predict(df_valid_features) #предсказываем значения на валидационной выборке\n",
    "    accuracy = accuracy_score(df_valid_target, tree_model_predictions) #считаем точность модели\n",
    "    print('Решающее дерево, глубина={}, точность='.format(i), accuracy)"
   ]
  },
  {
   "cell_type": "code",
   "execution_count": 6,
   "metadata": {},
   "outputs": [
    {
     "name": "stdout",
     "output_type": "stream",
     "text": [
      "Случайный лес, N деревьев=10, точность= 0.7943615257048093\n",
      "Случайный лес, N деревьев=20, точность= 0.7976782752902156\n",
      "Случайный лес, N деревьев=30, точность= 0.8009950248756219\n",
      "Случайный лес, N деревьев=40, точность= 0.7943615257048093\n",
      "Случайный лес, N деревьев=50, точность= 0.7927031509121062\n"
     ]
    }
   ],
   "source": [
    "#случайный лес\n",
    "for i in range(10, 51, 10):\n",
    "    forest_model = RandomForestClassifier(n_estimators=i, random_state=12345, class_weight='balanced')\n",
    "    forest_model.fit(df_train_features, df_train_target) #обучаем модель\n",
    "    forest_model_predictions = forest_model.predict(df_valid_features) #предсказываем значения на валидационной выборке\n",
    "    accuracy = accuracy_score(df_valid_target, forest_model_predictions) #считаем точность\n",
    "    print('Случайный лес, N деревьев={}, точность='.format(i), accuracy)"
   ]
  },
  {
   "cell_type": "code",
   "execution_count": 7,
   "metadata": {
    "scrolled": true
   },
   "outputs": [
    {
     "name": "stdout",
     "output_type": "stream",
     "text": [
      "Логистическая регрессия, точность= 0.6434494195688225\n"
     ]
    },
    {
     "name": "stderr",
     "output_type": "stream",
     "text": [
      "/opt/conda/lib/python3.7/site-packages/sklearn/linear_model/logistic.py:432: FutureWarning: Default solver will be changed to 'lbfgs' in 0.22. Specify a solver to silence this warning.\n",
      "  FutureWarning)\n"
     ]
    }
   ],
   "source": [
    "#логистическая регрессия\n",
    "regression_model = LogisticRegression(random_state=12345, class_weight='balanced')\n",
    "regression_model.fit(df_train_features, df_train_target) #обучаем модель\n",
    "regression_model_predictions = regression_model.predict(df_valid_features) #предсказываем значения\n",
    "accuracy = accuracy_score(df_valid_target, regression_model_predictions) #считаем точность\n",
    "print('Логистическая регрессия, точность=', accuracy)"
   ]
  },
  {
   "cell_type": "markdown",
   "metadata": {},
   "source": [
    "**Вывод:** наилучшие результаты дает случайный лес. Наибольшая точность достигается при N деревьев = 30. Точность в данном случае = 0.8, при этом расчёт идёт достаточно быстро. При большем количестве деревьев расчёт идёт дольше, а точность уменьшается, т.е. возникает переобучение модели. К точности 0.8 приближается решающее дерево с гиперпараметром max_depth=3. Наименьшая точность у логистической регрессии (0.64).\n",
    "\n",
    "В дальнейшем будем использовать случайный лес с N деревьев = 30 как модель с наивысшей точностью на валидационной выборке. Осталось проверить эту модель на тестовой выборке."
   ]
  },
  {
   "cell_type": "markdown",
   "metadata": {},
   "source": [
    "## 4. Проверьте модель на тестовой выборке"
   ]
  },
  {
   "cell_type": "code",
   "execution_count": 8,
   "metadata": {},
   "outputs": [
    {
     "name": "stdout",
     "output_type": "stream",
     "text": [
      "Случайный лес, N деревьев = 50, точность = 0.7761194029850746\n"
     ]
    }
   ],
   "source": [
    "model = RandomForestClassifier(n_estimators=30, random_state=12345, class_weight='balanced') #задаем параметры модели\n",
    "model.fit(df_train_features, df_train_target) #обучаем модель на обучающей выборке\n",
    "model_predictions = model.predict(df_test_features) #предсказываем значения на тестовой выборке\n",
    "accuracy = accuracy_score(df_test_target, model_predictions) #считаем качество модели на тестовой выборке\n",
    "print('Случайный лес, N деревьев = 50, точность =',accuracy)"
   ]
  },
  {
   "cell_type": "markdown",
   "metadata": {},
   "source": [
    "Итого получаем точность 0.8 на валидационной выборке и 0.78 на тестовой выборке. В рамках данного проекта такая точность считается допустимой."
   ]
  },
  {
   "cell_type": "markdown",
   "metadata": {},
   "source": [
    "## 5. (бонус) Проверьте модели на адекватность"
   ]
  },
  {
   "cell_type": "markdown",
   "metadata": {},
   "source": [
    "Ранее было посчитано, что большинство пользователей пользуется тарифом \"Смарт\". То есть если модель будет предсказывать только 0, точность будет более 50%. Посчитаем точность такой модели: accuracy = (количество правильных ответов) / (количество объектов)"
   ]
  },
  {
   "cell_type": "code",
   "execution_count": 9,
   "metadata": {},
   "outputs": [
    {
     "name": "stdout",
     "output_type": "stream",
     "text": [
      "0.693528313627878\n"
     ]
    }
   ],
   "source": [
    "accuracy = 2229 / (2229 + 985)\n",
    "print(accuracy)"
   ]
  },
  {
   "cell_type": "markdown",
   "metadata": {},
   "source": [
    "Точность составила 0.69. Это выше, чем точность логистической регрессии, которая составила 0.64, что говорит о том, что в рамках поставленной задачи пользоваться логистической регрессией нельзя. Точность других моделей (решающего дерева и случайного леса) выше. Эти модели пригодны для анализа и рекомендаций тарифов."
   ]
  }
 ],
 "metadata": {
  "kernelspec": {
   "display_name": "Python 3",
   "language": "python",
   "name": "python3"
  },
  "language_info": {
   "codemirror_mode": {
    "name": "ipython",
    "version": 3
   },
   "file_extension": ".py",
   "mimetype": "text/x-python",
   "name": "python",
   "nbconvert_exporter": "python",
   "pygments_lexer": "ipython3",
   "version": "3.7.6"
  }
 },
 "nbformat": 4,
 "nbformat_minor": 2
}
