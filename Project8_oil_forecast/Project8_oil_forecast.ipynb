{
 "cells": [
  {
   "cell_type": "markdown",
   "metadata": {},
   "source": [
    "# 1. Загрузка и подготовка данных"
   ]
  },
  {
   "cell_type": "code",
   "execution_count": 2,
   "metadata": {},
   "outputs": [],
   "source": [
    "import pandas as pd\n",
    "from sklearn.utils import shuffle\n",
    "from sklearn.ensemble import RandomForestRegressor\n",
    "from sklearn.linear_model import LinearRegression\n",
    "from sklearn.model_selection import train_test_split\n",
    "from sklearn.metrics import mean_squared_error\n",
    "from numpy.random import RandomState\n",
    "from scipy import stats as st\n",
    "from math import sqrt"
   ]
  },
  {
   "cell_type": "code",
   "execution_count": 3,
   "metadata": {},
   "outputs": [],
   "source": [
    "data_1 = pd.read_csv('/datasets/geo_data_0.csv')\n",
    "data_2 = pd.read_csv('/datasets/geo_data_1.csv')\n",
    "data_3 = pd.read_csv('/datasets/geo_data_2.csv')"
   ]
  },
  {
   "cell_type": "code",
   "execution_count": 4,
   "metadata": {},
   "outputs": [
    {
     "name": "stdout",
     "output_type": "stream",
     "text": [
      "data_1:\n",
      "<class 'pandas.core.frame.DataFrame'>\n",
      "RangeIndex: 100000 entries, 0 to 99999\n",
      "Data columns (total 5 columns):\n",
      "id         100000 non-null object\n",
      "f0         100000 non-null float64\n",
      "f1         100000 non-null float64\n",
      "f2         100000 non-null float64\n",
      "product    100000 non-null float64\n",
      "dtypes: float64(4), object(1)\n",
      "memory usage: 3.8+ MB\n",
      "None\n"
     ]
    },
    {
     "data": {
      "text/html": [
       "<div>\n",
       "<style scoped>\n",
       "    .dataframe tbody tr th:only-of-type {\n",
       "        vertical-align: middle;\n",
       "    }\n",
       "\n",
       "    .dataframe tbody tr th {\n",
       "        vertical-align: top;\n",
       "    }\n",
       "\n",
       "    .dataframe thead th {\n",
       "        text-align: right;\n",
       "    }\n",
       "</style>\n",
       "<table border=\"1\" class=\"dataframe\">\n",
       "  <thead>\n",
       "    <tr style=\"text-align: right;\">\n",
       "      <th></th>\n",
       "      <th>id</th>\n",
       "      <th>f0</th>\n",
       "      <th>f1</th>\n",
       "      <th>f2</th>\n",
       "      <th>product</th>\n",
       "    </tr>\n",
       "  </thead>\n",
       "  <tbody>\n",
       "    <tr>\n",
       "      <td>0</td>\n",
       "      <td>txEyH</td>\n",
       "      <td>0.705745</td>\n",
       "      <td>-0.497823</td>\n",
       "      <td>1.221170</td>\n",
       "      <td>105.280062</td>\n",
       "    </tr>\n",
       "    <tr>\n",
       "      <td>1</td>\n",
       "      <td>2acmU</td>\n",
       "      <td>1.334711</td>\n",
       "      <td>-0.340164</td>\n",
       "      <td>4.365080</td>\n",
       "      <td>73.037750</td>\n",
       "    </tr>\n",
       "    <tr>\n",
       "      <td>2</td>\n",
       "      <td>409Wp</td>\n",
       "      <td>1.022732</td>\n",
       "      <td>0.151990</td>\n",
       "      <td>1.419926</td>\n",
       "      <td>85.265647</td>\n",
       "    </tr>\n",
       "    <tr>\n",
       "      <td>3</td>\n",
       "      <td>iJLyR</td>\n",
       "      <td>-0.032172</td>\n",
       "      <td>0.139033</td>\n",
       "      <td>2.978566</td>\n",
       "      <td>168.620776</td>\n",
       "    </tr>\n",
       "    <tr>\n",
       "      <td>4</td>\n",
       "      <td>Xdl7t</td>\n",
       "      <td>1.988431</td>\n",
       "      <td>0.155413</td>\n",
       "      <td>4.751769</td>\n",
       "      <td>154.036647</td>\n",
       "    </tr>\n",
       "  </tbody>\n",
       "</table>\n",
       "</div>"
      ],
      "text/plain": [
       "      id        f0        f1        f2     product\n",
       "0  txEyH  0.705745 -0.497823  1.221170  105.280062\n",
       "1  2acmU  1.334711 -0.340164  4.365080   73.037750\n",
       "2  409Wp  1.022732  0.151990  1.419926   85.265647\n",
       "3  iJLyR -0.032172  0.139033  2.978566  168.620776\n",
       "4  Xdl7t  1.988431  0.155413  4.751769  154.036647"
      ]
     },
     "metadata": {},
     "output_type": "display_data"
    },
    {
     "name": "stdout",
     "output_type": "stream",
     "text": [
      "\n",
      "data_2:\n",
      "<class 'pandas.core.frame.DataFrame'>\n",
      "RangeIndex: 100000 entries, 0 to 99999\n",
      "Data columns (total 5 columns):\n",
      "id         100000 non-null object\n",
      "f0         100000 non-null float64\n",
      "f1         100000 non-null float64\n",
      "f2         100000 non-null float64\n",
      "product    100000 non-null float64\n",
      "dtypes: float64(4), object(1)\n",
      "memory usage: 3.8+ MB\n",
      "None\n"
     ]
    },
    {
     "data": {
      "text/html": [
       "<div>\n",
       "<style scoped>\n",
       "    .dataframe tbody tr th:only-of-type {\n",
       "        vertical-align: middle;\n",
       "    }\n",
       "\n",
       "    .dataframe tbody tr th {\n",
       "        vertical-align: top;\n",
       "    }\n",
       "\n",
       "    .dataframe thead th {\n",
       "        text-align: right;\n",
       "    }\n",
       "</style>\n",
       "<table border=\"1\" class=\"dataframe\">\n",
       "  <thead>\n",
       "    <tr style=\"text-align: right;\">\n",
       "      <th></th>\n",
       "      <th>id</th>\n",
       "      <th>f0</th>\n",
       "      <th>f1</th>\n",
       "      <th>f2</th>\n",
       "      <th>product</th>\n",
       "    </tr>\n",
       "  </thead>\n",
       "  <tbody>\n",
       "    <tr>\n",
       "      <td>0</td>\n",
       "      <td>kBEdx</td>\n",
       "      <td>-15.001348</td>\n",
       "      <td>-8.276000</td>\n",
       "      <td>-0.005876</td>\n",
       "      <td>3.179103</td>\n",
       "    </tr>\n",
       "    <tr>\n",
       "      <td>1</td>\n",
       "      <td>62mP7</td>\n",
       "      <td>14.272088</td>\n",
       "      <td>-3.475083</td>\n",
       "      <td>0.999183</td>\n",
       "      <td>26.953261</td>\n",
       "    </tr>\n",
       "    <tr>\n",
       "      <td>2</td>\n",
       "      <td>vyE1P</td>\n",
       "      <td>6.263187</td>\n",
       "      <td>-5.948386</td>\n",
       "      <td>5.001160</td>\n",
       "      <td>134.766305</td>\n",
       "    </tr>\n",
       "    <tr>\n",
       "      <td>3</td>\n",
       "      <td>KcrkZ</td>\n",
       "      <td>-13.081196</td>\n",
       "      <td>-11.506057</td>\n",
       "      <td>4.999415</td>\n",
       "      <td>137.945408</td>\n",
       "    </tr>\n",
       "    <tr>\n",
       "      <td>4</td>\n",
       "      <td>AHL4O</td>\n",
       "      <td>12.702195</td>\n",
       "      <td>-8.147433</td>\n",
       "      <td>5.004363</td>\n",
       "      <td>134.766305</td>\n",
       "    </tr>\n",
       "  </tbody>\n",
       "</table>\n",
       "</div>"
      ],
      "text/plain": [
       "      id         f0         f1        f2     product\n",
       "0  kBEdx -15.001348  -8.276000 -0.005876    3.179103\n",
       "1  62mP7  14.272088  -3.475083  0.999183   26.953261\n",
       "2  vyE1P   6.263187  -5.948386  5.001160  134.766305\n",
       "3  KcrkZ -13.081196 -11.506057  4.999415  137.945408\n",
       "4  AHL4O  12.702195  -8.147433  5.004363  134.766305"
      ]
     },
     "metadata": {},
     "output_type": "display_data"
    },
    {
     "name": "stdout",
     "output_type": "stream",
     "text": [
      "\n",
      "data_3:\n",
      "<class 'pandas.core.frame.DataFrame'>\n",
      "RangeIndex: 100000 entries, 0 to 99999\n",
      "Data columns (total 5 columns):\n",
      "id         100000 non-null object\n",
      "f0         100000 non-null float64\n",
      "f1         100000 non-null float64\n",
      "f2         100000 non-null float64\n",
      "product    100000 non-null float64\n",
      "dtypes: float64(4), object(1)\n",
      "memory usage: 3.8+ MB\n",
      "None\n"
     ]
    },
    {
     "data": {
      "text/html": [
       "<div>\n",
       "<style scoped>\n",
       "    .dataframe tbody tr th:only-of-type {\n",
       "        vertical-align: middle;\n",
       "    }\n",
       "\n",
       "    .dataframe tbody tr th {\n",
       "        vertical-align: top;\n",
       "    }\n",
       "\n",
       "    .dataframe thead th {\n",
       "        text-align: right;\n",
       "    }\n",
       "</style>\n",
       "<table border=\"1\" class=\"dataframe\">\n",
       "  <thead>\n",
       "    <tr style=\"text-align: right;\">\n",
       "      <th></th>\n",
       "      <th>id</th>\n",
       "      <th>f0</th>\n",
       "      <th>f1</th>\n",
       "      <th>f2</th>\n",
       "      <th>product</th>\n",
       "    </tr>\n",
       "  </thead>\n",
       "  <tbody>\n",
       "    <tr>\n",
       "      <td>0</td>\n",
       "      <td>fwXo0</td>\n",
       "      <td>-1.146987</td>\n",
       "      <td>0.963328</td>\n",
       "      <td>-0.828965</td>\n",
       "      <td>27.758673</td>\n",
       "    </tr>\n",
       "    <tr>\n",
       "      <td>1</td>\n",
       "      <td>WJtFt</td>\n",
       "      <td>0.262778</td>\n",
       "      <td>0.269839</td>\n",
       "      <td>-2.530187</td>\n",
       "      <td>56.069697</td>\n",
       "    </tr>\n",
       "    <tr>\n",
       "      <td>2</td>\n",
       "      <td>ovLUW</td>\n",
       "      <td>0.194587</td>\n",
       "      <td>0.289035</td>\n",
       "      <td>-5.586433</td>\n",
       "      <td>62.871910</td>\n",
       "    </tr>\n",
       "    <tr>\n",
       "      <td>3</td>\n",
       "      <td>q6cA6</td>\n",
       "      <td>2.236060</td>\n",
       "      <td>-0.553760</td>\n",
       "      <td>0.930038</td>\n",
       "      <td>114.572842</td>\n",
       "    </tr>\n",
       "    <tr>\n",
       "      <td>4</td>\n",
       "      <td>WPMUX</td>\n",
       "      <td>-0.515993</td>\n",
       "      <td>1.716266</td>\n",
       "      <td>5.899011</td>\n",
       "      <td>149.600746</td>\n",
       "    </tr>\n",
       "  </tbody>\n",
       "</table>\n",
       "</div>"
      ],
      "text/plain": [
       "      id        f0        f1        f2     product\n",
       "0  fwXo0 -1.146987  0.963328 -0.828965   27.758673\n",
       "1  WJtFt  0.262778  0.269839 -2.530187   56.069697\n",
       "2  ovLUW  0.194587  0.289035 -5.586433   62.871910\n",
       "3  q6cA6  2.236060 -0.553760  0.930038  114.572842\n",
       "4  WPMUX -0.515993  1.716266  5.899011  149.600746"
      ]
     },
     "metadata": {},
     "output_type": "display_data"
    }
   ],
   "source": [
    "print('data_1:')\n",
    "print(data_1.info())\n",
    "display(data_1.head())\n",
    "print()\n",
    "print('data_2:')\n",
    "print(data_2.info())\n",
    "display(data_2.head())\n",
    "print()\n",
    "print('data_3:')\n",
    "print(data_3.info())\n",
    "display(data_3.head())"
   ]
  },
  {
   "cell_type": "markdown",
   "metadata": {},
   "source": [
    "Во всех трех датасетах данные полны, предобработка не требуется."
   ]
  },
  {
   "cell_type": "markdown",
   "metadata": {},
   "source": [
    "# 2. Обучение и проверка модели"
   ]
  },
  {
   "cell_type": "markdown",
   "metadata": {},
   "source": [
    "Для решения задачи будем применять регрессию. Сравним модели случайного леса и линейной регрессии и выберем лучшую. для случайного леса будем подбирать гиперпараметры: глубину (max_depth) и количество деревьев (n_estimators)."
   ]
  },
  {
   "cell_type": "code",
   "execution_count": 5,
   "metadata": {},
   "outputs": [
    {
     "name": "stdout",
     "output_type": "stream",
     "text": [
      "CPU times: user 2 µs, sys: 1e+03 ns, total: 3 µs\n",
      "Wall time: 6.44 µs\n",
      "Линейная регрессия, регион 1.\n",
      "Средний запас предсказанного сырья: 92.59256778438038\n",
      "RMSE: 37.5794217150813\n",
      "\n",
      "\n",
      "Линейная регрессия, регион 2.\n",
      "Средний запас предсказанного сырья: 68.728546895446\n",
      "RMSE: 0.893099286775616\n",
      "\n",
      "\n",
      "Линейная регрессия, регион 3.\n",
      "Средний запас предсказанного сырья: 94.96504596800489\n",
      "RMSE: 40.02970873393434\n",
      "\n",
      "\n"
     ]
    }
   ],
   "source": [
    "%time\n",
    "\n",
    "predictions_array = []\n",
    "products_array = []\n",
    "targets = []\n",
    "models=[]\n",
    "\n",
    "#разбиваем данные\n",
    "i = 1\n",
    "for data in [data_1, data_2, data_3]:\n",
    "    features = data.drop(['id', 'product'], axis=1) #id не влияет на целевой показатель\n",
    "    target = data['product']\n",
    "    features_train, features_valid, target_train, target_valid = train_test_split(features,\n",
    "                                                                                 target,\n",
    "                                                                                 test_size=0.25,\n",
    "                                                                                 random_state=12345)\n",
    "#обучаем модель линейной регрессии\n",
    "    model_linear = LinearRegression()\n",
    "    model_linear.fit(features_train, target_train)\n",
    "    linear_predictions = model_linear.predict(features_valid)\n",
    "    score_linear = sqrt(mean_squared_error(target_valid, linear_predictions))\n",
    "    print('Линейная регрессия, регион {}.'.format(i))\n",
    "    print('Средний запас предсказанного сырья:', linear_predictions.mean())\n",
    "    print('RMSE:', score_linear)\n",
    "    print()\n",
    "    #сохраняем предсказания и соответствующие им истинные значения\n",
    "    predictions_array.append(linear_predictions)\n",
    "    #products_array.append(target_valid)\n",
    "    products_array.append(target_valid.reset_index(drop=True))\n",
    "    targets.append(target_valid)\n",
    "    models.append(model_linear)\n",
    "        \n",
    "    i += 1\n",
    "    print()"
   ]
  },
  {
   "cell_type": "markdown",
   "metadata": {},
   "source": [
    "**Вывод.** В 1 и 3 регионах модель предсказывает примерно одинаковое среднее количество сырья. Однако среднеквадратичная ошибка остается большой. Модель ошибается в среднем на 38,5 баррелей в этих регионах. Наибольшая точность - в регионе 2 (+/- один баррель). Однако и предсказанное среднее количество меньше (69 против 93 и 95)."
   ]
  },
  {
   "cell_type": "markdown",
   "metadata": {},
   "source": [
    "# 3. Подготовка к расчёту прибыли"
   ]
  },
  {
   "cell_type": "code",
   "execution_count": 6,
   "metadata": {},
   "outputs": [
    {
     "name": "stdout",
     "output_type": "stream",
     "text": [
      "Минимальное количество сырья для безубыточной разработки: 112\n"
     ]
    }
   ],
   "source": [
    "n_researched = 500 #необходимое для исследование кол-во точек\n",
    "n_best = 200 #кол-во лучших точек из исследованных\n",
    "budget = 10000000000 #бюджет на разработку скважин, руб.\n",
    "income_per_unit = 450000 # доход на 1000 баррелей, руб.\n",
    "max_risk = 0.025 #максимальный риск в %\n",
    "drilling_cost = budget / 200 #стоимость бурения одной скважины, руб.\n",
    "\n",
    "#минимально необходимое кол-во сырья для безубыточной разработки\n",
    "min_fossil = int(drilling_cost / income_per_unit) + 1 #поскольку int отбрасывает дробную часть, добавляем 1 баррель\n",
    "print('Минимальное количество сырья для безубыточной разработки:', min_fossil)"
   ]
  },
  {
   "cell_type": "markdown",
   "metadata": {},
   "source": [
    "**Вывод.** Требуемое для безубыточной работы количество сырья больше, чем средние предсказанные значения в любом из регионов. Однако в 1 и 3 регионах достаточно велик разброс предсказанных значений. Значит, там можно поискать скважины, где количество сырья будет больше минимально необходимого."
   ]
  },
  {
   "cell_type": "markdown",
   "metadata": {},
   "source": [
    "# 4. Расчёт прибыли и рисков "
   ]
  },
  {
   "cell_type": "code",
   "execution_count": 7,
   "metadata": {},
   "outputs": [
    {
     "name": "stdout",
     "output_type": "stream",
     "text": [
      "<class 'pandas.core.frame.DataFrame'>\n",
      "RangeIndex: 100000 entries, 0 to 99999\n",
      "Data columns (total 6 columns):\n",
      "id             100000 non-null object\n",
      "f0             100000 non-null float64\n",
      "f1             100000 non-null float64\n",
      "f2             100000 non-null float64\n",
      "product        100000 non-null float64\n",
      "predictions    100000 non-null float64\n",
      "dtypes: float64(5), object(1)\n",
      "memory usage: 4.6+ MB\n",
      "None\n",
      "<class 'pandas.core.frame.DataFrame'>\n",
      "RangeIndex: 100000 entries, 0 to 99999\n",
      "Data columns (total 6 columns):\n",
      "id             100000 non-null object\n",
      "f0             100000 non-null float64\n",
      "f1             100000 non-null float64\n",
      "f2             100000 non-null float64\n",
      "product        100000 non-null float64\n",
      "predictions    100000 non-null float64\n",
      "dtypes: float64(5), object(1)\n",
      "memory usage: 4.6+ MB\n",
      "None\n",
      "<class 'pandas.core.frame.DataFrame'>\n",
      "RangeIndex: 100000 entries, 0 to 99999\n",
      "Data columns (total 6 columns):\n",
      "id             100000 non-null object\n",
      "f0             100000 non-null float64\n",
      "f1             100000 non-null float64\n",
      "f2             100000 non-null float64\n",
      "product        100000 non-null float64\n",
      "predictions    100000 non-null float64\n",
      "dtypes: float64(5), object(1)\n",
      "memory usage: 4.6+ MB\n",
      "None\n"
     ]
    }
   ],
   "source": [
    "#добавляем в данные столбцы с предсказаниями\n",
    "i = 0\n",
    "for data in [data_1, data_2, data_3]:\n",
    "    features = data.drop(['id', 'product'], axis=1)\n",
    "    data['predictions'] = models[i].predict(features)\n",
    "    i+=1\n",
    "    print(data.info())"
   ]
  },
  {
   "cell_type": "code",
   "execution_count": 8,
   "metadata": {},
   "outputs": [],
   "source": [
    "#функция расчета прибыли\n",
    "def profit_calc(actual, predictions):\n",
    "    pred_sorted = predictions.sort_values(ascending=False)\n",
    "    actual_sorted = actual[pred_sorted.index][:200]\n",
    "    revenue = round(actual_sorted.sum() * income_per_unit - drilling_cost * 200, 2)\n",
    "    return revenue\n",
    "\n",
    "#    prod = pd.Series(target).sort_values(ascending=False).head(200)\n",
    "#    index = prod.index\n",
    "#    return round((product.loc[index] * income_per_unit).sum() - drilling_cost * 200, 2)"
   ]
  },
  {
   "cell_type": "code",
   "execution_count": 9,
   "metadata": {},
   "outputs": [],
   "source": [
    "#функция расчета прибыли\n",
    "def profit_calc_1(target, product):\n",
    "    pred_sorted = product.sort_values(ascending=False)\n",
    "    #target=targets.reset_index(drop=True)\n",
    "    selected = target[pred_sorted.index][:200]\n",
    "    prod = selected.sum()\n",
    "    revenue = prod * income_per_unit\n",
    "    cost = drilling_cost * 200\n",
    "    return revenue - cost"
   ]
  },
  {
   "cell_type": "code",
   "execution_count": 10,
   "metadata": {},
   "outputs": [
    {
     "name": "stdout",
     "output_type": "stream",
     "text": [
      "Расчетная прибыль в регионе 1: 3494104192.11\n",
      "Расчетная прибыль в регионе 2: 2415086696.68\n",
      "Расчетная прибыль в регионе 3: 2571410631.96\n"
     ]
    }
   ],
   "source": [
    "#расчет прибыли\n",
    "i = 1\n",
    "for data in [data_1, data_2, data_3]:\n",
    "    actual = data['product']\n",
    "    predictions = data['predictions']\n",
    "    profit = profit_calc(actual, predictions)\n",
    "    print('Расчетная прибыль в регионе {}:'.format(i), profit)\n",
    "    i += 1"
   ]
  },
  {
   "cell_type": "code",
   "execution_count": 11,
   "metadata": {},
   "outputs": [],
   "source": [
    "#бутстреп\n",
    "state = RandomState(12345)\n",
    "bootstrap_samples = 1000\n",
    "profits=[]\n",
    "profit_array=[]\n",
    "region = 1\n",
    "counts = []\n",
    "count = 0\n",
    "\n",
    "#изначальный вариант\n",
    "\n",
    "#for data in [data_1, data_2, data_3]:\n",
    "#    for i in range(bootstrap_samples):\n",
    "#        #выборка 500 значений\n",
    "#        predicted_sample = pd.Series(data['predictions'].sample(n=500, replace=True, random_state=state))\n",
    "#        product_sample = data['product'][predicted_sample.index]\n",
    "#        #расчет прибыли\n",
    "#        profit = profit_calc(product_sample, predicted_sample)\n",
    "#        profits.append(profit)\n",
    "\n",
    "#второй вариант - бутстреп по предсказаниям\n",
    "\n",
    "predictions_num = 1\n",
    "for a in range(0, 3, 1): #счетчик для данных из трех регионов\n",
    "    reg_values = pd.DataFrame({'Targets':targets[a], 'Predictions':predictions_array[a]})\n",
    "    for i in range(bootstrap_samples):\n",
    "        #выборка 500 знгачений\n",
    "        predicted_sample = reg_values['Predictions'].sample(n=500, replace=True, random_state=state)\n",
    "        product_sample = reg_values['Targets'][predicted_sample.index]     \n",
    "        #расчет прибыли\n",
    "        profit = profit_calc(product_sample, predicted_sample)\n",
    "        profits.append(profit)\n",
    "    \n",
    "        #количетство случаев отрицательной прибыли\n",
    "        if profit < 0:\n",
    "            count +=1\n",
    "\n",
    "    #сохраняем полученные выборки в массивах\n",
    "    profit_array.append(profits)\n",
    "    profits=[]\n",
    "    counts.append(count)\n",
    "    count=0\n",
    "    a += 1"
   ]
  },
  {
   "cell_type": "code",
   "execution_count": 12,
   "metadata": {
    "scrolled": true
   },
   "outputs": [
    {
     "name": "stdout",
     "output_type": "stream",
     "text": [
      "Средняя прибыль в регионе 1: 425938526.91\n",
      "Доверительный интервал для прибыли в регионе 1: (-102090094.84, 947976353.36)\n",
      "Вероятность убытков, %: 6.0\n",
      "\n",
      "Средняя прибыль в регионе 2: 518259493.7\n",
      "Доверительный интервал для прибыли в регионе 2: (128123231.43, 953612982.06)\n",
      "Вероятность убытков, %: 0.3\n",
      "\n",
      "Средняя прибыль в регионе 3: 420194005.34\n",
      "Доверительный интервал для прибыли в регионе 3: (-115852609.16, 989629939.85)\n",
      "Вероятность убытков, %: 6.2\n",
      "\n"
     ]
    }
   ],
   "source": [
    "#средняя прибыль и доверительный интервал\n",
    "region = 1\n",
    "for a in range(0, 3):\n",
    "    mean_profit = pd.Series(profit_array[a]).mean()\n",
    "    profit_values = pd.Series(profit_array[a])\n",
    "    confidence_interval = (round(profit_values.quantile(0.025), 2), round(profit_values.quantile(0.975), 2))\n",
    "#            st.t.interval(0.95, 1, loc=mean_profit, scale=pd.Series(profit_array[a]).sem())\n",
    "    risk = 1 * counts[a] / bootstrap_samples\n",
    "    #risk = ((profit_values < 0).mean(), \"%\")\n",
    "    print('Средняя прибыль в регионе {}:'.format(region), round(mean_profit, 2))\n",
    "    print('Доверительный интервал для прибыли в регионе {}:'.format(region), confidence_interval)\n",
    "    print('Вероятность убытков, %:', risk * 100)\n",
    "    print()\n",
    "    region += 1"
   ]
  },
  {
   "cell_type": "code",
   "execution_count": 13,
   "metadata": {},
   "outputs": [
    {
     "name": "stdout",
     "output_type": "stream",
     "text": [
      "[60, 3, 62]\n"
     ]
    }
   ],
   "source": [
    "print(counts)"
   ]
  },
  {
   "cell_type": "markdown",
   "metadata": {},
   "source": [
    "**Вывод.** Несмотря на то, что в третьем регионе модель предсказала наиболее богатые месторождения, техника бутстрепа показала, что в этом регионе наименьшая средняя прибыль и наибольший риск. С этой точки зрения наиболее привлекательным для разработки является второй регион. При риске всего в 2.1% потенциальная прибыль с 95% вероятностью составит от 0.2 до 1.2 млрд рублей. В сравнении с первым регионом риск выше всего на 0.1%, при этом прибыль выше.\n",
    "\n",
    "На основе изложенного рекомендую к разработке второй регион."
   ]
  }
 ],
 "metadata": {
  "kernelspec": {
   "display_name": "Python 3",
   "language": "python",
   "name": "python3"
  },
  "language_info": {
   "codemirror_mode": {
    "name": "ipython",
    "version": 3
   },
   "file_extension": ".py",
   "mimetype": "text/x-python",
   "name": "python",
   "nbconvert_exporter": "python",
   "pygments_lexer": "ipython3",
   "version": "3.7.6"
  }
 },
 "nbformat": 4,
 "nbformat_minor": 2
}
