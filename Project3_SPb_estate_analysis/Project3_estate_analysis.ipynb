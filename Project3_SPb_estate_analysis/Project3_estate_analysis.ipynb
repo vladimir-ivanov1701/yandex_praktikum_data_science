{
 "cells": [
  {
   "cell_type": "markdown",
   "metadata": {},
   "source": [
    "# Продажа квартир в Санкт-Петербурге: анализ рынка недвижимости"
   ]
  },
  {
   "cell_type": "markdown",
   "metadata": {},
   "source": [
    "### Шаг 1. Откройте файл с данными и изучите общую информацию. "
   ]
  },
  {
   "cell_type": "code",
   "execution_count": 123,
   "metadata": {},
   "outputs": [],
   "source": [
    "import pandas as pd"
   ]
  },
  {
   "cell_type": "code",
   "execution_count": 124,
   "metadata": {},
   "outputs": [
    {
     "name": "stdout",
     "output_type": "stream",
     "text": [
      "<class 'pandas.core.frame.DataFrame'>\n",
      "RangeIndex: 23699 entries, 0 to 23698\n",
      "Data columns (total 22 columns):\n",
      "total_images            23699 non-null int64\n",
      "last_price              23699 non-null float64\n",
      "total_area              23699 non-null float64\n",
      "first_day_exposition    23699 non-null object\n",
      "rooms                   23699 non-null int64\n",
      "ceiling_height          14504 non-null float64\n",
      "floors_total            23613 non-null float64\n",
      "living_area             21796 non-null float64\n",
      "floor                   23699 non-null int64\n",
      "is_apartment            2775 non-null object\n",
      "studio                  23699 non-null bool\n",
      "open_plan               23699 non-null bool\n",
      "kitchen_area            21421 non-null float64\n",
      "balcony                 12180 non-null float64\n",
      "locality_name           23650 non-null object\n",
      "airports_nearest        18157 non-null float64\n",
      "cityCenters_nearest     18180 non-null float64\n",
      "parks_around3000        18181 non-null float64\n",
      "parks_nearest           8079 non-null float64\n",
      "ponds_around3000        18181 non-null float64\n",
      "ponds_nearest           9110 non-null float64\n",
      "days_exposition         20518 non-null float64\n",
      "dtypes: bool(2), float64(14), int64(3), object(3)\n",
      "memory usage: 3.7+ MB\n",
      "None\n"
     ]
    },
    {
     "data": {
      "text/html": [
       "<div>\n",
       "<style scoped>\n",
       "    .dataframe tbody tr th:only-of-type {\n",
       "        vertical-align: middle;\n",
       "    }\n",
       "\n",
       "    .dataframe tbody tr th {\n",
       "        vertical-align: top;\n",
       "    }\n",
       "\n",
       "    .dataframe thead th {\n",
       "        text-align: right;\n",
       "    }\n",
       "</style>\n",
       "<table border=\"1\" class=\"dataframe\">\n",
       "  <thead>\n",
       "    <tr style=\"text-align: right;\">\n",
       "      <th></th>\n",
       "      <th>total_images</th>\n",
       "      <th>last_price</th>\n",
       "      <th>total_area</th>\n",
       "      <th>first_day_exposition</th>\n",
       "      <th>rooms</th>\n",
       "      <th>ceiling_height</th>\n",
       "      <th>floors_total</th>\n",
       "      <th>living_area</th>\n",
       "      <th>floor</th>\n",
       "      <th>is_apartment</th>\n",
       "      <th>...</th>\n",
       "      <th>kitchen_area</th>\n",
       "      <th>balcony</th>\n",
       "      <th>locality_name</th>\n",
       "      <th>airports_nearest</th>\n",
       "      <th>cityCenters_nearest</th>\n",
       "      <th>parks_around3000</th>\n",
       "      <th>parks_nearest</th>\n",
       "      <th>ponds_around3000</th>\n",
       "      <th>ponds_nearest</th>\n",
       "      <th>days_exposition</th>\n",
       "    </tr>\n",
       "  </thead>\n",
       "  <tbody>\n",
       "    <tr>\n",
       "      <td>0</td>\n",
       "      <td>20</td>\n",
       "      <td>13000000.0</td>\n",
       "      <td>108.0</td>\n",
       "      <td>2019-03-07T00:00:00</td>\n",
       "      <td>3</td>\n",
       "      <td>2.70</td>\n",
       "      <td>16.0</td>\n",
       "      <td>51.0</td>\n",
       "      <td>8</td>\n",
       "      <td>NaN</td>\n",
       "      <td>...</td>\n",
       "      <td>25.0</td>\n",
       "      <td>NaN</td>\n",
       "      <td>Санкт-Петербург</td>\n",
       "      <td>18863.0</td>\n",
       "      <td>16028.0</td>\n",
       "      <td>1.0</td>\n",
       "      <td>482.0</td>\n",
       "      <td>2.0</td>\n",
       "      <td>755.0</td>\n",
       "      <td>NaN</td>\n",
       "    </tr>\n",
       "    <tr>\n",
       "      <td>1</td>\n",
       "      <td>7</td>\n",
       "      <td>3350000.0</td>\n",
       "      <td>40.4</td>\n",
       "      <td>2018-12-04T00:00:00</td>\n",
       "      <td>1</td>\n",
       "      <td>NaN</td>\n",
       "      <td>11.0</td>\n",
       "      <td>18.6</td>\n",
       "      <td>1</td>\n",
       "      <td>NaN</td>\n",
       "      <td>...</td>\n",
       "      <td>11.0</td>\n",
       "      <td>2.0</td>\n",
       "      <td>посёлок Шушары</td>\n",
       "      <td>12817.0</td>\n",
       "      <td>18603.0</td>\n",
       "      <td>0.0</td>\n",
       "      <td>NaN</td>\n",
       "      <td>0.0</td>\n",
       "      <td>NaN</td>\n",
       "      <td>81.0</td>\n",
       "    </tr>\n",
       "    <tr>\n",
       "      <td>2</td>\n",
       "      <td>10</td>\n",
       "      <td>5196000.0</td>\n",
       "      <td>56.0</td>\n",
       "      <td>2015-08-20T00:00:00</td>\n",
       "      <td>2</td>\n",
       "      <td>NaN</td>\n",
       "      <td>5.0</td>\n",
       "      <td>34.3</td>\n",
       "      <td>4</td>\n",
       "      <td>NaN</td>\n",
       "      <td>...</td>\n",
       "      <td>8.3</td>\n",
       "      <td>0.0</td>\n",
       "      <td>Санкт-Петербург</td>\n",
       "      <td>21741.0</td>\n",
       "      <td>13933.0</td>\n",
       "      <td>1.0</td>\n",
       "      <td>90.0</td>\n",
       "      <td>2.0</td>\n",
       "      <td>574.0</td>\n",
       "      <td>558.0</td>\n",
       "    </tr>\n",
       "    <tr>\n",
       "      <td>3</td>\n",
       "      <td>0</td>\n",
       "      <td>64900000.0</td>\n",
       "      <td>159.0</td>\n",
       "      <td>2015-07-24T00:00:00</td>\n",
       "      <td>3</td>\n",
       "      <td>NaN</td>\n",
       "      <td>14.0</td>\n",
       "      <td>NaN</td>\n",
       "      <td>9</td>\n",
       "      <td>NaN</td>\n",
       "      <td>...</td>\n",
       "      <td>NaN</td>\n",
       "      <td>0.0</td>\n",
       "      <td>Санкт-Петербург</td>\n",
       "      <td>28098.0</td>\n",
       "      <td>6800.0</td>\n",
       "      <td>2.0</td>\n",
       "      <td>84.0</td>\n",
       "      <td>3.0</td>\n",
       "      <td>234.0</td>\n",
       "      <td>424.0</td>\n",
       "    </tr>\n",
       "    <tr>\n",
       "      <td>4</td>\n",
       "      <td>2</td>\n",
       "      <td>10000000.0</td>\n",
       "      <td>100.0</td>\n",
       "      <td>2018-06-19T00:00:00</td>\n",
       "      <td>2</td>\n",
       "      <td>3.03</td>\n",
       "      <td>14.0</td>\n",
       "      <td>32.0</td>\n",
       "      <td>13</td>\n",
       "      <td>NaN</td>\n",
       "      <td>...</td>\n",
       "      <td>41.0</td>\n",
       "      <td>NaN</td>\n",
       "      <td>Санкт-Петербург</td>\n",
       "      <td>31856.0</td>\n",
       "      <td>8098.0</td>\n",
       "      <td>2.0</td>\n",
       "      <td>112.0</td>\n",
       "      <td>1.0</td>\n",
       "      <td>48.0</td>\n",
       "      <td>121.0</td>\n",
       "    </tr>\n",
       "  </tbody>\n",
       "</table>\n",
       "<p>5 rows × 22 columns</p>\n",
       "</div>"
      ],
      "text/plain": [
       "   total_images  last_price  total_area first_day_exposition  rooms  \\\n",
       "0            20  13000000.0       108.0  2019-03-07T00:00:00      3   \n",
       "1             7   3350000.0        40.4  2018-12-04T00:00:00      1   \n",
       "2            10   5196000.0        56.0  2015-08-20T00:00:00      2   \n",
       "3             0  64900000.0       159.0  2015-07-24T00:00:00      3   \n",
       "4             2  10000000.0       100.0  2018-06-19T00:00:00      2   \n",
       "\n",
       "   ceiling_height  floors_total  living_area  floor is_apartment  ...  \\\n",
       "0            2.70          16.0         51.0      8          NaN  ...   \n",
       "1             NaN          11.0         18.6      1          NaN  ...   \n",
       "2             NaN           5.0         34.3      4          NaN  ...   \n",
       "3             NaN          14.0          NaN      9          NaN  ...   \n",
       "4            3.03          14.0         32.0     13          NaN  ...   \n",
       "\n",
       "   kitchen_area  balcony    locality_name  airports_nearest  \\\n",
       "0          25.0      NaN  Санкт-Петербург           18863.0   \n",
       "1          11.0      2.0   посёлок Шушары           12817.0   \n",
       "2           8.3      0.0  Санкт-Петербург           21741.0   \n",
       "3           NaN      0.0  Санкт-Петербург           28098.0   \n",
       "4          41.0      NaN  Санкт-Петербург           31856.0   \n",
       "\n",
       "  cityCenters_nearest  parks_around3000  parks_nearest  ponds_around3000  \\\n",
       "0             16028.0               1.0          482.0               2.0   \n",
       "1             18603.0               0.0            NaN               0.0   \n",
       "2             13933.0               1.0           90.0               2.0   \n",
       "3              6800.0               2.0           84.0               3.0   \n",
       "4              8098.0               2.0          112.0               1.0   \n",
       "\n",
       "   ponds_nearest  days_exposition  \n",
       "0          755.0              NaN  \n",
       "1            NaN             81.0  \n",
       "2          574.0            558.0  \n",
       "3          234.0            424.0  \n",
       "4           48.0            121.0  \n",
       "\n",
       "[5 rows x 22 columns]"
      ]
     },
     "execution_count": 124,
     "metadata": {},
     "output_type": "execute_result"
    }
   ],
   "source": [
    "estate_data = pd.read_csv('/datasets/real_estate_data.csv', sep='\\t')\n",
    "print(estate_data.info())\n",
    "estate_data.head(5)"
   ]
  },
  {
   "cell_type": "markdown",
   "metadata": {},
   "source": [
    "### Вывод"
   ]
  },
  {
   "cell_type": "markdown",
   "metadata": {},
   "source": [
    "Всего в датафрейме 23699 строк и 22 столбца.\n",
    "Пропуски:\n",
    "\n",
    "- ceiling_height. Высота потолков не указана. Заполнять будем по медиане, сначала по каждому населённому пункту, затем оставшиеся - по общей медиане.\n",
    "- floors_total. Не указано, сколько этажей в доме. Таких немного, и мы не можем восстановить этажность на основе других данных. Оставим как есть.\n",
    "- living_area. Не указана жилплощадь. Заполняем по медиане в зависимости от города и количества комнат.\n",
    "- is_apartment. В большинстве строк пропуски. Логично предположить, что в пустых значениях должен быть признак False.\n",
    "- kitchen_area. Не указана площадь кухни. Посмотрим, какие это квартиры (если студии, то оставляем 0).\n",
    "- balcony. Не указано количество балконов. Логично предположить, что их нет, т.е. 0.\n",
    "- locality_name. Не указано название населённого пункта. Оставим, т.к. восстановить не можем.\n",
    "- airports_nearest. Не указано расстояние до ближайшего аэропорта. Если эту мерику считает Яндекс, лучше уточнить у коллег насчёт пропусков. Поскольку аэропорты есть только в крупных городах, считать расстояние через медиану для всех населённых пунктов не вполне корректно. Оставляем как есть.\n",
    "- cityCenters_nearest. Не указано расстояние до центра города. Заполнение по медиане может повлиять на полученную статистику и выводы, поэтому вставляем 0.\n",
    "- parks_around3000. Не указано число парков в радиусе 3 км. Предположим, что их нет и заполним пропуски нулями.\n",
    "- parks_nearest. Расстояние до ближайшего парка не указано, и таких большинство записей. Возможно, это означает, что расстояние до ближайшего парка слишком велико. Оставим как есть.\n",
    "- ponds_around3000. Число водоёмов в радиусе трёх километров. Предположим, что их нет и заполним пропуски нулями.\n",
    "- ponds_nearest. Расстояние до ближайшего водоёма. Пропусков большинство. Предположим, что расстояние слишком велико и оставим пропуски как есть.\n",
    "- days_exposition. Не указано число дней размещения объявления. Предположим, что объявление было снято в тот же день, что и опубликовано и подставим 0."
   ]
  },
  {
   "cell_type": "markdown",
   "metadata": {},
   "source": [
    "### Шаг 2. Предобработка данных"
   ]
  },
  {
   "cell_type": "markdown",
   "metadata": {},
   "source": [
    "Сначала разберёмся с пропусками. Начнем с высоты потолков, которую заполняем по медиане для каждого населённого пункта. Медиана применима, т.к. максимальная разница между медианой и средним составляет 1.6 метра."
   ]
  },
  {
   "cell_type": "code",
   "execution_count": 125,
   "metadata": {},
   "outputs": [],
   "source": [
    "avg_ceiling_height = estate_data.pivot_table(index='locality_name', values = 'ceiling_height', aggfunc=['median', 'mean'])\n",
    "avg_ceiling_height.columns=['median', 'average']\n",
    "avg_ceiling_height['difference'] = avg_ceiling_height['median'] - avg_ceiling_height['average']\n",
    "#print(avg_ceiling_height['difference'].min())\n",
    "#print(avg_ceiling_height['difference'].max())\n",
    "\n",
    "locations_list = estate_data['locality_name'].drop_duplicates()\n",
    "for location in locations_list:\n",
    "    median_height = estate_data.loc[(estate_data['locality_name'] == location) & \n",
    "            (estate_data['ceiling_height'] >0)].sort_values(by=['ceiling_height'])['ceiling_height'].median()\n",
    "    estate_data.loc[estate_data['locality_name'] == location, 'ceiling_height'] = estate_data.loc[\n",
    "                    estate_data['locality_name'] == location, 'ceiling_height'].fillna(median_height)"
   ]
  },
  {
   "cell_type": "markdown",
   "metadata": {},
   "source": [
    "Оставшиеся пустые значения заполняем по общей медиане."
   ]
  },
  {
   "cell_type": "code",
   "execution_count": 126,
   "metadata": {},
   "outputs": [],
   "source": [
    "median_height_total = estate_data.loc[\n",
    "        estate_data['ceiling_height'] > 0].sort_values(by='ceiling_height')['ceiling_height'].median()\n",
    "estate_data['ceiling_height'] = estate_data['ceiling_height'].fillna(median_height_total)\n",
    "#estate_data.info()"
   ]
  },
  {
   "cell_type": "markdown",
   "metadata": {},
   "source": [
    "Переходим к жилплощади. В городах типовая застройка, логично предположить, что средняя площадь жилья зависит от города и количества комнат."
   ]
  },
  {
   "cell_type": "code",
   "execution_count": 127,
   "metadata": {},
   "outputs": [
    {
     "name": "stdout",
     "output_type": "stream",
     "text": [
      "0\n",
      "19\n"
     ]
    }
   ],
   "source": [
    "print(estate_data['rooms'].min())\n",
    "print(estate_data['rooms'].max())\n",
    "for location in locations_list:\n",
    "    for i in range(0, 20):\n",
    "        median_area = estate_data.loc[(estate_data['locality_name'] == location) & \n",
    "                            (estate_data['rooms'] == i) &\n",
    "                            (estate_data['living_area'] > 0)].sort_values(by=['living_area'])['living_area'].median()\n",
    "        estate_data.loc[(estate_data['locality_name'] == location) & \n",
    "                        (estate_data['rooms'] == i), 'living_area'] = estate_data.loc[\n",
    "                        (estate_data['locality_name'] == location) & (estate_data['rooms'] == i), 'living_area'].fillna(median_area)"
   ]
  },
  {
   "cell_type": "markdown",
   "metadata": {},
   "source": [
    "Осталось 60 строк, где неизвестна площадь жилья. В этих строках много других пропусков, поэтому можно удалить их."
   ]
  },
  {
   "cell_type": "code",
   "execution_count": 128,
   "metadata": {},
   "outputs": [
    {
     "data": {
      "text/plain": [
       "0        51.00\n",
       "1        18.60\n",
       "2        34.30\n",
       "3        45.76\n",
       "4        32.00\n",
       "         ...  \n",
       "23694    73.30\n",
       "23695    38.00\n",
       "23696    29.70\n",
       "23697    31.00\n",
       "23698    12.30\n",
       "Name: living_area, Length: 23639, dtype: float64"
      ]
     },
     "execution_count": 128,
     "metadata": {},
     "output_type": "execute_result"
    }
   ],
   "source": [
    "estate_data[estate_data['living_area'].isnull()]\n",
    "estate_data['living_area'].dropna()"
   ]
  },
  {
   "cell_type": "markdown",
   "metadata": {},
   "source": [
    "Заполняем признак is_apartment."
   ]
  },
  {
   "cell_type": "code",
   "execution_count": 129,
   "metadata": {},
   "outputs": [
    {
     "name": "stdout",
     "output_type": "stream",
     "text": [
      "<class 'pandas.core.frame.DataFrame'>\n",
      "RangeIndex: 23699 entries, 0 to 23698\n",
      "Data columns (total 22 columns):\n",
      "total_images            23699 non-null int64\n",
      "last_price              23699 non-null float64\n",
      "total_area              23699 non-null float64\n",
      "first_day_exposition    23699 non-null object\n",
      "rooms                   23699 non-null int64\n",
      "ceiling_height          23699 non-null float64\n",
      "floors_total            23613 non-null float64\n",
      "living_area             23639 non-null float64\n",
      "floor                   23699 non-null int64\n",
      "is_apartment            23699 non-null bool\n",
      "studio                  23699 non-null bool\n",
      "open_plan               23699 non-null bool\n",
      "kitchen_area            21421 non-null float64\n",
      "balcony                 12180 non-null float64\n",
      "locality_name           23650 non-null object\n",
      "airports_nearest        18157 non-null float64\n",
      "cityCenters_nearest     18180 non-null float64\n",
      "parks_around3000        18181 non-null float64\n",
      "parks_nearest           8079 non-null float64\n",
      "ponds_around3000        18181 non-null float64\n",
      "ponds_nearest           9110 non-null float64\n",
      "days_exposition         20518 non-null float64\n",
      "dtypes: bool(3), float64(14), int64(3), object(2)\n",
      "memory usage: 3.5+ MB\n"
     ]
    }
   ],
   "source": [
    "estate_data['is_apartment'] = estate_data['is_apartment'].fillna(False)\n",
    "estate_data.info()"
   ]
  },
  {
   "cell_type": "markdown",
   "metadata": {},
   "source": [
    "Переходим к площади кухни."
   ]
  },
  {
   "cell_type": "code",
   "execution_count": 130,
   "metadata": {},
   "outputs": [
    {
     "data": {
      "text/plain": [
       "studio\n",
       "False    2129\n",
       "True      149\n",
       "Name: studio, dtype: int64"
      ]
     },
     "execution_count": 130,
     "metadata": {},
     "output_type": "execute_result"
    }
   ],
   "source": [
    "estate_data.loc[estate_data['kitchen_area'].isnull()].groupby('studio')['studio'].count()"
   ]
  },
  {
   "cell_type": "markdown",
   "metadata": {},
   "source": [
    "2129 студий и 149 обычных квартир. В студиях нет отдельной кухни, поэтому где studio = True, оставляем 0. Для остальных крватир мы не можем рассчитать площадь кухни, поэтому оставляем как есть."
   ]
  },
  {
   "cell_type": "code",
   "execution_count": 131,
   "metadata": {},
   "outputs": [],
   "source": [
    "estate_data.loc[estate_data['studio'] == True, 'kitchen_area'] = estate_data.loc[\n",
    "                estate_data['studio'] == False, 'kitchen_area'].fillna(0)\n",
    "#estate_data.info()"
   ]
  },
  {
   "cell_type": "markdown",
   "metadata": {},
   "source": [
    "Заполняем остальные пропуски."
   ]
  },
  {
   "cell_type": "code",
   "execution_count": 132,
   "metadata": {},
   "outputs": [],
   "source": [
    "#заполняем пропуски по балконам\n",
    "estate_data['balcony'] = estate_data['balcony'].fillna(0)\n",
    "#estate_data.info()\n",
    "\n",
    "#заполняем пропуски в cityCenters_nearest, parks_around3000, ponds_around3000 и days_exposition\n",
    "estate_data['cityCenters_nearest'] = estate_data['cityCenters_nearest'].fillna(0)\n",
    "estate_data['parks_around3000'] = estate_data['parks_around3000'].fillna(0)\n",
    "estate_data['ponds_around3000'] = estate_data['ponds_around3000'].fillna(0)\n",
    "estate_data['days_exposition'] = estate_data['days_exposition'].fillna(0)\n",
    "#estate_data.info()"
   ]
  },
  {
   "cell_type": "markdown",
   "metadata": {},
   "source": [
    "Преобразуем типы данных. total_area - приводим к типу int, т.к. площадь обычно округляется до квадратного метра. То же самое делаем для living_area.\n",
    "\n",
    "- first_day_exposition - преобразуем в формат даты с округлением до дня (отбрасываем время, т.к. для нас оно неважно)\n",
    "- floors_total - к типу int (не может быть 1,5 этажа в доме)\n",
    "- balcony - к типу int64 (полтора балкона тоже не может быть)\n",
    "- days_exposition - тоже к типу int (будем мерять в целых днях)"
   ]
  },
  {
   "cell_type": "code",
   "execution_count": 133,
   "metadata": {},
   "outputs": [
    {
     "name": "stdout",
     "output_type": "stream",
     "text": [
      "<class 'pandas.core.frame.DataFrame'>\n",
      "RangeIndex: 23699 entries, 0 to 23698\n",
      "Data columns (total 22 columns):\n",
      "total_images            23699 non-null int64\n",
      "last_price              23699 non-null int64\n",
      "total_area              23699 non-null int64\n",
      "first_day_exposition    23699 non-null datetime64[ns]\n",
      "rooms                   23699 non-null int64\n",
      "ceiling_height          23699 non-null float64\n",
      "floors_total            23613 non-null float64\n",
      "living_area             23639 non-null float64\n",
      "floor                   23699 non-null int64\n",
      "is_apartment            23699 non-null bool\n",
      "studio                  23699 non-null bool\n",
      "open_plan               23699 non-null bool\n",
      "kitchen_area            21421 non-null float64\n",
      "balcony                 23699 non-null int64\n",
      "locality_name           23650 non-null object\n",
      "airports_nearest        18157 non-null float64\n",
      "cityCenters_nearest     23699 non-null float64\n",
      "parks_around3000        23699 non-null float64\n",
      "parks_nearest           8079 non-null float64\n",
      "ponds_around3000        23699 non-null float64\n",
      "ponds_nearest           9110 non-null float64\n",
      "days_exposition         23699 non-null int64\n",
      "dtypes: bool(3), datetime64[ns](1), float64(10), int64(7), object(1)\n",
      "memory usage: 3.5+ MB\n"
     ]
    },
    {
     "data": {
      "text/html": [
       "<div>\n",
       "<style scoped>\n",
       "    .dataframe tbody tr th:only-of-type {\n",
       "        vertical-align: middle;\n",
       "    }\n",
       "\n",
       "    .dataframe tbody tr th {\n",
       "        vertical-align: top;\n",
       "    }\n",
       "\n",
       "    .dataframe thead th {\n",
       "        text-align: right;\n",
       "    }\n",
       "</style>\n",
       "<table border=\"1\" class=\"dataframe\">\n",
       "  <thead>\n",
       "    <tr style=\"text-align: right;\">\n",
       "      <th></th>\n",
       "      <th>total_images</th>\n",
       "      <th>last_price</th>\n",
       "      <th>total_area</th>\n",
       "      <th>first_day_exposition</th>\n",
       "      <th>rooms</th>\n",
       "      <th>ceiling_height</th>\n",
       "      <th>floors_total</th>\n",
       "      <th>living_area</th>\n",
       "      <th>floor</th>\n",
       "      <th>is_apartment</th>\n",
       "      <th>...</th>\n",
       "      <th>kitchen_area</th>\n",
       "      <th>balcony</th>\n",
       "      <th>locality_name</th>\n",
       "      <th>airports_nearest</th>\n",
       "      <th>cityCenters_nearest</th>\n",
       "      <th>parks_around3000</th>\n",
       "      <th>parks_nearest</th>\n",
       "      <th>ponds_around3000</th>\n",
       "      <th>ponds_nearest</th>\n",
       "      <th>days_exposition</th>\n",
       "    </tr>\n",
       "  </thead>\n",
       "  <tbody>\n",
       "    <tr>\n",
       "      <td>0</td>\n",
       "      <td>20</td>\n",
       "      <td>13000000</td>\n",
       "      <td>108</td>\n",
       "      <td>2019-03-07</td>\n",
       "      <td>3</td>\n",
       "      <td>2.70</td>\n",
       "      <td>16.0</td>\n",
       "      <td>51.00</td>\n",
       "      <td>8</td>\n",
       "      <td>False</td>\n",
       "      <td>...</td>\n",
       "      <td>25.0</td>\n",
       "      <td>0</td>\n",
       "      <td>Санкт-Петербург</td>\n",
       "      <td>18863.0</td>\n",
       "      <td>16028.0</td>\n",
       "      <td>1.0</td>\n",
       "      <td>482.0</td>\n",
       "      <td>2.0</td>\n",
       "      <td>755.0</td>\n",
       "      <td>0</td>\n",
       "    </tr>\n",
       "    <tr>\n",
       "      <td>1</td>\n",
       "      <td>7</td>\n",
       "      <td>3350000</td>\n",
       "      <td>40</td>\n",
       "      <td>2018-12-04</td>\n",
       "      <td>1</td>\n",
       "      <td>2.63</td>\n",
       "      <td>11.0</td>\n",
       "      <td>18.60</td>\n",
       "      <td>1</td>\n",
       "      <td>False</td>\n",
       "      <td>...</td>\n",
       "      <td>11.0</td>\n",
       "      <td>2</td>\n",
       "      <td>посёлок Шушары</td>\n",
       "      <td>12817.0</td>\n",
       "      <td>18603.0</td>\n",
       "      <td>0.0</td>\n",
       "      <td>NaN</td>\n",
       "      <td>0.0</td>\n",
       "      <td>NaN</td>\n",
       "      <td>81</td>\n",
       "    </tr>\n",
       "    <tr>\n",
       "      <td>2</td>\n",
       "      <td>10</td>\n",
       "      <td>5196000</td>\n",
       "      <td>56</td>\n",
       "      <td>2015-08-20</td>\n",
       "      <td>2</td>\n",
       "      <td>2.70</td>\n",
       "      <td>5.0</td>\n",
       "      <td>34.30</td>\n",
       "      <td>4</td>\n",
       "      <td>False</td>\n",
       "      <td>...</td>\n",
       "      <td>8.3</td>\n",
       "      <td>0</td>\n",
       "      <td>Санкт-Петербург</td>\n",
       "      <td>21741.0</td>\n",
       "      <td>13933.0</td>\n",
       "      <td>1.0</td>\n",
       "      <td>90.0</td>\n",
       "      <td>2.0</td>\n",
       "      <td>574.0</td>\n",
       "      <td>558</td>\n",
       "    </tr>\n",
       "    <tr>\n",
       "      <td>3</td>\n",
       "      <td>0</td>\n",
       "      <td>64900000</td>\n",
       "      <td>159</td>\n",
       "      <td>2015-07-24</td>\n",
       "      <td>3</td>\n",
       "      <td>2.70</td>\n",
       "      <td>14.0</td>\n",
       "      <td>45.76</td>\n",
       "      <td>9</td>\n",
       "      <td>False</td>\n",
       "      <td>...</td>\n",
       "      <td>NaN</td>\n",
       "      <td>0</td>\n",
       "      <td>Санкт-Петербург</td>\n",
       "      <td>28098.0</td>\n",
       "      <td>6800.0</td>\n",
       "      <td>2.0</td>\n",
       "      <td>84.0</td>\n",
       "      <td>3.0</td>\n",
       "      <td>234.0</td>\n",
       "      <td>424</td>\n",
       "    </tr>\n",
       "    <tr>\n",
       "      <td>4</td>\n",
       "      <td>2</td>\n",
       "      <td>10000000</td>\n",
       "      <td>100</td>\n",
       "      <td>2018-06-19</td>\n",
       "      <td>2</td>\n",
       "      <td>3.03</td>\n",
       "      <td>14.0</td>\n",
       "      <td>32.00</td>\n",
       "      <td>13</td>\n",
       "      <td>False</td>\n",
       "      <td>...</td>\n",
       "      <td>41.0</td>\n",
       "      <td>0</td>\n",
       "      <td>Санкт-Петербург</td>\n",
       "      <td>31856.0</td>\n",
       "      <td>8098.0</td>\n",
       "      <td>2.0</td>\n",
       "      <td>112.0</td>\n",
       "      <td>1.0</td>\n",
       "      <td>48.0</td>\n",
       "      <td>121</td>\n",
       "    </tr>\n",
       "  </tbody>\n",
       "</table>\n",
       "<p>5 rows × 22 columns</p>\n",
       "</div>"
      ],
      "text/plain": [
       "   total_images  last_price  total_area first_day_exposition  rooms  \\\n",
       "0            20    13000000         108           2019-03-07      3   \n",
       "1             7     3350000          40           2018-12-04      1   \n",
       "2            10     5196000          56           2015-08-20      2   \n",
       "3             0    64900000         159           2015-07-24      3   \n",
       "4             2    10000000         100           2018-06-19      2   \n",
       "\n",
       "   ceiling_height  floors_total  living_area  floor  is_apartment  ...  \\\n",
       "0            2.70          16.0        51.00      8         False  ...   \n",
       "1            2.63          11.0        18.60      1         False  ...   \n",
       "2            2.70           5.0        34.30      4         False  ...   \n",
       "3            2.70          14.0        45.76      9         False  ...   \n",
       "4            3.03          14.0        32.00     13         False  ...   \n",
       "\n",
       "   kitchen_area  balcony    locality_name  airports_nearest  \\\n",
       "0          25.0        0  Санкт-Петербург           18863.0   \n",
       "1          11.0        2   посёлок Шушары           12817.0   \n",
       "2           8.3        0  Санкт-Петербург           21741.0   \n",
       "3           NaN        0  Санкт-Петербург           28098.0   \n",
       "4          41.0        0  Санкт-Петербург           31856.0   \n",
       "\n",
       "  cityCenters_nearest  parks_around3000  parks_nearest  ponds_around3000  \\\n",
       "0             16028.0               1.0          482.0               2.0   \n",
       "1             18603.0               0.0            NaN               0.0   \n",
       "2             13933.0               1.0           90.0               2.0   \n",
       "3              6800.0               2.0           84.0               3.0   \n",
       "4              8098.0               2.0          112.0               1.0   \n",
       "\n",
       "   ponds_nearest  days_exposition  \n",
       "0          755.0                0  \n",
       "1            NaN               81  \n",
       "2          574.0              558  \n",
       "3          234.0              424  \n",
       "4           48.0              121  \n",
       "\n",
       "[5 rows x 22 columns]"
      ]
     },
     "execution_count": 133,
     "metadata": {},
     "output_type": "execute_result"
    }
   ],
   "source": [
    "estate_data['total_area'] = estate_data['total_area'].astype('int')\n",
    "try:\n",
    "    estate_data['living_area'] = estate_data['living_area'].astype('int')\n",
    "except:\n",
    "    pass\n",
    "estate_data['first_day_exposition'] = pd.to_datetime(estate_data['first_day_exposition'], format='%Y-%m-%dT%H:%M:%S').dt.round('D')\n",
    "try:\n",
    "    estate_data['floors_total'] = estate_data['floors_total'].astype('int')\n",
    "except:\n",
    "    pass\n",
    "estate_data['balcony'] = estate_data['balcony'].astype('int')\n",
    "estate_data['days_exposition'] = estate_data['days_exposition'].astype('int')\n",
    "estate_data['last_price'] = estate_data['last_price'].astype('int')\n",
    "estate_data.info()\n",
    "estate_data.head()"
   ]
  },
  {
   "cell_type": "markdown",
   "metadata": {},
   "source": [
    "### Шаг 3. Посчитайте и добавьте в таблицу"
   ]
  },
  {
   "cell_type": "code",
   "execution_count": 134,
   "metadata": {},
   "outputs": [
    {
     "name": "stdout",
     "output_type": "stream",
     "text": [
      "<class 'pandas.core.frame.DataFrame'>\n",
      "RangeIndex: 23699 entries, 0 to 23698\n",
      "Data columns (total 28 columns):\n",
      "total_images             23699 non-null int64\n",
      "last_price               23699 non-null int64\n",
      "total_area               23699 non-null int64\n",
      "first_day_exposition     23699 non-null datetime64[ns]\n",
      "rooms                    23699 non-null int64\n",
      "ceiling_height           23699 non-null float64\n",
      "floors_total             23613 non-null float64\n",
      "living_area              23639 non-null float64\n",
      "floor                    23699 non-null int64\n",
      "is_apartment             23699 non-null bool\n",
      "studio                   23699 non-null bool\n",
      "open_plan                23699 non-null bool\n",
      "kitchen_area             21421 non-null float64\n",
      "balcony                  23699 non-null int64\n",
      "locality_name            23650 non-null object\n",
      "airports_nearest         18157 non-null float64\n",
      "cityCenters_nearest      23699 non-null float64\n",
      "parks_around3000         23699 non-null float64\n",
      "parks_nearest            8079 non-null float64\n",
      "ponds_around3000         23699 non-null float64\n",
      "ponds_nearest            9110 non-null float64\n",
      "days_exposition          23699 non-null int64\n",
      "price_per_m2             23639 non-null float64\n",
      "exposition_weekday       23699 non-null int64\n",
      "exposition_month         23699 non-null int64\n",
      "exposition_year          23699 non-null int64\n",
      "living_vs_total_area     23699 non-null int64\n",
      "kitchen_vs_total_area    21421 non-null float64\n",
      "dtypes: bool(3), datetime64[ns](1), float64(12), int64(11), object(1)\n",
      "memory usage: 4.6+ MB\n"
     ]
    }
   ],
   "source": [
    "#считаем стоимость квадратного метра\n",
    "try:\n",
    "    estate_data['price_per_m2'] = (estate_data['last_price'] / estate_data['living_area']).round(2)\n",
    "except:\n",
    "    estate_data['price_per_m2'] = 0\n",
    "    \n",
    "#день недели публикации\n",
    "estate_data['exposition_weekday'] = estate_data['first_day_exposition'].dt.dayofweek\n",
    "#месяц публикации\n",
    "estate_data['exposition_month'] = pd.DatetimeIndex(estate_data['first_day_exposition']).month\n",
    "#год публикации\n",
    "estate_data['exposition_year'] = estate_data['first_day_exposition'].dt.to_period('Y')\n",
    "#соотношение жилой и общей площади\n",
    "try:\n",
    "    estate_data['living_vs_total_area'] = estate_data['living_area'] / ['total_area']\n",
    "except:\n",
    "    estate_data['living_vs_total_area'] = 0\n",
    "#отношение площади кухни к общей\n",
    "try:\n",
    "    estate_data['kitchen_vs_total_area'] = estate_data['kitchen_area'] / estate_data['total_area']\n",
    "except:\n",
    "    estate_data['kitchen_vs_total_area'] = 0\n",
    "    \n",
    "estate_data['exposition_year'] = estate_data['exposition_year'].astype('int')\n",
    "estate_data.info()"
   ]
  },
  {
   "cell_type": "markdown",
   "metadata": {},
   "source": [
    "### Шаг 4. Проведите исследовательский анализ данных и выполните инструкции:"
   ]
  },
  {
   "cell_type": "code",
   "execution_count": 135,
   "metadata": {},
   "outputs": [
    {
     "data": {
      "text/plain": [
       "<matplotlib.axes._subplots.AxesSubplot at 0x7efc544ac610>"
      ]
     },
     "execution_count": 135,
     "metadata": {},
     "output_type": "execute_result"
    },
    {
     "data": {
      "image/png": "[encoded data removed]",
      "text/plain": [
       "<Figure size 432x288 with 1 Axes>"
      ]
     },
     "metadata": {
      "needs_background": "light"
     },
     "output_type": "display_data"
    }
   ],
   "source": [
    "estate_data['total_area'].hist(bins=30)"
   ]
  },
  {
   "cell_type": "markdown",
   "metadata": {},
   "source": [
    "Большая часть квартир имеет площадь от 30 до 70 квадратных метров. Далее идёт спад, и жильё общей площадью более 100 квадратных метров практически не встречается. Согласно гистограмме, максимальная площадь - 300 квадратов. Жилья с большей площадью либо нет, либо это единичные экземпляры."
   ]
  },
  {
   "cell_type": "code",
   "execution_count": 136,
   "metadata": {},
   "outputs": [
    {
     "data": {
      "text/plain": [
       "<matplotlib.axes._subplots.AxesSubplot at 0x7efc5428c310>"
      ]
     },
     "execution_count": 136,
     "metadata": {},
     "output_type": "execute_result"
    },
    {
     "data": {
      "image/png": "[encoded data removed]",
      "text/plain": [
       "<Figure size 432x288 with 1 Axes>"
      ]
     },
     "metadata": {
      "needs_background": "light"
     },
     "output_type": "display_data"
    }
   ],
   "source": [
    "estate_data['last_price'].hist(bins=100, range=(0, 40000000))"
   ]
  },
  {
   "cell_type": "markdown",
   "metadata": {},
   "source": [
    "Наибольший пик приходится на 4 миллиона рублей. Далее идёт снижение. Жильё стоимостью более 40 миллионов практически не встречается."
   ]
  },
  {
   "cell_type": "code",
   "execution_count": 137,
   "metadata": {},
   "outputs": [
    {
     "data": {
      "text/plain": [
       "<matplotlib.axes._subplots.AxesSubplot at 0x7efc541674d0>"
      ]
     },
     "execution_count": 137,
     "metadata": {},
     "output_type": "execute_result"
    },
    {
     "data": {
      "image/png": "[encoded data removed]",
      "text/plain": [
       "<Figure size 432x288 with 1 Axes>"
      ]
     },
     "metadata": {
      "needs_background": "light"
     },
     "output_type": "display_data"
    }
   ],
   "source": [
    "estate_data['rooms'].hist()"
   ]
  },
  {
   "cell_type": "markdown",
   "metadata": {},
   "source": [
    "Больше всего жилья с 2 и 3 комнатами. Жильё, имеющее больше 6 комнат - редкость."
   ]
  },
  {
   "cell_type": "code",
   "execution_count": 138,
   "metadata": {},
   "outputs": [
    {
     "data": {
      "text/plain": [
       "<matplotlib.axes._subplots.AxesSubplot at 0x7efc528a7590>"
      ]
     },
     "execution_count": 138,
     "metadata": {},
     "output_type": "execute_result"
    },
    {
     "data": {
      "image/png": "[encoded data removed]",
      "text/plain": [
       "<Figure size 432x288 with 1 Axes>"
      ]
     },
     "metadata": {
      "needs_background": "light"
     },
     "output_type": "display_data"
    }
   ],
   "source": [
    "estate_data['ceiling_height'].hist(bins=100, range=(0, 10))"
   ]
  },
  {
   "cell_type": "markdown",
   "metadata": {},
   "source": [
    "В большинстве случаев высота потолка колеблется в районе 2,5-3 метров. Согласно гистограмме, максимум - 4 метра."
   ]
  },
  {
   "cell_type": "code",
   "execution_count": 139,
   "metadata": {},
   "outputs": [
    {
     "data": {
      "text/plain": [
       "count    23699.000000\n",
       "mean       156.608844\n",
       "std        213.546873\n",
       "min          0.000000\n",
       "25%         22.000000\n",
       "50%         74.000000\n",
       "75%        199.000000\n",
       "max       1580.000000\n",
       "Name: days_exposition, dtype: float64"
      ]
     },
     "execution_count": 139,
     "metadata": {},
     "output_type": "execute_result"
    },
    {
     "data": {
      "image/png": "[encoded data removed]",
      "text/plain": [
       "<Figure size 1008x432 with 1 Axes>"
      ]
     },
     "metadata": {
      "needs_background": "light"
     },
     "output_type": "display_data"
    }
   ],
   "source": [
    "estate_data['days_exposition'].hist(bins=100, figsize=(14, 6))\n",
    "estate_data['days_exposition'].describe()"
   ]
  },
  {
   "cell_type": "markdown",
   "metadata": {},
   "source": [
    "1) Согласно гистограмме, чаще всего объявления о продаже висят около 5 дней. Второй пик приходится на 50 дней. При этом среднее время продажи (параметр mean) равно 157 дням, а медиана (параметр 50%) - 74 дням. Это говорит о том, что достаточно много квартир с большим сроком продажи.\n",
    "\n",
    "2) Квартиль 75% имеет значение в 199 дней. То есть 75% квартир, выставленных на продажу, продаются быстрее, чем за 200 дней. При этом на гистограмме видно, что более 800 дней недвижимость практически не продаётся.\n",
    "\n",
    "Исходя из вышеописанного, можно вывести следующее: быстрой продажей считается продажа квартиры в течение 5 дней. Необычно долгой можно считать продажу более 800 дней.\n",
    "\n",
    "Далее отсекаем выброс на 5 днях и значения более 800 дней:"
   ]
  },
  {
   "cell_type": "code",
   "execution_count": 140,
   "metadata": {},
   "outputs": [
    {
     "data": {
      "text/plain": [
       "count    19437.000000\n",
       "mean       159.776715\n",
       "std        165.352861\n",
       "min          6.000000\n",
       "25%         45.000000\n",
       "50%         95.000000\n",
       "75%        217.000000\n",
       "max        800.000000\n",
       "Name: days_exposition, dtype: float64"
      ]
     },
     "execution_count": 140,
     "metadata": {},
     "output_type": "execute_result"
    },
    {
     "data": {
      "image/png": "[encoded data removed]",
      "text/plain": [
       "<Figure size 1008x432 with 1 Axes>"
      ]
     },
     "metadata": {
      "needs_background": "light"
     },
     "output_type": "display_data"
    }
   ],
   "source": [
    "estate_data_regular = estate_data[(estate_data['days_exposition'] > 5) & (estate_data['days_exposition'] <= 800)]\n",
    "estate_data_regular['days_exposition'].hist(bins=100, figsize=(14, 6))\n",
    "estate_data_regular['days_exposition'].describe()"
   ]
  },
  {
   "cell_type": "markdown",
   "metadata": {},
   "source": [
    "Стали более заметны выбросы в районе 40, 60 дней и менее выраженный в 90 дней. Среднее значение практически не изменилось (159 против 156 дней).\n",
    "Медиана выросла с 74 до 95 дней. В целом можно сказать, что выборка стала более сбалансированной.\n",
    "\n",
    "<b>Вывод:</b> если квартира не продаётся в первые 5 дней после публикации, она с наибольшей вероятностью продастся за 40 или 60 дней (т.е. в среднем за 1,5-2 месяца). Далее количество проданных квартир уменьшается с учеличением срока продажи."
   ]
  },
  {
   "cell_type": "code",
   "execution_count": 141,
   "metadata": {},
   "outputs": [
    {
     "name": "stdout",
     "output_type": "stream",
     "text": [
      "Корреляция цены от площади: 0.6536539818654253\n",
      "Корреляция цены от количества комнат: 0.36334284996489546\n",
      "Корреляция цены от расстояния до центра: -0.05096092866080519\n",
      "Корреляция цены от дня недели размещения: 0.0015501452176215431\n",
      "Корреляция цены от месяца размещения: 0.0027791287507397252\n",
      "Корреляция цены от года размещения: -0.043089036199508476\n"
     ]
    }
   ],
   "source": [
    "<div style=\"border:solid  green  2px; padding: 20px\"> <h1 style=\"color: green ; margin-bottom:20px\">Комментарий наставника</h1>\n",
    "\n",
    "Верно#считаем коэффициенты корреляции Пирсона\n",
    "print('Корреляция цены от площади:', estate_data['last_price'].corr(estate_data['total_area']))\n",
    "print('Корреляция цены от количества комнат:', estate_data['last_price'].corr(estate_data['rooms']))\n",
    "print('Корреляция цены от расстояния до центра:', estate_data['last_price'].corr(estate_data['cityCenters_nearest']))\n",
    "print('Корреляция цены от дня недели размещения:', estate_data['last_price'].corr(estate_data['exposition_weekday']))\n",
    "print('Корреляция цены от месяца размещения:', estate_data['last_price'].corr(estate_data['exposition_month']))\n",
    "print('Корреляция цены от года размещения:', estate_data['last_price'].corr(estate_data['exposition_year']))"
   ]
  },
  {
   "cell_type": "markdown",
   "metadata": {},
   "source": [
    "На основе расчётов корреляции можно сказать, что есть слабая зависимость цены от площади и ещё меньшая - от количества комнат. При этом цена практически никак не связана с расстоянием до центра, днём недели, месяцем или годом размещения объявления. Скорее всего, влияние оказывают другие параметры, например, город (в Санкт-Петербурге зависимость цены от расположения явно выше, чем в Выборге).\n",
    "\n",
    "Далее отбираем топ-10 населённых пунктов по количеству объявлений и считаем стоимость квадратного метра:"
   ]
  },
  {
   "cell_type": "code",
   "execution_count": 142,
   "metadata": {},
   "outputs": [
    {
     "data": {
      "text/html": [
       "<div>\n",
       "<style scoped>\n",
       "    .dataframe tbody tr th:only-of-type {\n",
       "        vertical-align: middle;\n",
       "    }\n",
       "\n",
       "    .dataframe tbody tr th {\n",
       "        vertical-align: top;\n",
       "    }\n",
       "\n",
       "    .dataframe thead th {\n",
       "        text-align: right;\n",
       "    }\n",
       "</style>\n",
       "<table border=\"1\" class=\"dataframe\">\n",
       "  <thead>\n",
       "    <tr style=\"text-align: right;\">\n",
       "      <th></th>\n",
       "      <th>total</th>\n",
       "      <th>avg_price_m2</th>\n",
       "    </tr>\n",
       "    <tr>\n",
       "      <th>locality_name</th>\n",
       "      <th></th>\n",
       "      <th></th>\n",
       "    </tr>\n",
       "  </thead>\n",
       "  <tbody>\n",
       "    <tr>\n",
       "      <td>Санкт-Петербург</td>\n",
       "      <td>15721</td>\n",
       "      <td>219132.99</td>\n",
       "    </tr>\n",
       "    <tr>\n",
       "      <td>посёлок Парголово</td>\n",
       "      <td>327</td>\n",
       "      <td>200034.15</td>\n",
       "    </tr>\n",
       "    <tr>\n",
       "      <td>Пушкин</td>\n",
       "      <td>369</td>\n",
       "      <td>192158.26</td>\n",
       "    </tr>\n",
       "    <tr>\n",
       "      <td>деревня Кудрово</td>\n",
       "      <td>299</td>\n",
       "      <td>187925.41</td>\n",
       "    </tr>\n",
       "    <tr>\n",
       "      <td>посёлок Мурино</td>\n",
       "      <td>522</td>\n",
       "      <td>176086.09</td>\n",
       "    </tr>\n",
       "    <tr>\n",
       "      <td>посёлок Шушары</td>\n",
       "      <td>440</td>\n",
       "      <td>155276.90</td>\n",
       "    </tr>\n",
       "    <tr>\n",
       "      <td>Всеволожск</td>\n",
       "      <td>398</td>\n",
       "      <td>133704.57</td>\n",
       "    </tr>\n",
       "    <tr>\n",
       "      <td>Колпино</td>\n",
       "      <td>338</td>\n",
       "      <td>132516.89</td>\n",
       "    </tr>\n",
       "    <tr>\n",
       "      <td>Гатчина</td>\n",
       "      <td>307</td>\n",
       "      <td>121895.82</td>\n",
       "    </tr>\n",
       "    <tr>\n",
       "      <td>Выборг</td>\n",
       "      <td>237</td>\n",
       "      <td>100044.99</td>\n",
       "    </tr>\n",
       "  </tbody>\n",
       "</table>\n",
       "</div>"
      ],
      "text/plain": [
       "                   total  avg_price_m2\n",
       "locality_name                         \n",
       "Санкт-Петербург    15721     219132.99\n",
       "посёлок Парголово    327     200034.15\n",
       "Пушкин               369     192158.26\n",
       "деревня Кудрово      299     187925.41\n",
       "посёлок Мурино       522     176086.09\n",
       "посёлок Шушары       440     155276.90\n",
       "Всеволожск           398     133704.57\n",
       "Колпино              338     132516.89\n",
       "Гатчина              307     121895.82\n",
       "Выборг               237     100044.99"
      ]
     },
     "execution_count": 142,
     "metadata": {},
     "output_type": "execute_result"
    }
   ],
   "source": [
    "estate_data_top10 = estate_data.pivot_table(index='locality_name', values='total_images', aggfunc='count').sort_values(\n",
    "    by='total_images', ascending=False).head(10)\n",
    "\n",
    "estate_data_top10['avg_m2_price'] = estate_data.pivot_table(\n",
    "    index='locality_name', values='price_per_m2', aggfunc='mean').round(decimals=2)\n",
    "\n",
    "estate_data_top10.columns=['total', 'avg_price_m2']\n",
    "estate_data_top10.sort_values(by='avg_price_m2', ascending=False)"
   ]
  },
  {
   "cell_type": "markdown",
   "metadata": {},
   "source": [
    "<b>Вывод:</b> самый дешёвый город - Выборг, а самые дорогие квартиры - в Санкт-Петербурге.\n",
    "\n",
    "Посмотрим на срез по Питеру подробнее. Переведём расстояние до центра в километры, рассчитаем среднюю стоимость по каждому километру и построим график зависимости цены от расстояния."
   ]
  },
  {
   "cell_type": "code",
   "execution_count": 143,
   "metadata": {},
   "outputs": [
    {
     "name": "stdout",
     "output_type": "stream",
     "text": [
      "<class 'pandas.core.frame.DataFrame'>\n",
      "Int64Index: 15721 entries, 0 to 23697\n",
      "Data columns (total 30 columns):\n",
      "total_images                  15721 non-null int64\n",
      "last_price                    15721 non-null int64\n",
      "total_area                    15721 non-null int64\n",
      "first_day_exposition          15721 non-null datetime64[ns]\n",
      "rooms                         15721 non-null int64\n",
      "ceiling_height                15721 non-null float64\n",
      "floors_total                  15651 non-null float64\n",
      "living_area                   15721 non-null float64\n",
      "floor                         15721 non-null int64\n",
      "is_apartment                  15721 non-null bool\n",
      "studio                        15721 non-null bool\n",
      "open_plan                     15721 non-null bool\n",
      "kitchen_area                  14342 non-null float64\n",
      "balcony                       15721 non-null int64\n",
      "locality_name                 15721 non-null object\n",
      "airports_nearest              15636 non-null float64\n",
      "cityCenters_nearest           15721 non-null float64\n",
      "parks_around3000              15721 non-null float64\n",
      "parks_nearest                 7284 non-null float64\n",
      "ponds_around3000              15721 non-null float64\n",
      "ponds_nearest                 7983 non-null float64\n",
      "days_exposition               15721 non-null int64\n",
      "price_per_m2                  15721 non-null float64\n",
      "exposition_weekday            15721 non-null int64\n",
      "exposition_month              15721 non-null int64\n",
      "exposition_year               15721 non-null int64\n",
      "living_vs_total_area          15721 non-null int64\n",
      "kitchen_vs_total_area         14342 non-null float64\n",
      "center_distance_km            15721 non-null float64\n",
      "avg_price_per_km_to_center    15721 non-null float64\n",
      "dtypes: bool(3), datetime64[ns](1), float64(14), int64(11), object(1)\n",
      "memory usage: 3.4+ MB\n"
     ]
    },
    {
     "name": "stderr",
     "output_type": "stream",
     "text": [
      "/opt/conda/lib/python3.7/site-packages/ipykernel_launcher.py:3: SettingWithCopyWarning: \n",
      "A value is trying to be set on a copy of a slice from a DataFrame.\n",
      "Try using .loc[row_indexer,col_indexer] = value instead\n",
      "\n",
      "See the caveats in the documentation: http://pandas.pydata.org/pandas-docs/stable/user_guide/indexing.html#returning-a-view-versus-a-copy\n",
      "  This is separate from the ipykernel package so we can avoid doing imports until\n"
     ]
    },
    {
     "data": {
      "text/plain": [
       "<matplotlib.axes._subplots.AxesSubplot at 0x7efc557c30d0>"
      ]
     },
     "execution_count": 143,
     "metadata": {},
     "output_type": "execute_result"
    },
    {
     "data": {
      "image/png": "[encoded data removed]",
      "text/plain": [
       "<Figure size 864x432 with 1 Axes>"
      ]
     },
     "metadata": {
      "needs_background": "light"
     },
     "output_type": "display_data"
    }
   ],
   "source": [
    "estate_data_spb = estate_data.loc[estate_data['locality_name'] == 'Санкт-Петербург']\n",
    "\n",
    "estate_data_spb['center_distance_km'] = (estate_data_spb['cityCenters_nearest'] / 1000).round(decimals=0)\n",
    "\n",
    "#print(estate_data_spb['center_distance_km'].max())\n",
    "for i in range(0, 30):\n",
    "    avg_price_per_km = estate_data_spb.loc[estate_data_spb['center_distance_km'] == i]['last_price'].mean()\n",
    "    estate_data_spb.loc[estate_data_spb['center_distance_km'] == i, 'avg_price_per_km_to_center'] = avg_price_per_km\n",
    "    \n",
    "estate_data_spb.info()\n",
    "(estate_data_spb\n",
    "    .pivot_table(index='center_distance_km', values='avg_price_per_km_to_center', aggfunc='mean')\n",
    "    .plot(grid=True, figsize=(12, 6))\n",
    ")"
   ]
  },
  {
   "cell_type": "markdown",
   "metadata": {},
   "source": [
    "<b>Вывод:</b> недвижимость ближе 10 километров от центра резко начинает расти в цене.\n",
    "\n",
    "Сделаем аналитику по недвижимости в центре и сравним параметры с остальным городом:"
   ]
  },
  {
   "cell_type": "code",
   "execution_count": 144,
   "metadata": {},
   "outputs": [
    {
     "data": {
      "text/plain": [
       "<matplotlib.axes._subplots.AxesSubplot at 0x7efc523b9d90>"
      ]
     },
     "execution_count": 144,
     "metadata": {},
     "output_type": "execute_result"
    },
    {
     "data": {
      "image/png": "[encoded data removed]",
      "text/plain": [
       "<Figure size 432x288 with 1 Axes>"
      ]
     },
     "metadata": {
      "needs_background": "light"
     },
     "output_type": "display_data"
    }
   ],
   "source": [
    "estate_data_spb_center = estate_data_spb.loc[estate_data_spb['center_distance_km'] < 10]\n",
    "estate_data_spb_center['total_area'].hist()"
   ]
  },
  {
   "cell_type": "code",
   "execution_count": 145,
   "metadata": {},
   "outputs": [
    {
     "data": {
      "text/plain": [
       "<matplotlib.axes._subplots.AxesSubplot at 0x7efc522d4690>"
      ]
     },
     "execution_count": 145,
     "metadata": {},
     "output_type": "execute_result"
    },
    {
     "data": {
      "image/png": "[encoded data removed]",
      "text/plain": [
       "<Figure size 432x288 with 1 Axes>"
      ]
     },
     "metadata": {
      "needs_background": "light"
     },
     "output_type": "display_data"
    }
   ],
   "source": [
    "#строим гистограмму для всего города\n",
    "estate_data_spb['total_area'].hist()"
   ]
  },
  {
   "cell_type": "markdown",
   "metadata": {},
   "source": [
    "<b>Вывод:</b> в центре выше доля квартир с большой площадью (от 100 квадратов)."
   ]
  },
  {
   "cell_type": "code",
   "execution_count": 146,
   "metadata": {},
   "outputs": [
    {
     "data": {
      "text/plain": [
       "<matplotlib.axes._subplots.AxesSubplot at 0x7efc522519d0>"
      ]
     },
     "execution_count": 146,
     "metadata": {},
     "output_type": "execute_result"
    },
    {
     "data": {
      "image/png": "[encoded data removed]",
      "text/plain": [
       "<Figure size 432x288 with 1 Axes>"
      ]
     },
     "metadata": {
      "needs_background": "light"
     },
     "output_type": "display_data"
    }
   ],
   "source": [
    "#цена по центру\n",
    "estate_data_spb_center['last_price'].hist(bins=50, range=(0, 40000000))"
   ]
  },
  {
   "cell_type": "code",
   "execution_count": 147,
   "metadata": {},
   "outputs": [
    {
     "data": {
      "text/plain": [
       "<matplotlib.axes._subplots.AxesSubplot at 0x7efc52170d50>"
      ]
     },
     "execution_count": 147,
     "metadata": {},
     "output_type": "execute_result"
    },
    {
     "data": {
      "image/png": "[encoded data removed]",
      "text/plain": [
       "<Figure size 432x288 with 1 Axes>"
      ]
     },
     "metadata": {
      "needs_background": "light"
     },
     "output_type": "display_data"
    }
   ],
   "source": [
    "#цена по всему городу\n",
    "estate_data_spb['last_price'].hist(bins=50, range=(0, 30000000))"
   ]
  },
  {
   "cell_type": "markdown",
   "metadata": {},
   "source": [
    "<b>Вывод:</b> в центре недвижимость дороже. Больше всего квартир по цене 6-7 миллионов рублей, далее с ростом цены количество продающейся недвижимости снижается. В целом по городу пик приходится на 4 миллиона рублей за квартиру."
   ]
  },
  {
   "cell_type": "code",
   "execution_count": 148,
   "metadata": {},
   "outputs": [
    {
     "data": {
      "text/plain": [
       "<matplotlib.axes._subplots.AxesSubplot at 0x7efc520b2090>"
      ]
     },
     "execution_count": 148,
     "metadata": {},
     "output_type": "execute_result"
    },
    {
     "data": {
      "image/png": "[encoded data removed]",
      "text/plain": [
       "<Figure size 432x288 with 1 Axes>"
      ]
     },
     "metadata": {
      "needs_background": "light"
     },
     "output_type": "display_data"
    }
   ],
   "source": [
    "#число комнат по центру\n",
    "estate_data_spb_center['rooms'].hist()"
   ]
  },
  {
   "cell_type": "code",
   "execution_count": 149,
   "metadata": {},
   "outputs": [
    {
     "data": {
      "text/plain": [
       "<matplotlib.axes._subplots.AxesSubplot at 0x7efc51f83710>"
      ]
     },
     "execution_count": 149,
     "metadata": {},
     "output_type": "execute_result"
    },
    {
     "data": {
      "image/png": "[encoded data removed]",
      "text/plain": [
       "<Figure size 432x288 with 1 Axes>"
      ]
     },
     "metadata": {
      "needs_background": "light"
     },
     "output_type": "display_data"
    }
   ],
   "source": [
    "#число комнат по городу\n",
    "estate_data_spb['rooms'].hist()"
   ]
  },
  {
   "cell_type": "markdown",
   "metadata": {},
   "source": [
    "<b>Вывод:</b> по количеству комнат картина очень похожая. Однако в центре города значительно ниже доля жилья с 1 комнатой и квартир-студий (0 комнат). Что логично, т.к. такое жильё в основном строят в новых районах на окраине города."
   ]
  },
  {
   "cell_type": "code",
   "execution_count": 150,
   "metadata": {},
   "outputs": [
    {
     "data": {
      "text/plain": [
       "<matplotlib.axes._subplots.AxesSubplot at 0x7efc51f0e0d0>"
      ]
     },
     "execution_count": 150,
     "metadata": {},
     "output_type": "execute_result"
    },
    {
     "data": {
      "image/png": "[encoded data removed]",
      "text/plain": [
       "<Figure size 432x288 with 1 Axes>"
      ]
     },
     "metadata": {
      "needs_background": "light"
     },
     "output_type": "display_data"
    }
   ],
   "source": [
    "#высота потолков в центре\n",
    "estate_data_spb_center['ceiling_height'].hist(bins=20, range=(2, 5))"
   ]
  },
  {
   "cell_type": "code",
   "execution_count": 151,
   "metadata": {},
   "outputs": [
    {
     "data": {
      "text/plain": [
       "<matplotlib.axes._subplots.AxesSubplot at 0x7efc51e8b610>"
      ]
     },
     "execution_count": 151,
     "metadata": {},
     "output_type": "execute_result"
    },
    {
     "data": {
      "image/png": "[encoded data removed]",
      "text/plain": [
       "<Figure size 432x288 with 1 Axes>"
      ]
     },
     "metadata": {
      "needs_background": "light"
     },
     "output_type": "display_data"
    }
   ],
   "source": [
    "#высота потолков в городе\n",
    "estate_data_spb['ceiling_height'].hist(bins=20, range=(2, 5))"
   ]
  },
  {
   "cell_type": "markdown",
   "metadata": {},
   "source": [
    "<b>Вывод:</b> в целом картина в центре города совпадает с тем, что мы видим в целом по Питеру. Примечательно, что в центре квартир с потолком 3 метра существенно больше, чем с потолком 2.80. Потолков более 4 метров практически не встречается. Самая популярная высота - 2.6 метра.\n",
    "\n",
    "Теперь посчитаем корреляцию цены в целом по городу (т.к. ранее мы считали по всему изначальному датафрейму) и для центра города. Корреляцию будем смотреть со следующими параметрами:\n",
    "\n",
    "- число комнат\n",
    "- этаж\n",
    "- удалённость от центра\n",
    "- дата размещения объявления\n",
    "\n",
    "При выводе указан формат до 4 знаков после запятой, чтобы избежать ошибок при выводе (когда число записывается в виде 1е8)"
   ]
  },
  {
   "cell_type": "code",
   "execution_count": 152,
   "metadata": {},
   "outputs": [
    {
     "name": "stdout",
     "output_type": "stream",
     "text": [
      "Корреляция для всего города:\n",
      "Цена - число комнат: 0.3724\n",
      "Цена - этаж: -0.0008\n",
      "Цена - удалённость от центра: -0.2606\n",
      "Цена - день недели размещения объявления: 0.0062\n",
      "Цена - месяц размещения объявления: 0.0000\n",
      "Цена - год размещения объявления: -0.0446\n",
      "\n",
      "Корреляция для центра города:\n",
      "Цена - число комнат: 0.3525\n",
      "Цена - этаж: 0.0857\n",
      "Цена - удалённость от центра: -0.1221\n",
      "Цена - день недели размещения объявления: 0.0176\n",
      "Цена - месяц размещения объявления: 0.0041\n",
      "Цена - год размещения объявления: -0.0535\n"
     ]
    }
   ],
   "source": [
    "print('Корреляция для всего города:')\n",
    "print('Цена - число комнат: {:.4f}'.format(estate_data_spb['last_price'].corr(estate_data_spb['rooms'])))\n",
    "print('Цена - этаж: {:.4f}'.format(estate_data_spb['last_price'].corr(estate_data_spb['floor'])))\n",
    "print('Цена - удалённость от центра: {:.4f}'.format(estate_data_spb[\n",
    "    'last_price'].corr(estate_data_spb['center_distance_km'])))\n",
    "print('Цена - день недели размещения объявления: {:.4f}'.format(estate_data_spb[\n",
    "    'last_price'].corr(estate_data_spb['exposition_weekday'])))\n",
    "print('Цена - месяц размещения объявления: {:.4f}'.format(estate_data_spb[\n",
    "    'last_price'].corr(estate_data_spb['exposition_month'])))\n",
    "print('Цена - год размещения объявления: {:.4f}'.format(estate_data_spb[\n",
    "    'last_price'].corr(estate_data_spb['exposition_year'])))\n",
    "print()\n",
    "print('Корреляция для центра города:')\n",
    "print('Цена - число комнат: {:.4f}'.format(estate_data_spb_center[\n",
    "    'last_price'].corr(estate_data_spb_center['rooms'])))\n",
    "print('Цена - этаж: {:.4f}'.format(estate_data_spb_center['last_price'].corr(estate_data_spb_center['floor'])))\n",
    "print('Цена - удалённость от центра: {:.4f}'.format(estate_data_spb_center[\n",
    "    'last_price'].corr(estate_data_spb_center['center_distance_km'])))\n",
    "print('Цена - день недели размещения объявления: {:.4f}'.format(estate_data_spb_center[\n",
    "    'last_price'].corr(estate_data_spb_center['exposition_weekday'])))\n",
    "print('Цена - месяц размещения объявления: {:.4f}'.format(estate_data_spb_center[\n",
    "    'last_price'].corr(estate_data_spb_center['exposition_month'])))\n",
    "print('Цена - год размещения объявления: {:.4f}'.format(estate_data_spb_center[\n",
    "    'last_price'].corr(estate_data_spb_center['exposition_year'])))"
   ]
  },
  {
   "cell_type": "markdown",
   "metadata": {},
   "source": [
    "<b>Вывод:</b> есть слабо выраженная положительная корреляция между ценой и числом комнат, причём для центра города эта корреляция выражена слабее. Также наблюдается слабая обратная зависимость цены от расстояния до центра города, если мы берём срез по городу. В самом центре эта зависимость выражена не так сильно. Действительно, ранее на графике присутствует просадка в цене при расстоянии до центра менее 5 км. Это позволяет сделать вывод, что на цену помимо расстояния влияют другие параметры и некорректно оценивать параметры по отдельности."
   ]
  },
  {
   "cell_type": "markdown",
   "metadata": {},
   "source": [
    "### Шаг 5. Общий вывод"
   ]
  },
  {
   "cell_type": "markdown",
   "metadata": {},
   "source": [
    "1. Полученные данные неполные. Возможно, отсутствие каких-то данных (например, является ли недвижимость апартаменатми), появляется вследсдвие недоработки онлайн-формы. Другие (например, расстояние до центра), возможно, некорректно считаются алогритмом сайата. В любом случае, собранную информацию необходимо передать коллегам для анализа и исправления возможных ошибок.\n",
    "2. Большая часть квартир имеет площадь от 30 до 70 квадратных метров. Жильё общей площадью более 100 квадратных метров практически не встречается. Максимальная площадь - 300 квадратов. Жилья с большей площадью либо нет, либо это единичные экземпляры.\n",
    "3. Больше всего квартир продаётся по цене около 4 миллионов рублей.Жильё стоимостью более 40 миллионов практически не встречается.\n",
    "4. Больше всего жилья с 2 и 3 комнатами. Жильё, имеющее больше 6 комнат - редкость.\n",
    "5. В большинстве случаев высота потолка колеблется в районе 2,5-3 метров.\n",
    "6. Большинство объявлений о продаже висят около 5 дней. Вряд ли действительно продажа происходит так быстро, возможно, это снятие и публикакция одного и того же объявления с целью поднять объявление в выдаче либо иные манипуляции. Это нужно отследить. Если квартира не продаётся в первые 5 дней после публикации, она с наибольшей вероятностью продастся за 40 или 60 дней (т.е. в среднем за 1,5-2 месяца). 75% квартир, выставленных на продажу, продаются быстрее, чем за 200 дней. Исходя из этих данных, можно сказать, что быстрой продажей считается продажа квартиры в течение 5 дней. Необычно долгой можно считать продажу более 800 дней.\n",
    "7. Самый дешёвый город - Выборг, а самые дорогие квартиры - в Санкт-Петербурге.\n",
    "8. В Санкт-Петербурге недвижимость ближе 10 километров от центра резко начинает расти в цене.\n",
    "9. В центре Петербурга выше доля квартир с большой площадью (от 100 квадратных метров).\n",
    "10. В центре Питера недвижимость дороже. Больше всего квартир по цене 6-7 миллионов рублей, далее с ростом цены количество продающейся недвижимости снижается. В целом по городу пик приходится на 4 миллиона рублей за квартиру.\n",
    "11. В центре Петербурга значительно ниже доля жилья с 1 комнатой и квартир-студий (0 комнат). Что логично, т.к. такое жильё в основном строят в новых районах на окраине города.\n",
    "12. В центре города квартир с потолком 3 метра существенно больше, чем с потолком 2.80. Потолков более 4 метров практически не встречается. Самая популярная высота - 2.6 метра."
   ]
  }
 ],
 "metadata": {
  "kernelspec": {
   "display_name": "Python 3",
   "language": "python",
   "name": "python3"
  },
  "language_info": {
   "codemirror_mode": {
    "name": "ipython",
    "version": 3
   },
   "file_extension": ".py",
   "mimetype": "text/x-python",
   "name": "python",
   "nbconvert_exporter": "python",
   "pygments_lexer": "ipython3",
   "version": "3.7.6"
  }
 },
 "nbformat": 4,
 "nbformat_minor": 2
}
